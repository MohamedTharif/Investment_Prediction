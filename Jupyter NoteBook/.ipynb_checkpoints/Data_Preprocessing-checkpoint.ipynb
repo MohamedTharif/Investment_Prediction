{
 "cells": [
  {
   "cell_type": "markdown",
   "id": "8b0c7e02-1461-4865-a060-c2224f7bd266",
   "metadata": {},
   "source": [
    "## Ineuron Machine Learning Project"
   ]
  },
  {
   "cell_type": "markdown",
   "id": "80883562-7110-4f64-9aeb-31fceafa8f2e",
   "metadata": {},
   "source": [
    "## Stock Price Prediction"
   ]
  },
  {
   "cell_type": "markdown",
   "id": "70371b35-2587-44eb-9bdc-f7e69d9f8db6",
   "metadata": {},
   "source": [
    "## Exploratory Data Analysis"
   ]
  },
  {
   "cell_type": "code",
   "execution_count": 2,
   "id": "e4bc1ee1-8dbb-45cb-864f-78e66241e03d",
   "metadata": {},
   "outputs": [],
   "source": [
    "import yfinance as yf\n",
    "\n",
    "from yahooquery import search\n",
    "\n",
    "import pandas as pd\n",
    "\n",
    "import numpy as np\n",
    "\n",
    "import matplotlib.pyplot as plt\n",
    "\n",
    "from datetime import date, timedelta\n",
    "\n",
    "import plotly.graph_objects as go\n",
    "\n",
    "import plotly.express as px\n",
    "\n",
    "from plotly.subplots import make_subplots \n",
    "\n"
   ]
  },
  {
   "cell_type": "code",
   "execution_count": 35,
   "id": "e05c3a9d-3b11-4199-9a95-94d2d087692a",
   "metadata": {},
   "outputs": [],
   "source": [
    "import warnings\n",
    "warnings.filterwarnings('ignore')"
   ]
  },
  {
   "cell_type": "code",
   "execution_count": 6,
   "id": "fbc76179-dc23-470c-9bf6-2ad37dbbda4b",
   "metadata": {},
   "outputs": [],
   "source": [
    "\n",
    "# Create a Ticker object for the desired stock\n",
    "ticker_symbol = 'AAPL'  # Example: Apple Inc.\n",
    "ticker = yf.Ticker(ticker_symbol)\n"
   ]
  },
  {
   "cell_type": "markdown",
   "id": "3a4d0464-5d91-4fe2-a2ca-77313e11f6c0",
   "metadata": {},
   "source": [
    "## Loading the Data"
   ]
  },
  {
   "cell_type": "code",
   "execution_count": 9,
   "id": "2ba7167f-da45-4b4e-ac6b-5305574f2a77",
   "metadata": {},
   "outputs": [
    {
     "name": "stderr",
     "output_type": "stream",
     "text": [
      "[*********************100%%**********************]  1 of 1 completed"
     ]
    },
    {
     "name": "stdout",
     "output_type": "stream",
     "text": [
      "                Open      High       Low     Close  Adj Close     Volume\n",
      "Date                                                                    \n",
      "1980-12-12  0.128348  0.128906  0.128348  0.128348   0.099058  469033600\n",
      "1980-12-15  0.122210  0.122210  0.121652  0.121652   0.093890  175884800\n",
      "1980-12-16  0.113281  0.113281  0.112723  0.112723   0.086999  105728000\n",
      "\n",
      "                   Open        High         Low       Close   Adj Close  \\\n",
      "Date                                                                     \n",
      "2024-07-11  231.389999  232.389999  225.770004  227.570007  227.570007   \n",
      "2024-07-12  228.919998  232.639999  228.679993  230.539993  230.539993   \n",
      "2024-07-15  236.479996  237.229996  233.089996  234.399994  234.399994   \n",
      "\n",
      "              Volume  \n",
      "Date                  \n",
      "2024-07-11  64710600  \n",
      "2024-07-12  53008200  \n",
      "2024-07-15  62549700  \n"
     ]
    },
    {
     "name": "stderr",
     "output_type": "stream",
     "text": [
      "\n"
     ]
    }
   ],
   "source": [
    "def load_data(ticker):\n",
    "    try:\n",
    "        # Retrieve historical data nad returns as DataFrame\n",
    "        tick=yf.Ticker(ticker)\n",
    "        historical_data = yf.download(ticker_symbol,period=\"max\")  # You can adjust the period as needed\n",
    "        \n",
    "        if historical_data.empty:\n",
    "            print(\"Wrong Ticker Name or Stock Not Found\")\n",
    "            #comp=input(\"Enter The Company Name to Search Ticker\")   \n",
    "            #search_comp(comp)\n",
    "        else:       \n",
    "            #converting to Alternate Variable\n",
    "             df=historical_data\n",
    "            \n",
    "             #printing the first 3 Columns\n",
    "             print(df.head(3)) \n",
    "            \n",
    "            #printing the Last 3 Columns\n",
    "             print(\"\\n\",df.tail(3))\n",
    "            \n",
    "             return df\n",
    "    except:\n",
    "        print(\"Error Occured\")\n",
    "        return 0\n",
    "        \n",
    "df=load_data(ticker_symbol)\n"
   ]
  },
  {
   "cell_type": "code",
   "execution_count": null,
   "id": "4b07a602-d9eb-44cf-a1aa-0d304b765a7d",
   "metadata": {},
   "outputs": [],
   "source": [
    "#### If Ticker Symbol is not Known,then We Can Find it Through this Function"
   ]
  },
  {
   "cell_type": "code",
   "execution_count": 11,
   "id": "521c2be5-c598-4d4f-9fe6-cd050af8241f",
   "metadata": {},
   "outputs": [
    {
     "name": "stdout",
     "output_type": "stream",
     "text": [
      "Search results For the Company name:\n",
      "1. Symbol: AAPL, Name: Apple Inc., Exchange: NMS\n",
      "2. Symbol: APLE, Name: Apple Hospitality REIT, Inc., Exchange: NYQ\n",
      "3. Symbol: APC.DE, Name: APPLE INC., Exchange: GER\n",
      "4. Symbol: AAPLD.BA, Name: APPLE INC CEDEAR(REPR 1/20 SHR), Exchange: BUE\n",
      "5. Symbol: 48T.F, Name: APPLE HOSPITALITY REIT, Exchange: FRA\n",
      "6. Symbol: APRU, Name: APPLE RUSH COMPANY INC, Exchange: PNK\n",
      "7. Symbol: AAP3.L, Name: LEVERAGE SHARES PUBLIC LIMITED , Exchange: LSE\n"
     ]
    },
    {
     "name": "stdin",
     "output_type": "stream",
     "text": [
      "Select the number corresponding to the correct ticker symbol:  1\n"
     ]
    },
    {
     "name": "stdout",
     "output_type": "stream",
     "text": [
      "AAPL\n"
     ]
    }
   ],
   "source": [
    "#function to retrive the ticker of a Company\n",
    "def search_comp(company_name):\n",
    "\n",
    "    search_result = search(company_name)\n",
    "\n",
    "    if search_result['quotes']:\n",
    "        print(\"Search results For the Company name:\")\n",
    "        for i, item in enumerate(search_result['quotes'], start=1):\n",
    "            print(f\"{i}. Symbol: {item['symbol']}, Name: {item['shortname']}, Exchange: {item['exchange']}\")\n",
    "    \n",
    "        choice = int(input(\"Select the number corresponding to the correct ticker symbol: \"))\n",
    "        ticker = search_result['quotes'][choice - 1]['symbol']\n",
    "        print(ticker)\n",
    "    return ticker  \n",
    "#ticker=search_comp('APPLE')"
   ]
  },
  {
   "cell_type": "markdown",
   "id": "832e3b33-2f6a-4f1d-86a7-a32eee3b0f9e",
   "metadata": {},
   "source": [
    "## Descriptive Analysis Of The Data"
   ]
  },
  {
   "cell_type": "code",
   "execution_count": 20,
   "id": "60525344-57f8-4ee2-8ae0-4f5d89e6e0e0",
   "metadata": {},
   "outputs": [
    {
     "name": "stdout",
     "output_type": "stream",
     "text": [
      "<class 'pandas.core.frame.DataFrame'>\n",
      "DatetimeIndex: 10987 entries, 1980-12-12 to 2024-07-15\n",
      "Data columns (total 6 columns):\n",
      " #   Column     Non-Null Count  Dtype  \n",
      "---  ------     --------------  -----  \n",
      " 0   Open       10987 non-null  float64\n",
      " 1   High       10987 non-null  float64\n",
      " 2   Low        10987 non-null  float64\n",
      " 3   Close      10987 non-null  float64\n",
      " 4   Adj Close  10987 non-null  float64\n",
      " 5   Volume     10987 non-null  int64  \n",
      "dtypes: float64(5), int64(1)\n",
      "memory usage: 600.9 KB\n",
      "None\n"
     ]
    }
   ],
   "source": [
    "print(df.info())"
   ]
  },
  {
   "cell_type": "code",
   "execution_count": 21,
   "id": "76d68ea6-4161-4a4e-b50c-9ec4c88362c2",
   "metadata": {},
   "outputs": [
    {
     "name": "stdout",
     "output_type": "stream",
     "text": [
      "               Open          High           Low         Close     Adj Close  \\\n",
      "count  10987.000000  10987.000000  10987.000000  10987.000000  10987.000000   \n",
      "mean      22.096792     22.335494     21.869298     22.111903     21.317731   \n",
      "std       45.579374     46.071510     45.126491     45.620431     45.189553   \n",
      "min        0.049665      0.049665      0.049107      0.049107      0.037900   \n",
      "25%        0.297991      0.303571      0.290179      0.297991      0.242029   \n",
      "50%        0.529018      0.537946      0.519531      0.529018      0.429639   \n",
      "75%       20.114821     20.278036     19.896786     20.054643     17.230840   \n",
      "max      236.479996    237.229996    233.089996    234.399994    234.399994   \n",
      "\n",
      "             Volume  \n",
      "count  1.098700e+04  \n",
      "mean   3.183502e+08  \n",
      "std    3.355118e+08  \n",
      "min    0.000000e+00  \n",
      "25%    1.133830e+08  \n",
      "50%    2.059652e+08  \n",
      "75%    3.986920e+08  \n",
      "max    7.421641e+09  \n"
     ]
    }
   ],
   "source": [
    "print(df.describe())"
   ]
  },
  {
   "cell_type": "code",
   "execution_count": 22,
   "id": "c48c5267-ff47-423f-81c5-71ad6d3e6b83",
   "metadata": {},
   "outputs": [
    {
     "name": "stdout",
     "output_type": "stream",
     "text": [
      "Highest Price Of A Stock : 237.22999572753906\n",
      "Lowest Price Of the Stock : 0.04910700023174286\n",
      "Highest Volume Traded On The Day : 7421640800\n"
     ]
    }
   ],
   "source": [
    "print(f\"Highest Price Of A Stock : {max(df['High'])}\")\n",
    "\n",
    "print(f\"Lowest Price Of the Stock : {min(df['Low'])}\")\n",
    "\n",
    "print(f\"Highest Volume Traded On The Day : {max(df['Volume'])}\")"
   ]
  },
  {
   "cell_type": "markdown",
   "id": "d0fcc9a4-94f5-4ee9-9964-6b2301e0653f",
   "metadata": {},
   "source": [
    "## Feature Selection"
   ]
  },
  {
   "cell_type": "code",
   "execution_count": 25,
   "id": "8a8d86b5-ba10-4f33-88d2-26207d5998ee",
   "metadata": {},
   "outputs": [
    {
     "data": {
      "text/html": [
       "<div>\n",
       "<style scoped>\n",
       "    .dataframe tbody tr th:only-of-type {\n",
       "        vertical-align: middle;\n",
       "    }\n",
       "\n",
       "    .dataframe tbody tr th {\n",
       "        vertical-align: top;\n",
       "    }\n",
       "\n",
       "    .dataframe thead th {\n",
       "        text-align: right;\n",
       "    }\n",
       "</style>\n",
       "<table border=\"1\" class=\"dataframe\">\n",
       "  <thead>\n",
       "    <tr style=\"text-align: right;\">\n",
       "      <th></th>\n",
       "      <th>Open</th>\n",
       "      <th>High</th>\n",
       "      <th>Low</th>\n",
       "      <th>Close</th>\n",
       "      <th>Volume</th>\n",
       "    </tr>\n",
       "    <tr>\n",
       "      <th>Date</th>\n",
       "      <th></th>\n",
       "      <th></th>\n",
       "      <th></th>\n",
       "      <th></th>\n",
       "      <th></th>\n",
       "    </tr>\n",
       "  </thead>\n",
       "  <tbody>\n",
       "    <tr>\n",
       "      <th>2024-07-09</th>\n",
       "      <td>227.929993</td>\n",
       "      <td>229.399994</td>\n",
       "      <td>226.369995</td>\n",
       "      <td>228.679993</td>\n",
       "      <td>48076100</td>\n",
       "    </tr>\n",
       "    <tr>\n",
       "      <th>2024-07-10</th>\n",
       "      <td>229.300003</td>\n",
       "      <td>233.080002</td>\n",
       "      <td>229.250000</td>\n",
       "      <td>232.979996</td>\n",
       "      <td>62627700</td>\n",
       "    </tr>\n",
       "    <tr>\n",
       "      <th>2024-07-11</th>\n",
       "      <td>231.389999</td>\n",
       "      <td>232.389999</td>\n",
       "      <td>225.770004</td>\n",
       "      <td>227.570007</td>\n",
       "      <td>64710600</td>\n",
       "    </tr>\n",
       "    <tr>\n",
       "      <th>2024-07-12</th>\n",
       "      <td>228.919998</td>\n",
       "      <td>232.639999</td>\n",
       "      <td>228.679993</td>\n",
       "      <td>230.539993</td>\n",
       "      <td>53008200</td>\n",
       "    </tr>\n",
       "    <tr>\n",
       "      <th>2024-07-15</th>\n",
       "      <td>236.479996</td>\n",
       "      <td>237.229996</td>\n",
       "      <td>233.089996</td>\n",
       "      <td>234.399994</td>\n",
       "      <td>62549700</td>\n",
       "    </tr>\n",
       "  </tbody>\n",
       "</table>\n",
       "</div>"
      ],
      "text/plain": [
       "                  Open        High         Low       Close    Volume\n",
       "Date                                                                \n",
       "2024-07-09  227.929993  229.399994  226.369995  228.679993  48076100\n",
       "2024-07-10  229.300003  233.080002  229.250000  232.979996  62627700\n",
       "2024-07-11  231.389999  232.389999  225.770004  227.570007  64710600\n",
       "2024-07-12  228.919998  232.639999  228.679993  230.539993  53008200\n",
       "2024-07-15  236.479996  237.229996  233.089996  234.399994  62549700"
      ]
     },
     "execution_count": 25,
     "metadata": {},
     "output_type": "execute_result"
    }
   ],
   "source": [
    "#unwanted columns needs to be removed\n",
    "df=df.drop(['Adj Close'],axis=1)\n",
    "df.tail()"
   ]
  },
  {
   "cell_type": "code",
   "execution_count": 27,
   "id": "9eab88d9-9244-4bc6-a2d5-872d6a793a69",
   "metadata": {},
   "outputs": [
    {
     "data": {
      "text/html": [
       "<div>\n",
       "<style scoped>\n",
       "    .dataframe tbody tr th:only-of-type {\n",
       "        vertical-align: middle;\n",
       "    }\n",
       "\n",
       "    .dataframe tbody tr th {\n",
       "        vertical-align: top;\n",
       "    }\n",
       "\n",
       "    .dataframe thead th {\n",
       "        text-align: right;\n",
       "    }\n",
       "</style>\n",
       "<table border=\"1\" class=\"dataframe\">\n",
       "  <thead>\n",
       "    <tr style=\"text-align: right;\">\n",
       "      <th></th>\n",
       "      <th>Open</th>\n",
       "      <th>High</th>\n",
       "      <th>Low</th>\n",
       "      <th>Close</th>\n",
       "      <th>Volume</th>\n",
       "      <th>Open-Close</th>\n",
       "      <th>High-Low</th>\n",
       "    </tr>\n",
       "    <tr>\n",
       "      <th>Date</th>\n",
       "      <th></th>\n",
       "      <th></th>\n",
       "      <th></th>\n",
       "      <th></th>\n",
       "      <th></th>\n",
       "      <th></th>\n",
       "      <th></th>\n",
       "    </tr>\n",
       "  </thead>\n",
       "  <tbody>\n",
       "    <tr>\n",
       "      <th>2024-07-09</th>\n",
       "      <td>227.929993</td>\n",
       "      <td>229.399994</td>\n",
       "      <td>226.369995</td>\n",
       "      <td>228.679993</td>\n",
       "      <td>48076100</td>\n",
       "      <td>-0.750000</td>\n",
       "      <td>3.029999</td>\n",
       "    </tr>\n",
       "    <tr>\n",
       "      <th>2024-07-10</th>\n",
       "      <td>229.300003</td>\n",
       "      <td>233.080002</td>\n",
       "      <td>229.250000</td>\n",
       "      <td>232.979996</td>\n",
       "      <td>62627700</td>\n",
       "      <td>-3.679993</td>\n",
       "      <td>3.830002</td>\n",
       "    </tr>\n",
       "    <tr>\n",
       "      <th>2024-07-11</th>\n",
       "      <td>231.389999</td>\n",
       "      <td>232.389999</td>\n",
       "      <td>225.770004</td>\n",
       "      <td>227.570007</td>\n",
       "      <td>64710600</td>\n",
       "      <td>3.819992</td>\n",
       "      <td>6.619995</td>\n",
       "    </tr>\n",
       "    <tr>\n",
       "      <th>2024-07-12</th>\n",
       "      <td>228.919998</td>\n",
       "      <td>232.639999</td>\n",
       "      <td>228.679993</td>\n",
       "      <td>230.539993</td>\n",
       "      <td>53008200</td>\n",
       "      <td>-1.619995</td>\n",
       "      <td>3.960007</td>\n",
       "    </tr>\n",
       "    <tr>\n",
       "      <th>2024-07-15</th>\n",
       "      <td>236.479996</td>\n",
       "      <td>237.229996</td>\n",
       "      <td>233.089996</td>\n",
       "      <td>234.399994</td>\n",
       "      <td>62549700</td>\n",
       "      <td>2.080002</td>\n",
       "      <td>4.139999</td>\n",
       "    </tr>\n",
       "  </tbody>\n",
       "</table>\n",
       "</div>"
      ],
      "text/plain": [
       "                  Open        High         Low       Close    Volume  \\\n",
       "Date                                                                   \n",
       "2024-07-09  227.929993  229.399994  226.369995  228.679993  48076100   \n",
       "2024-07-10  229.300003  233.080002  229.250000  232.979996  62627700   \n",
       "2024-07-11  231.389999  232.389999  225.770004  227.570007  64710600   \n",
       "2024-07-12  228.919998  232.639999  228.679993  230.539993  53008200   \n",
       "2024-07-15  236.479996  237.229996  233.089996  234.399994  62549700   \n",
       "\n",
       "            Open-Close  High-Low  \n",
       "Date                              \n",
       "2024-07-09   -0.750000  3.029999  \n",
       "2024-07-10   -3.679993  3.830002  \n",
       "2024-07-11    3.819992  6.619995  \n",
       "2024-07-12   -1.619995  3.960007  \n",
       "2024-07-15    2.080002  4.139999  "
      ]
     },
     "execution_count": 27,
     "metadata": {},
     "output_type": "execute_result"
    }
   ],
   "source": [
    "\n",
    "#input features needs to be Created based on the Open and Close \n",
    "\n",
    "#Difference between Open and Close was A Feature\n",
    "df['Open-Close']=df['Open']-df['Close']\n",
    "\n",
    "#Difference between High and Low was Also a Feature\n",
    "df['High-Low']=df['High']-df['Low']\n",
    "df.tail()\n"
   ]
  },
  {
   "cell_type": "code",
   "execution_count": 29,
   "id": "f9b17766-ea61-42a2-84f0-03c10e1b6539",
   "metadata": {},
   "outputs": [
    {
     "name": "stdout",
     "output_type": "stream",
     "text": [
      "            Open-Close  High-Low\n",
      "Date                            \n",
      "1980-12-12    0.000000  0.000558\n",
      "1980-12-15    0.000558  0.000558\n",
      "1980-12-16    0.000558  0.000558\n",
      "1980-12-17    0.000000  0.000558\n",
      "1980-12-18    0.000000  0.000558\n",
      "...                ...       ...\n",
      "2024-07-09   -0.750000  3.029999\n",
      "2024-07-10   -3.679993  3.830002\n",
      "2024-07-11    3.819992  6.619995\n",
      "2024-07-12   -1.619995  3.960007\n",
      "2024-07-15    2.080002  4.139999\n",
      "\n",
      "[10987 rows x 2 columns]\n"
     ]
    }
   ],
   "source": [
    "#For training ie X ,the two new Features were been assigned to X\n",
    "X=df[['Open-Close','High-Low']]\n",
    "print(X)"
   ]
  },
  {
   "cell_type": "code",
   "execution_count": 64,
   "id": "c8df26ac-6b66-40c5-95af-44f518a77da5",
   "metadata": {},
   "outputs": [
    {
     "name": "stdout",
     "output_type": "stream",
     "text": [
      "[-1 -1  1 ...  1  1 -1]\n"
     ]
    }
   ],
   "source": [
    "#The changes in the Price Of a Stock in previous day and Next Day was Target assigned to \n",
    "Y=np.where(df['Close'].shift(-1)>df['Close'],1,-1)\n",
    "print(Y)\n",
    "\n",
    "df['target']=Y"
   ]
  },
  {
   "cell_type": "code",
   "execution_count": 67,
   "id": "9d3f8e9d-cee2-4c12-8627-5a4e76ffa363",
   "metadata": {},
   "outputs": [],
   "source": [
    "#save the data\n",
    "df.to_csv(f\"D:\\Projects\\ML_Project\\Scraped_Data\\{ticker_symbol}.csv\",index=True,header=True)\n"
   ]
  },
  {
   "cell_type": "markdown",
   "id": "78c81d11-fb08-4aa5-ad5e-0b57929e5437",
   "metadata": {},
   "source": [
    "## Visualizing the Data"
   ]
  },
  {
   "cell_type": "code",
   "execution_count": null,
   "id": "03e782f9-c073-4a4e-ab01-8c9bb2516c89",
   "metadata": {},
   "outputs": [],
   "source": [
    "%matplotlib inline"
   ]
  },
  {
   "cell_type": "code",
   "execution_count": 32,
   "id": "38062d34-d62d-41b4-b4b3-41f84bd26a57",
   "metadata": {},
   "outputs": [
    {
     "data": {
      "image/png": "[encoded data removed]",
      "text/plain": [
       "<Figure size 1000x500 with 1 Axes>"
      ]
     },
     "metadata": {},
     "output_type": "display_data"
    }
   ],
   "source": [
    "def plot_data(Stock_data):\n",
    "    #plotting the price movements of a Stock from its startinig stage\n",
    "    fig=plt.figure(figsize=(10, 5))\n",
    "    plt.plot(Stock_data['Close'], label='Price')\n",
    "    \n",
    "    #setting up the title and labels\n",
    "    plt.title(\"Price Movement Of Stock\")\n",
    "    plt.xlabel('Year')\n",
    "    plt.ylabel('Price')\n",
    "    \n",
    "    plt.grid(True)\n",
    "    \n",
    "    plt.legend()\n",
    "    plt.show()\n",
    "    return fig\n",
    "fig=plot_data(df)\n",
    "#fig.show()"
   ]
  },
  {
   "cell_type": "code",
   "execution_count": 60,
   "id": "232f3ff3-720d-4b64-b0bc-a9c856e65bda",
   "metadata": {},
   "outputs": [
    {
     "name": "stdout",
     "output_type": "stream",
     "text": [
      "          Date        Open        High         Low       Close    Volume  \\\n",
      "360 2024-07-09  227.929993  229.399994  226.369995  228.679993  48076100   \n",
      "361 2024-07-10  229.300003  233.080002  229.250000  232.979996  62627700   \n",
      "362 2024-07-11  231.389999  232.389999  225.770004  227.570007  64710600   \n",
      "363 2024-07-12  228.919998  232.639999  228.679993  230.539993  53008200   \n",
      "364 2024-07-15  236.479996  237.229996  233.089996  234.399994  62549700   \n",
      "\n",
      "     Open-Close  High-Low  \n",
      "360   -0.750000  3.029999  \n",
      "361   -3.679993  3.830002  \n",
      "362    3.819992  6.619995  \n",
      "363   -1.619995  3.960007  \n",
      "364    2.080002  4.139999  \n"
     ]
    }
   ],
   "source": [
    "#creating the past 1 year data for plotting and observation of the Recent Trend\n",
    "data_1y = df.iloc[-365:]  # yf.download(ticker_symbol, start=start_date,end=end_date, progress=False)\n",
    "\n",
    "#reseting the date index for Plotting Price movements\n",
    "data_1y.reset_index(drop=False, inplace=True)\n",
    "\n",
    "#drop high-low,open-close\n",
    "#data_1y = data_1y[[\"Date\", \"Open\", \"High\", \"Low\", \"Close\",  \"Volume\"]]\n",
    "\n",
    "print(data_1y.tail())"
   ]
  },
  {
   "cell_type": "code",
   "execution_count": 59,
   "id": "49d9add0-c817-473b-8156-083065c093ef",
   "metadata": {
    "scrolled": true
   },
   "outputs": [
    {
     "data": {
      "application/vnd.plotly.v1+json": {
       "config": {
        "plotlyServerURL": "https://plot.ly"
       },
       "data": [
        {
         "close": [
          144.2899932861328,
          145.42999267578125,
          150.82000732421875,
          154.5,
          151.72999572753906,
          154.64999389648438,
          151.9199981689453,
          150.8699951171875,
          151.00999450683594,
          153.85000610351562,
          153.1999969482422,
          155.3300018310547,
          153.7100067138672,
          152.5500030517578,
          148.47999572753906,
          148.91000366210938,
          149.39999389648438,
          146.7100067138672,
          147.9199981689453,
          147.41000366210938,
          145.30999755859375,
          145.91000366210938,
          151.02999877929688,
          153.8300018310547,
          151.60000610351562,
          152.8699951171875,
          150.58999633789062,
          148.5,
          150.47000122070312,
          152.58999633789062,
          152.99000549316406,
          155.85000610351562,
          155,
          157.39999389648438,
          159.27999877929688,
          157.8300018310547,
          158.92999267578125,
          160.25,
          158.27999877929688,
          157.64999389648438,
          160.77000427246094,
          162.36000061035156,
          164.89999389648438,
          166.1699981689453,
          165.6300048828125,
          163.75999450683594,
          164.66000366210938,
          162.02999877929688,
          160.8000030517578,
          160.10000610351562,
          165.55999755859375,
          165.2100067138672,
          165.22999572753906,
          166.47000122070312,
          167.6300048828125,
          166.64999389648438,
          165.02000427246094,
          165.3300018310547,
          163.77000427246094,
          163.75999450683594,
          168.41000366210938,
          169.67999267578125,
          169.58999633789062,
          168.5399932861328,
          167.4499969482422,
          165.7899932861328,
          173.57000732421875,
          173.5,
          171.77000427246094,
          173.55999755859375,
          173.75,
          172.57000732421875,
          172.07000732421875,
          172.07000732421875,
          172.69000244140625,
          175.0500030517578,
          175.16000366210938,
          174.1999969482422,
          171.55999755859375,
          171.83999633789062,
          172.99000549316406,
          175.42999267578125,
          177.3000030517578,
          177.25,
          180.08999633789062,
          180.9499969482422,
          179.5800018310547,
          179.2100067138672,
          177.82000732421875,
          180.57000732421875,
          180.9600067138672,
          183.7899932861328,
          183.30999755859375,
          183.9499969482422,
          186.00999450683594,
          184.9199981689453,
          185.00999450683594,
          183.9600067138672,
          187,
          186.67999267578125,
          185.27000427246094,
          188.05999755859375,
          189.25,
          189.58999633789062,
          193.97000122070312,
          192.4600067138672,
          191.3300018310547,
          191.80999755859375,
          190.67999267578125,
          188.61000061035156,
          188.0800018310547,
          189.77000427246094,
          190.5399932861328,
          190.69000244140625,
          193.99000549316406,
          193.72999572753906,
          195.10000610351562,
          193.1300048828125,
          191.94000244140625,
          192.75,
          193.6199951171875,
          194.5,
          193.22000122070312,
          195.8300018310547,
          196.4499969482422,
          195.61000061035156,
          192.5800018310547,
          191.1699981689453,
          181.99000549316406,
          178.85000610351562,
          179.8000030517578,
          178.19000244140625,
          177.97000122070312,
          177.7899932861328,
          179.4600067138672,
          177.4499969482422,
          176.57000732421875,
          174,
          174.49000549316406,
          175.83999633789062,
          177.22999572753906,
          181.1199951171875,
          176.3800048828125,
          178.61000061035156,
          180.19000244140625,
          184.1199951171875,
          187.64999389648438,
          187.8699951171875,
          189.4600067138672,
          189.6999969482422,
          182.91000366210938,
          177.55999755859375,
          178.17999267578125,
          179.36000061035156,
          176.3000030517578,
          174.2100067138672,
          175.74000549316406,
          175.00999450683594,
          177.97000122070312,
          179.07000732421875,
          175.49000549316406,
          173.92999267578125,
          174.7899932861328,
          176.0800018310547,
          171.9600067138672,
          170.42999267578125,
          170.69000244140625,
          171.2100067138672,
          173.75,
          172.39999389648438,
          173.66000366210938,
          174.91000366210938,
          177.49000549316406,
          178.99000549316406,
          178.38999938964844,
          179.8000030517578,
          180.7100067138672,
          178.85000610351562,
          178.72000122070312,
          177.14999389648438,
          175.83999633789062,
          175.4600067138672,
          172.8800048828125,
          173,
          173.44000244140625,
          171.10000610351562,
          166.88999938964844,
          168.22000122070312,
          170.2899932861328,
          170.77000427246094,
          173.97000122070312,
          177.57000732421875,
          176.64999389648438,
          179.22999572753906,
          181.82000732421875,
          182.88999938964844,
          182.41000366210938,
          186.39999389648438,
          184.8000030517578,
          187.44000244140625,
          188.00999450683594,
          189.7100067138672,
          189.69000244140625,
          191.4499969482422,
          190.63999938964844,
          191.30999755859375,
          189.97000122070312,
          189.7899932861328,
          190.39999389648438,
          189.3699951171875,
          189.9499969482422,
          191.24000549316406,
          189.42999267578125,
          193.4199981689453,
          192.32000732421875,
          194.27000427246094,
          195.7100067138672,
          193.17999267578125,
          194.7100067138672,
          197.9600067138672,
          198.11000061035156,
          197.57000732421875,
          195.88999938964844,
          196.94000244140625,
          194.8300018310547,
          194.67999267578125,
          193.60000610351562,
          193.0500030517578,
          193.14999389648438,
          193.5800018310547,
          192.52999877929688,
          185.63999938964844,
          184.25,
          181.91000366210938,
          181.17999267578125,
          185.55999755859375,
          185.13999938964844,
          186.19000244140625,
          185.58999633789062,
          185.9199981689453,
          183.6300048828125,
          182.67999267578125,
          188.6300048828125,
          191.55999755859375,
          193.88999938964844,
          195.17999267578125,
          194.5,
          194.1699981689453,
          192.4199981689453,
          191.72999572753906,
          188.0399932861328,
          184.39999389648438,
          186.86000061035156,
          185.85000610351562,
          187.67999267578125,
          189.3000030517578,
          189.41000366210938,
          188.32000732421875,
          188.85000610351562,
          187.14999389648438,
          185.0399932861328,
          184.14999389648438,
          183.86000061035156,
          182.30999755859375,
          181.55999755859375,
          182.32000732421875,
          184.3699951171875,
          182.52000427246094,
          181.16000366210938,
          182.6300048828125,
          181.4199981689453,
          180.75,
          179.66000366210938,
          175.10000610351562,
          170.1199951171875,
          169.1199951171875,
          169,
          170.72999572753906,
          172.75,
          173.22999572753906,
          171.1300048828125,
          173,
          172.6199951171875,
          173.72000122070312,
          176.0800018310547,
          178.6699981689453,
          171.3699951171875,
          172.27999877929688,
          170.85000610351562,
          169.7100067138672,
          173.30999755859375,
          171.47999572753906,
          170.02999877929688,
          168.83999633789062,
          169.64999389648438,
          168.82000732421875,
          169.5800018310547,
          168.4499969482422,
          169.6699981689453,
          167.77999877929688,
          175.0399932861328,
          176.5500030517578,
          172.69000244140625,
          169.3800048828125,
          168,
          167.0399932861328,
          165,
          165.83999633789062,
          166.89999389648438,
          169.02000427246094,
          169.88999938964844,
          169.3000030517578,
          173.5,
          170.3300018310547,
          169.3000030517578,
          173.02999877929688,
          183.3800048828125,
          181.7100067138672,
          182.39999389648438,
          182.74000549316406,
          184.57000732421875,
          183.0500030517578,
          186.27999877929688,
          187.42999267578125,
          189.72000122070312,
          189.83999633789062,
          189.8699951171875,
          191.0399932861328,
          192.35000610351562,
          190.89999389648438,
          186.8800048828125,
          189.97999572753906,
          189.99000549316406,
          190.2899932861328,
          191.2899932861328,
          192.25,
          194.02999877929688,
          194.35000610351562,
          195.8699951171875,
          194.47999572753906,
          196.88999938964844,
          193.1199951171875,
          207.14999389648438,
          213.07000732421875,
          214.24000549316406,
          212.49000549316406,
          216.6699981689453,
          214.2899932861328,
          209.67999267578125,
          207.49000549316406,
          208.13999938964844,
          209.07000732421875,
          213.25,
          214.10000610351562,
          210.6199951171875,
          216.75,
          220.27000427246094,
          221.5500030517578,
          226.33999633789062,
          227.82000732421875,
          228.67999267578125,
          232.97999572753906,
          227.57000732421875,
          230.5399932861328,
          234.39999389648438
         ],
         "decreasing": {
          "fillcolor": "red",
          "line": {
           "color": "red"
          }
         },
         "high": [
          144.33999633789062,
          146.61000061035156,
          151.17999267578125,
          157.3800048828125,
          153.10000610351562,
          155.22999572753906,
          154.5800018310547,
          154.3300018310547,
          151.33999633789062,
          154.25999450683594,
          153.77000427246094,
          155.5,
          156.3300018310547,
          153,
          151.3000030517578,
          149.9499969482422,
          150.33999633789062,
          147.19000244140625,
          149.1699981689453,
          149.0800018310547,
          147.22999572753906,
          146.7100067138672,
          151.11000061035156,
          156.3000030517578,
          154.02999877929688,
          153.47000122070312,
          154.5399932861328,
          150.94000244140625,
          153.13999938964844,
          153.39999389648438,
          153.25,
          156.4600067138672,
          156.74000549316406,
          157.82000732421875,
          159.39999389648438,
          162.13999938964844,
          161.5500030517578,
          160.33999633789062,
          160.77000427246094,
          158.49000549316406,
          161.0500030517578,
          162.47000122070312,
          165,
          166.2899932861328,
          166.83999633789062,
          165.0500030517578,
          164.9600067138672,
          162.02999877929688,
          162.36000061035156,
          162.05999755859375,
          165.8000030517578,
          166.32000732421875,
          165.38999938964844,
          167.41000366210938,
          168.16000366210938,
          167.8699951171875,
          166.4499969482422,
          165.60000610351562,
          166.30999755859375,
          165.27999877929688,
          168.55999755859375,
          169.85000610351562,
          170.4499969482422,
          170.35000610351562,
          170.9199981689453,
          167.0399932861328,
          174.3000030517578,
          173.85000610351562,
          173.5399932861328,
          174.02999877929688,
          174.58999633789062,
          174.05999755859375,
          173.2100067138672,
          173.13999938964844,
          172.92999267578125,
          175.24000549316406,
          176.38999938964844,
          174.7100067138672,
          173.3800048828125,
          172.4199981689453,
          173.89999389648438,
          175.77000427246094,
          178.99000549316406,
          179.35000610351562,
          180.1199951171875,
          181.77999877929688,
          184.9499969482422,
          180.1199951171875,
          181.2100067138672,
          180.83999633789062,
          182.22999572753906,
          183.88999938964844,
          184.14999389648438,
          184.38999938964844,
          186.52000427246094,
          186.99000549316406,
          186.10000610351562,
          185.41000366210938,
          187.0500030517578,
          187.55999755859375,
          188.0500030517578,
          188.38999938964844,
          189.89999389648438,
          190.07000732421875,
          194.47999572753906,
          193.8800048828125,
          192.97999572753906,
          192.02000427246094,
          192.6699981689453,
          189.99000549316406,
          189.3000030517578,
          191.6999969482422,
          191.19000244140625,
          191.17999267578125,
          194.32000732421875,
          194.3300018310547,
          198.22999572753906,
          196.47000122070312,
          194.97000122070312,
          194.91000366210938,
          194.44000244140625,
          195.63999938964844,
          197.1999969482422,
          196.6300048828125,
          196.49000549316406,
          196.72999572753906,
          195.17999267578125,
          192.3699951171875,
          187.3800048828125,
          183.1300048828125,
          180.27000427246094,
          180.92999267578125,
          180.75,
          178.6199951171875,
          179.69000244140625,
          179.47999572753906,
          178.5399932861328,
          177.50999450683594,
          175.10000610351562,
          176.1300048828125,
          177.67999267578125,
          181.5500030517578,
          181.10000610351562,
          179.14999389648438,
          180.58999633789062,
          184.89999389648438,
          187.85000610351562,
          189.1199951171875,
          189.9199981689453,
          189.97999572753906,
          188.85000610351562,
          178.2100067138672,
          180.24000549316406,
          180.3000030517578,
          180.1300048828125,
          177.3000030517578,
          176.10000610351562,
          176.5,
          179.3800048828125,
          179.6300048828125,
          179.6999969482422,
          176.3000030517578,
          177.0800018310547,
          176.97000122070312,
          175.1999969482422,
          173.0399932861328,
          172.02999877929688,
          173.07000732421875,
          174.3000030517578,
          173.6300048828125,
          174.2100067138672,
          175.4499969482422,
          177.99000549316406,
          179.0500030517578,
          179.72000122070312,
          179.85000610351562,
          182.33999633789062,
          181.92999267578125,
          179.0800018310547,
          178.4199981689453,
          177.5800018310547,
          177.83999633789062,
          175.4199981689453,
          174.00999450683594,
          173.6699981689453,
          173.05999755859375,
          171.3800048828125,
          168.9600067138672,
          171.1699981689453,
          170.89999389648438,
          174.22999572753906,
          177.77999877929688,
          176.82000732421875,
          179.42999267578125,
          182.44000244140625,
          183.4499969482422,
          184.1199951171875,
          186.57000732421875,
          186.02999877929688,
          188.11000061035156,
          189.5,
          190.9600067138672,
          190.3800048828125,
          191.91000366210938,
          191.52000427246094,
          192.92999267578125,
          190.89999389648438,
          190.6699981689453,
          191.0800018310547,
          192.08999633789062,
          190.32000732421875,
          191.55999755859375,
          190.0500030517578,
          194.39999389648438,
          194.75999450683594,
          195,
          195.99000549316406,
          193.49000549316406,
          194.72000122070312,
          198,
          199.6199951171875,
          198.39999389648438,
          196.6300048828125,
          196.9499969482422,
          197.67999267578125,
          197.0800018310547,
          195.41000366210938,
          193.88999938964844,
          193.5,
          194.66000366210938,
          194.39999389648438,
          188.44000244140625,
          185.8800048828125,
          183.08999633789062,
          182.75999450683594,
          185.60000610351562,
          185.14999389648438,
          186.39999389648438,
          187.0500030517578,
          186.74000549316406,
          184.25999450683594,
          182.92999267578125,
          189.13999938964844,
          191.9499969482422,
          195.3300018310547,
          195.75,
          196.3800048828125,
          196.27000427246094,
          194.75999450683594,
          192.1999969482422,
          191.8000030517578,
          187.10000610351562,
          186.9499969482422,
          187.3300018310547,
          189.25,
          189.30999755859375,
          191.0500030517578,
          189.5399932861328,
          189.99000549316406,
          188.6699981689453,
          186.2100067138672,
          185.52999877929688,
          184.49000549316406,
          184.85000610351562,
          182.42999267578125,
          182.88999938964844,
          184.9600067138672,
          185.0399932861328,
          182.75999450683594,
          183.9199981689453,
          183.1199951171875,
          182.57000732421875,
          180.52999877929688,
          176.89999389648438,
          172.0399932861328,
          171.24000549316406,
          170.72999572753906,
          173.6999969482422,
          174.3800048828125,
          174.02999877929688,
          173.19000244140625,
          174.30999755859375,
          172.6199951171875,
          177.7100067138672,
          176.61000061035156,
          178.6699981689453,
          177.49000549316406,
          173.0500030517578,
          171.94000244140625,
          171.4199981689453,
          173.60000610351562,
          172.22999572753906,
          171.25,
          169.33999633789062,
          170.67999267578125,
          171.9199981689453,
          170.38999938964844,
          169.1999969482422,
          170.0800018310547,
          169.08999633789062,
          175.4600067138672,
          178.36000061035156,
          176.6300048828125,
          173.75999450683594,
          170.64999389648438,
          168.63999938964844,
          166.39999389648438,
          167.25999450683594,
          167.0500030517578,
          169.3000030517578,
          170.61000061035156,
          171.33999633789062,
          176.02999877929688,
          174.99000549316406,
          172.7100067138672,
          173.4199981689453,
          187,
          184.1999969482422,
          184.89999389648438,
          183.07000732421875,
          184.66000366210938,
          185.08999633789062,
          187.10000610351562,
          188.3000030517578,
          190.64999389648438,
          191.10000610351562,
          190.80999755859375,
          191.9199981689453,
          192.72999572753906,
          192.82000732421875,
          191,
          190.5800018310547,
          193,
          192.25,
          192.17999267578125,
          192.57000732421875,
          194.99000549316406,
          195.32000732421875,
          196.89999389648438,
          196.5,
          196.94000244140625,
          197.3000030517578,
          207.16000366210938,
          220.1999969482422,
          216.75,
          215.1699981689453,
          218.9499969482422,
          218.6300048828125,
          214.24000549316406,
          211.88999938964844,
          212.6999969482422,
          211.3800048828125,
          214.86000061035156,
          215.74000549316406,
          216.07000732421875,
          217.50999450683594,
          220.3800048828125,
          221.5500030517578,
          226.4499969482422,
          227.85000610351562,
          229.39999389648438,
          233.0800018310547,
          232.38999938964844,
          232.63999938964844,
          237.22999572753906
         ],
         "increasing": {
          "fillcolor": "green",
          "line": {
           "color": "green"
          }
         },
         "low": [
          142.27999877929688,
          141.32000732421875,
          148.1699981689453,
          147.8300018310547,
          150.77999877929688,
          150.63999938964844,
          151.1699981689453,
          150.4199981689453,
          149.22000122070312,
          150.9199981689453,
          150.86000061035156,
          152.8800048828125,
          153.35000610351562,
          150.85000610351562,
          148.41000366210938,
          147.16000366210938,
          147.24000549316406,
          145.72000122070312,
          147.4499969482422,
          146.8300018310547,
          145.00999450683594,
          143.89999389648438,
          147.3300018310547,
          153.4600067138672,
          151.1300048828125,
          151.8300018310547,
          150.22999572753906,
          147.61000061035156,
          147.6999969482422,
          150.10000610351562,
          149.9199981689453,
          151.63999938964844,
          154.27999877929688,
          154.14999389648438,
          156.5399932861328,
          157.80999755859375,
          157.67999267578125,
          157.85000610351562,
          157.8699951171875,
          155.97999572753906,
          159.35000610351562,
          161.27000427246094,
          161.91000366210938,
          164.22000122070312,
          165.11000061035156,
          161.8000030517578,
          162,
          160.0800018310547,
          160.50999450683594,
          159.77999877929688,
          161.4199981689453,
          163.82000732421875,
          164.02999877929688,
          165.64999389648438,
          165.5399932861328,
          165.55999755859375,
          164.49000549316406,
          163.88999938964844,
          163.72999572753906,
          162.8000030517578,
          165.19000244140625,
          167.8800048828125,
          168.63999938964844,
          167.5399932861328,
          167.16000366210938,
          164.30999755859375,
          170.75999450683594,
          172.11000061035156,
          171.60000610351562,
          171.89999389648438,
          172.1699981689453,
          171,
          171.47000122070312,
          171.8000030517578,
          170.4199981689453,
          172.5800018310547,
          174.94000244140625,
          173.4499969482422,
          171.27999877929688,
          170.52000427246094,
          171.69000244140625,
          173.11000061035156,
          176.57000732421875,
          176.75999450683594,
          176.92999267578125,
          179.25999450683594,
          178.0399932861328,
          177.42999267578125,
          177.32000732421875,
          177.4600067138672,
          180.6300048828125,
          180.97000122070312,
          182.44000244140625,
          182.02000427246094,
          183.77999877929688,
          184.27000427246094,
          184.41000366210938,
          182.58999633789062,
          183.6699981689453,
          185.00999450683594,
          185.22999572753906,
          185.6699981689453,
          187.60000610351562,
          188.94000244140625,
          191.25999450683594,
          191.75999450683594,
          190.6199951171875,
          189.1999969482422,
          190.24000549316406,
          187.0399932861328,
          186.60000610351562,
          188.47000122070312,
          189.77999877929688,
          189.6300048828125,
          191.80999755859375,
          192.4199981689453,
          192.64999389648438,
          192.5,
          191.22999572753906,
          192.25,
          192.9199981689453,
          193.32000732421875,
          192.5500030517578,
          194.13999938964844,
          195.25999450683594,
          195.27999877929688,
          191.85000610351562,
          190.69000244140625,
          181.9199981689453,
          177.35000610351562,
          177.5800018310547,
          177.00999450683594,
          177.60000610351562,
          176.5500030517578,
          177.30999755859375,
          177.0500030517578,
          176.5,
          173.47999572753906,
          171.9600067138672,
          173.74000549316406,
          176.25,
          178.3300018310547,
          176.00999450683594,
          175.82000732421875,
          178.5500030517578,
          179.5,
          184.74000549316406,
          187.47999572753906,
          188.27999877929688,
          187.61000061035156,
          181.47000122070312,
          173.5399932861328,
          177.7899932861328,
          177.33999633789062,
          174.82000732421875,
          173.97999572753906,
          173.5800018310547,
          173.82000732421875,
          176.1699981689453,
          177.1300048828125,
          175.39999389648438,
          173.86000061035156,
          174.0500030517578,
          174.14999389648438,
          171.66000366210938,
          169.0500030517578,
          167.6199951171875,
          170.33999633789062,
          170.92999267578125,
          170.82000732421875,
          170.97000122070312,
          172.67999267578125,
          173.17999267578125,
          175.8000030517578,
          177.9499969482422,
          177.60000610351562,
          179.0399932861328,
          178.13999938964844,
          176.50999450683594,
          174.8000030517578,
          175.11000061035156,
          175.19000244140625,
          172.63999938964844,
          169.92999267578125,
          171.4499969482422,
          170.64999389648438,
          165.6699981689453,
          166.8300018310547,
          168.8699951171875,
          167.89999389648438,
          170.1199951171875,
          175.4600067138672,
          173.35000610351562,
          176.2100067138672,
          178.97000122070312,
          181.58999633789062,
          181.80999755859375,
          183.52999877929688,
          184.2100067138672,
          186.3000030517578,
          187.77999877929688,
          188.64999389648438,
          188.57000732421875,
          189.8800048828125,
          189.74000549316406,
          190.8300018310547,
          189.25,
          188.89999389648438,
          189.39999389648438,
          188.97000122070312,
          188.19000244140625,
          189.22999572753906,
          187.4499969482422,
          190.17999267578125,
          192.11000061035156,
          193.58999633789062,
          193.6699981689453,
          191.4199981689453,
          191.72000122070312,
          194.85000610351562,
          196.16000366210938,
          197,
          194.38999938964844,
          195.88999938964844,
          194.8300018310547,
          193.5,
          192.97000122070312,
          192.8300018310547,
          191.08999633789062,
          193.1699981689453,
          191.72999572753906,
          183.88999938964844,
          183.42999267578125,
          180.8800048828125,
          180.1699981689453,
          181.5,
          182.72999572753906,
          183.9199981689453,
          183.6199951171875,
          185.19000244140625,
          180.92999267578125,
          180.3000030517578,
          185.8300018310547,
          188.82000732421875,
          192.25999450683594,
          193.8300018310547,
          194.33999633789062,
          193.11000061035156,
          191.94000244140625,
          189.5800018310547,
          187.47000122070312,
          184.35000610351562,
          183.82000732421875,
          179.25,
          185.83999633789062,
          186.77000427246094,
          188.61000061035156,
          187.35000610351562,
          188,
          186.7899932861328,
          183.50999450683594,
          182.44000244140625,
          181.35000610351562,
          181.6699981689453,
          180,
          180.66000366210938,
          182.4600067138672,
          182.22999572753906,
          180.64999389648438,
          179.55999755859375,
          180.1300048828125,
          179.52999877929688,
          177.3800048828125,
          173.7899932861328,
          169.6199951171875,
          168.67999267578125,
          168.49000549316406,
          168.94000244140625,
          172.0500030517578,
          171.00999450683594,
          170.75999450683594,
          172.0500030517578,
          170.2899932861328,
          173.52000427246094,
          173.02999877929688,
          175.08999633789062,
          170.83999633789062,
          170.05999755859375,
          169.4499969482422,
          169.5800018310547,
          170.11000061035156,
          170.50999450683594,
          169.47999572753906,
          168.22999572753906,
          168.5800018310547,
          168.82000732421875,
          168.9499969482422,
          168.24000549316406,
          168.35000610351562,
          167.11000061035156,
          168.16000366210938,
          174.2100067138672,
          172.5,
          168.27000427246094,
          168,
          166.5500030517578,
          164.0800018310547,
          164.77000427246094,
          164.9199981689453,
          166.2100067138672,
          168.14999389648438,
          169.17999267578125,
          173.10000610351562,
          170,
          169.11000061035156,
          170.88999938964844,
          182.66000366210938,
          180.4199981689453,
          181.32000732421875,
          181.4499969482422,
          182.11000061035156,
          182.1300048828125,
          184.6199951171875,
          186.2899932861328,
          187.3699951171875,
          189.66000366210938,
          189.17999267578125,
          189.00999450683594,
          190.9199981689453,
          190.27000427246094,
          186.6300048828125,
          188.0399932861328,
          189.10000610351562,
          189.50999450683594,
          190.6300048828125,
          189.91000366210938,
          192.52000427246094,
          193.02999877929688,
          194.8699951171875,
          194.1699981689453,
          194.13999938964844,
          192.14999389648438,
          193.6300048828125,
          206.89999389648438,
          211.60000610351562,
          211.3000030517578,
          212.72000122070312,
          213,
          208.85000610351562,
          207.11000061035156,
          206.58999633789062,
          208.61000061035156,
          210.63999938964844,
          212.35000610351562,
          210.3000030517578,
          211.9199981689453,
          215.10000610351562,
          219.02999877929688,
          221.64999389648438,
          223.25,
          226.3699951171875,
          229.25,
          225.77000427246094,
          228.67999267578125,
          233.08999633789062
         ],
         "open": [
          142.6999969482422,
          143.97000122070312,
          148.89999389648438,
          148.02999877929688,
          152.57000732421875,
          150.63999938964844,
          153.8800048828125,
          153.77999877929688,
          149.4600067138672,
          150.9499969482422,
          152.1199951171875,
          153.11000061035156,
          153.50999450683594,
          152.35000610351562,
          150.1999969482422,
          148.8699951171875,
          150.08999633789062,
          147.11000061035156,
          147.7100067138672,
          147.0500030517578,
          146.8300018310547,
          144.3800048828125,
          148.0399932861328,
          153.7899932861328,
          153.6999969482422,
          152.80999755859375,
          153.55999755859375,
          150.2100067138672,
          147.80999755859375,
          151.27999877929688,
          151.19000244140625,
          152.16000366210938,
          156.0800018310547,
          155.07000732421875,
          157.32000732421875,
          159.3000030517578,
          158.8300018310547,
          158.86000061035156,
          159.94000244140625,
          157.97000122070312,
          159.3699951171875,
          161.52999877929688,
          162.44000244140625,
          164.27000427246094,
          166.60000610351562,
          164.74000549316406,
          162.42999267578125,
          161.4199981689453,
          162.35000610351562,
          161.22000122070312,
          161.6300048828125,
          164.58999633789062,
          165.08999633789062,
          166.10000610351562,
          165.8000030517578,
          166.08999633789062,
          165.0500030517578,
          165,
          165.19000244140625,
          163.05999755859375,
          165.19000244140625,
          168.49000549316406,
          169.27999877929688,
          170.08999633789062,
          169.5,
          164.88999938964844,
          170.97999572753906,
          172.47999572753906,
          173.0500030517578,
          173.02000427246094,
          173.85000610351562,
          173.6199951171875,
          173.16000366210938,
          171.99000549316406,
          171.7100067138672,
          173,
          176.38999938964844,
          173.97999572753906,
          173.1300048828125,
          171.08999633789062,
          172.41000366210938,
          173.32000732421875,
          176.9600067138672,
          177.3300018310547,
          177.6999969482422,
          181.02999877929688,
          182.6300048828125,
          179.97000122070312,
          178.44000244140625,
          177.89999389648438,
          181.5,
          181.27000427246094,
          182.8000030517578,
          183.3699951171875,
          183.9600067138672,
          186.72999572753906,
          184.41000366210938,
          184.89999389648438,
          183.74000549316406,
          185.5500030517578,
          186.8300018310547,
          185.88999938964844,
          187.92999267578125,
          189.0800018310547,
          191.6300048828125,
          193.77999877929688,
          191.57000732421875,
          189.83999633789062,
          191.41000366210938,
          189.25999450683594,
          189.16000366210938,
          189.67999267578125,
          190.5,
          190.22999572753906,
          191.89999389648438,
          193.35000610351562,
          193.10000610351562,
          195.08999633789062,
          194.10000610351562,
          193.41000366210938,
          193.3300018310547,
          193.6699981689453,
          196.02000427246094,
          194.6699981689453,
          196.05999755859375,
          196.24000549316406,
          195.0399932861328,
          191.57000732421875,
          185.52000427246094,
          182.1300048828125,
          179.69000244140625,
          180.8699951171875,
          179.47999572753906,
          177.32000732421875,
          177.97000122070312,
          178.8800048828125,
          177.1300048828125,
          177.13999938964844,
          172.3000030517578,
          175.07000732421875,
          177.05999755859375,
          178.52000427246094,
          180.6699981689453,
          177.3800048828125,
          180.08999633789062,
          179.6999969482422,
          184.94000244140625,
          187.83999633789062,
          189.49000549316406,
          188.27999877929688,
          188.39999389648438,
          175.17999267578125,
          178.35000610351562,
          180.07000732421875,
          179.49000549316406,
          176.50999450683594,
          174,
          176.47999572753906,
          176.47999572753906,
          177.52000427246094,
          179.25999450683594,
          174.5500030517578,
          174.6699981689453,
          174.1999969482422,
          174.82000732421875,
          172.6199951171875,
          169.33999633789062,
          172.02000427246094,
          171.22000122070312,
          172.25999450683594,
          171.08999633789062,
          173.7899932861328,
          173.8000030517578,
          176.80999755859375,
          178.10000610351562,
          178.1999969482422,
          180.07000732421875,
          181.4199981689453,
          176.75,
          176.64999389648438,
          175.5800018310547,
          176.0399932861328,
          175.30999755859375,
          170.91000366210938,
          173.0500030517578,
          171.8800048828125,
          170.3699951171875,
          166.91000366210938,
          169.02000427246094,
          169.35000610351562,
          171,
          175.52000427246094,
          174.24000549316406,
          176.3800048828125,
          179.17999267578125,
          182.35000610351562,
          182.9600067138672,
          183.97000122070312,
          185.82000732421875,
          187.6999969482422,
          187.85000610351562,
          189.57000732421875,
          190.25,
          189.88999938964844,
          191.41000366210938,
          191.49000549316406,
          190.8699951171875,
          189.9199981689453,
          189.77999877929688,
          190.89999389648438,
          189.83999633789062,
          190.3300018310547,
          189.97999572753906,
          190.2100067138672,
          194.4499969482422,
          193.6300048828125,
          194.1999969482422,
          193.11000061035156,
          193.0800018310547,
          195.08999633789062,
          198.02000427246094,
          197.52999877929688,
          196.08999633789062,
          196.16000366210938,
          196.89999389648438,
          196.10000610351562,
          195.17999267578125,
          193.61000061035156,
          192.49000549316406,
          194.13999938964844,
          193.89999389648438,
          187.14999389648438,
          184.22000122070312,
          182.14999389648438,
          181.99000549316406,
          182.08999633789062,
          183.9199981689453,
          184.35000610351562,
          186.5399932861328,
          186.05999755859375,
          182.16000366210938,
          181.27000427246094,
          186.08999633789062,
          189.3300018310547,
          192.3000030517578,
          195.02000427246094,
          195.4199981689453,
          195.22000122070312,
          194.27000427246094,
          192.00999450683594,
          190.94000244140625,
          187.0399932861328,
          183.99000549316406,
          179.86000061035156,
          188.14999389648438,
          186.86000061035156,
          190.63999938964844,
          189.38999938964844,
          188.64999389648438,
          188.4199981689453,
          185.77000427246094,
          185.32000732421875,
          183.5500030517578,
          183.4199981689453,
          181.7899932861328,
          181.94000244140625,
          183.47999572753906,
          185.00999450683594,
          182.24000549316406,
          181.10000610351562,
          182.50999450683594,
          181.27000427246094,
          179.5500030517578,
          176.14999389648438,
          170.75999450683594,
          171.05999755859375,
          169.14999389648438,
          169,
          172.94000244140625,
          173.14999389648438,
          172.77000427246094,
          172.91000366210938,
          171.1699981689453,
          175.57000732421875,
          174.33999633789062,
          175.72000122070312,
          177.0500030517578,
          171.75999450683594,
          170.57000732421875,
          170,
          170.41000366210938,
          171.75,
          171.19000244140625,
          169.0800018310547,
          168.7899932861328,
          170.2899932861328,
          169.58999633789062,
          169.02999877929688,
          168.6999969482422,
          168.8000030517578,
          168.33999633789062,
          174.25999450683594,
          175.36000061035156,
          171.75,
          169.61000061035156,
          168.02999877929688,
          166.2100067138672,
          165.52000427246094,
          165.35000610351562,
          166.5399932861328,
          169.52999877929688,
          169.8800048828125,
          173.3699951171875,
          173.3300018310547,
          169.5800018310547,
          172.50999450683594,
          186.64999389648438,
          182.35000610351562,
          183.4499969482422,
          182.85000610351562,
          182.55999755859375,
          184.89999389648438,
          185.44000244140625,
          187.50999450683594,
          187.91000366210938,
          190.47000122070312,
          189.50999450683594,
          189.3300018310547,
          191.08999633789062,
          192.27000427246094,
          190.97999572753906,
          188.82000732421875,
          191.50999450683594,
          189.61000061035156,
          190.75999450683594,
          191.44000244140625,
          192.89999389648438,
          194.63999938964844,
          195.39999389648438,
          195.69000244140625,
          194.64999389648438,
          196.89999389648438,
          193.64999389648438,
          207.3699951171875,
          214.74000549316406,
          213.85000610351562,
          213.3699951171875,
          217.58999633789062,
          213.92999267578125,
          210.38999938964844,
          207.72000122070312,
          209.14999389648438,
          211.5,
          214.69000244140625,
          215.77000427246094,
          212.08999633789062,
          216.14999389648438,
          220,
          221.64999389648438,
          227.08999633789062,
          227.92999267578125,
          229.3000030517578,
          231.38999938964844,
          228.9199981689453,
          236.47999572753906
         ],
         "type": "candlestick",
         "x": [
          "2023-01-31T00:00:00",
          "2023-02-01T00:00:00",
          "2023-02-02T00:00:00",
          "2023-02-03T00:00:00",
          "2023-02-06T00:00:00",
          "2023-02-07T00:00:00",
          "2023-02-08T00:00:00",
          "2023-02-09T00:00:00",
          "2023-02-10T00:00:00",
          "2023-02-13T00:00:00",
          "2023-02-14T00:00:00",
          "2023-02-15T00:00:00",
          "2023-02-16T00:00:00",
          "2023-02-17T00:00:00",
          "2023-02-21T00:00:00",
          "2023-02-22T00:00:00",
          "2023-02-23T00:00:00",
          "2023-02-24T00:00:00",
          "2023-02-27T00:00:00",
          "2023-02-28T00:00:00",
          "2023-03-01T00:00:00",
          "2023-03-02T00:00:00",
          "2023-03-03T00:00:00",
          "2023-03-06T00:00:00",
          "2023-03-07T00:00:00",
          "2023-03-08T00:00:00",
          "2023-03-09T00:00:00",
          "2023-03-10T00:00:00",
          "2023-03-13T00:00:00",
          "2023-03-14T00:00:00",
          "2023-03-15T00:00:00",
          "2023-03-16T00:00:00",
          "2023-03-17T00:00:00",
          "2023-03-20T00:00:00",
          "2023-03-21T00:00:00",
          "2023-03-22T00:00:00",
          "2023-03-23T00:00:00",
          "2023-03-24T00:00:00",
          "2023-03-27T00:00:00",
          "2023-03-28T00:00:00",
          "2023-03-29T00:00:00",
          "2023-03-30T00:00:00",
          "2023-03-31T00:00:00",
          "2023-04-03T00:00:00",
          "2023-04-04T00:00:00",
          "2023-04-05T00:00:00",
          "2023-04-06T00:00:00",
          "2023-04-10T00:00:00",
          "2023-04-11T00:00:00",
          "2023-04-12T00:00:00",
          "2023-04-13T00:00:00",
          "2023-04-14T00:00:00",
          "2023-04-17T00:00:00",
          "2023-04-18T00:00:00",
          "2023-04-19T00:00:00",
          "2023-04-20T00:00:00",
          "2023-04-21T00:00:00",
          "2023-04-24T00:00:00",
          "2023-04-25T00:00:00",
          "2023-04-26T00:00:00",
          "2023-04-27T00:00:00",
          "2023-04-28T00:00:00",
          "2023-05-01T00:00:00",
          "2023-05-02T00:00:00",
          "2023-05-03T00:00:00",
          "2023-05-04T00:00:00",
          "2023-05-05T00:00:00",
          "2023-05-08T00:00:00",
          "2023-05-09T00:00:00",
          "2023-05-10T00:00:00",
          "2023-05-11T00:00:00",
          "2023-05-12T00:00:00",
          "2023-05-15T00:00:00",
          "2023-05-16T00:00:00",
          "2023-05-17T00:00:00",
          "2023-05-18T00:00:00",
          "2023-05-19T00:00:00",
          "2023-05-22T00:00:00",
          "2023-05-23T00:00:00",
          "2023-05-24T00:00:00",
          "2023-05-25T00:00:00",
          "2023-05-26T00:00:00",
          "2023-05-30T00:00:00",
          "2023-05-31T00:00:00",
          "2023-06-01T00:00:00",
          "2023-06-02T00:00:00",
          "2023-06-05T00:00:00",
          "2023-06-06T00:00:00",
          "2023-06-07T00:00:00",
          "2023-06-08T00:00:00",
          "2023-06-09T00:00:00",
          "2023-06-12T00:00:00",
          "2023-06-13T00:00:00",
          "2023-06-14T00:00:00",
          "2023-06-15T00:00:00",
          "2023-06-16T00:00:00",
          "2023-06-20T00:00:00",
          "2023-06-21T00:00:00",
          "2023-06-22T00:00:00",
          "2023-06-23T00:00:00",
          "2023-06-26T00:00:00",
          "2023-06-27T00:00:00",
          "2023-06-28T00:00:00",
          "2023-06-29T00:00:00",
          "2023-06-30T00:00:00",
          "2023-07-03T00:00:00",
          "2023-07-05T00:00:00",
          "2023-07-06T00:00:00",
          "2023-07-07T00:00:00",
          "2023-07-10T00:00:00",
          "2023-07-11T00:00:00",
          "2023-07-12T00:00:00",
          "2023-07-13T00:00:00",
          "2023-07-14T00:00:00",
          "2023-07-17T00:00:00",
          "2023-07-18T00:00:00",
          "2023-07-19T00:00:00",
          "2023-07-20T00:00:00",
          "2023-07-21T00:00:00",
          "2023-07-24T00:00:00",
          "2023-07-25T00:00:00",
          "2023-07-26T00:00:00",
          "2023-07-27T00:00:00",
          "2023-07-28T00:00:00",
          "2023-07-31T00:00:00",
          "2023-08-01T00:00:00",
          "2023-08-02T00:00:00",
          "2023-08-03T00:00:00",
          "2023-08-04T00:00:00",
          "2023-08-07T00:00:00",
          "2023-08-08T00:00:00",
          "2023-08-09T00:00:00",
          "2023-08-10T00:00:00",
          "2023-08-11T00:00:00",
          "2023-08-14T00:00:00",
          "2023-08-15T00:00:00",
          "2023-08-16T00:00:00",
          "2023-08-17T00:00:00",
          "2023-08-18T00:00:00",
          "2023-08-21T00:00:00",
          "2023-08-22T00:00:00",
          "2023-08-23T00:00:00",
          "2023-08-24T00:00:00",
          "2023-08-25T00:00:00",
          "2023-08-28T00:00:00",
          "2023-08-29T00:00:00",
          "2023-08-30T00:00:00",
          "2023-08-31T00:00:00",
          "2023-09-01T00:00:00",
          "2023-09-05T00:00:00",
          "2023-09-06T00:00:00",
          "2023-09-07T00:00:00",
          "2023-09-08T00:00:00",
          "2023-09-11T00:00:00",
          "2023-09-12T00:00:00",
          "2023-09-13T00:00:00",
          "2023-09-14T00:00:00",
          "2023-09-15T00:00:00",
          "2023-09-18T00:00:00",
          "2023-09-19T00:00:00",
          "2023-09-20T00:00:00",
          "2023-09-21T00:00:00",
          "2023-09-22T00:00:00",
          "2023-09-25T00:00:00",
          "2023-09-26T00:00:00",
          "2023-09-27T00:00:00",
          "2023-09-28T00:00:00",
          "2023-09-29T00:00:00",
          "2023-10-02T00:00:00",
          "2023-10-03T00:00:00",
          "2023-10-04T00:00:00",
          "2023-10-05T00:00:00",
          "2023-10-06T00:00:00",
          "2023-10-09T00:00:00",
          "2023-10-10T00:00:00",
          "2023-10-11T00:00:00",
          "2023-10-12T00:00:00",
          "2023-10-13T00:00:00",
          "2023-10-16T00:00:00",
          "2023-10-17T00:00:00",
          "2023-10-18T00:00:00",
          "2023-10-19T00:00:00",
          "2023-10-20T00:00:00",
          "2023-10-23T00:00:00",
          "2023-10-24T00:00:00",
          "2023-10-25T00:00:00",
          "2023-10-26T00:00:00",
          "2023-10-27T00:00:00",
          "2023-10-30T00:00:00",
          "2023-10-31T00:00:00",
          "2023-11-01T00:00:00",
          "2023-11-02T00:00:00",
          "2023-11-03T00:00:00",
          "2023-11-06T00:00:00",
          "2023-11-07T00:00:00",
          "2023-11-08T00:00:00",
          "2023-11-09T00:00:00",
          "2023-11-10T00:00:00",
          "2023-11-13T00:00:00",
          "2023-11-14T00:00:00",
          "2023-11-15T00:00:00",
          "2023-11-16T00:00:00",
          "2023-11-17T00:00:00",
          "2023-11-20T00:00:00",
          "2023-11-21T00:00:00",
          "2023-11-22T00:00:00",
          "2023-11-24T00:00:00",
          "2023-11-27T00:00:00",
          "2023-11-28T00:00:00",
          "2023-11-29T00:00:00",
          "2023-11-30T00:00:00",
          "2023-12-01T00:00:00",
          "2023-12-04T00:00:00",
          "2023-12-05T00:00:00",
          "2023-12-06T00:00:00",
          "2023-12-07T00:00:00",
          "2023-12-08T00:00:00",
          "2023-12-11T00:00:00",
          "2023-12-12T00:00:00",
          "2023-12-13T00:00:00",
          "2023-12-14T00:00:00",
          "2023-12-15T00:00:00",
          "2023-12-18T00:00:00",
          "2023-12-19T00:00:00",
          "2023-12-20T00:00:00",
          "2023-12-21T00:00:00",
          "2023-12-22T00:00:00",
          "2023-12-26T00:00:00",
          "2023-12-27T00:00:00",
          "2023-12-28T00:00:00",
          "2023-12-29T00:00:00",
          "2024-01-02T00:00:00",
          "2024-01-03T00:00:00",
          "2024-01-04T00:00:00",
          "2024-01-05T00:00:00",
          "2024-01-08T00:00:00",
          "2024-01-09T00:00:00",
          "2024-01-10T00:00:00",
          "2024-01-11T00:00:00",
          "2024-01-12T00:00:00",
          "2024-01-16T00:00:00",
          "2024-01-17T00:00:00",
          "2024-01-18T00:00:00",
          "2024-01-19T00:00:00",
          "2024-01-22T00:00:00",
          "2024-01-23T00:00:00",
          "2024-01-24T00:00:00",
          "2024-01-25T00:00:00",
          "2024-01-26T00:00:00",
          "2024-01-29T00:00:00",
          "2024-01-30T00:00:00",
          "2024-01-31T00:00:00",
          "2024-02-01T00:00:00",
          "2024-02-02T00:00:00",
          "2024-02-05T00:00:00",
          "2024-02-06T00:00:00",
          "2024-02-07T00:00:00",
          "2024-02-08T00:00:00",
          "2024-02-09T00:00:00",
          "2024-02-12T00:00:00",
          "2024-02-13T00:00:00",
          "2024-02-14T00:00:00",
          "2024-02-15T00:00:00",
          "2024-02-16T00:00:00",
          "2024-02-20T00:00:00",
          "2024-02-21T00:00:00",
          "2024-02-22T00:00:00",
          "2024-02-23T00:00:00",
          "2024-02-26T00:00:00",
          "2024-02-27T00:00:00",
          "2024-02-28T00:00:00",
          "2024-02-29T00:00:00",
          "2024-03-01T00:00:00",
          "2024-03-04T00:00:00",
          "2024-03-05T00:00:00",
          "2024-03-06T00:00:00",
          "2024-03-07T00:00:00",
          "2024-03-08T00:00:00",
          "2024-03-11T00:00:00",
          "2024-03-12T00:00:00",
          "2024-03-13T00:00:00",
          "2024-03-14T00:00:00",
          "2024-03-15T00:00:00",
          "2024-03-18T00:00:00",
          "2024-03-19T00:00:00",
          "2024-03-20T00:00:00",
          "2024-03-21T00:00:00",
          "2024-03-22T00:00:00",
          "2024-03-25T00:00:00",
          "2024-03-26T00:00:00",
          "2024-03-27T00:00:00",
          "2024-03-28T00:00:00",
          "2024-04-01T00:00:00",
          "2024-04-02T00:00:00",
          "2024-04-03T00:00:00",
          "2024-04-04T00:00:00",
          "2024-04-05T00:00:00",
          "2024-04-08T00:00:00",
          "2024-04-09T00:00:00",
          "2024-04-10T00:00:00",
          "2024-04-11T00:00:00",
          "2024-04-12T00:00:00",
          "2024-04-15T00:00:00",
          "2024-04-16T00:00:00",
          "2024-04-17T00:00:00",
          "2024-04-18T00:00:00",
          "2024-04-19T00:00:00",
          "2024-04-22T00:00:00",
          "2024-04-23T00:00:00",
          "2024-04-24T00:00:00",
          "2024-04-25T00:00:00",
          "2024-04-26T00:00:00",
          "2024-04-29T00:00:00",
          "2024-04-30T00:00:00",
          "2024-05-01T00:00:00",
          "2024-05-02T00:00:00",
          "2024-05-03T00:00:00",
          "2024-05-06T00:00:00",
          "2024-05-07T00:00:00",
          "2024-05-08T00:00:00",
          "2024-05-09T00:00:00",
          "2024-05-10T00:00:00",
          "2024-05-13T00:00:00",
          "2024-05-14T00:00:00",
          "2024-05-15T00:00:00",
          "2024-05-16T00:00:00",
          "2024-05-17T00:00:00",
          "2024-05-20T00:00:00",
          "2024-05-21T00:00:00",
          "2024-05-22T00:00:00",
          "2024-05-23T00:00:00",
          "2024-05-24T00:00:00",
          "2024-05-28T00:00:00",
          "2024-05-29T00:00:00",
          "2024-05-30T00:00:00",
          "2024-05-31T00:00:00",
          "2024-06-03T00:00:00",
          "2024-06-04T00:00:00",
          "2024-06-05T00:00:00",
          "2024-06-06T00:00:00",
          "2024-06-07T00:00:00",
          "2024-06-10T00:00:00",
          "2024-06-11T00:00:00",
          "2024-06-12T00:00:00",
          "2024-06-13T00:00:00",
          "2024-06-14T00:00:00",
          "2024-06-17T00:00:00",
          "2024-06-18T00:00:00",
          "2024-06-20T00:00:00",
          "2024-06-21T00:00:00",
          "2024-06-24T00:00:00",
          "2024-06-25T00:00:00",
          "2024-06-26T00:00:00",
          "2024-06-27T00:00:00",
          "2024-06-28T00:00:00",
          "2024-07-01T00:00:00",
          "2024-07-02T00:00:00",
          "2024-07-03T00:00:00",
          "2024-07-05T00:00:00",
          "2024-07-08T00:00:00",
          "2024-07-09T00:00:00",
          "2024-07-10T00:00:00",
          "2024-07-11T00:00:00",
          "2024-07-12T00:00:00",
          "2024-07-15T00:00:00"
         ]
        }
       ],
       "layout": {
        "height": 600,
        "template": {
         "data": {
          "bar": [
           {
            "error_x": {
             "color": "#2a3f5f"
            },
            "error_y": {
             "color": "#2a3f5f"
            },
            "marker": {
             "line": {
              "color": "#E5ECF6",
              "width": 0.5
             },
             "pattern": {
              "fillmode": "overlay",
              "size": 10,
              "solidity": 0.2
             }
            },
            "type": "bar"
           }
          ],
          "barpolar": [
           {
            "marker": {
             "line": {
              "color": "#E5ECF6",
              "width": 0.5
             },
             "pattern": {
              "fillmode": "overlay",
              "size": 10,
              "solidity": 0.2
             }
            },
            "type": "barpolar"
           }
          ],
          "carpet": [
           {
            "aaxis": {
             "endlinecolor": "#2a3f5f",
             "gridcolor": "white",
             "linecolor": "white",
             "minorgridcolor": "white",
             "startlinecolor": "#2a3f5f"
            },
            "baxis": {
             "endlinecolor": "#2a3f5f",
             "gridcolor": "white",
             "linecolor": "white",
             "minorgridcolor": "white",
             "startlinecolor": "#2a3f5f"
            },
            "type": "carpet"
           }
          ],
          "choropleth": [
           {
            "colorbar": {
             "outlinewidth": 0,
             "ticks": ""
            },
            "type": "choropleth"
           }
          ],
          "contour": [
           {
            "colorbar": {
             "outlinewidth": 0,
             "ticks": ""
            },
            "colorscale": [
             [
              0,
              "#0d0887"
             ],
             [
              0.1111111111111111,
              "#46039f"
             ],
             [
              0.2222222222222222,
              "#7201a8"
             ],
             [
              0.3333333333333333,
              "#9c179e"
             ],
             [
              0.4444444444444444,
              "#bd3786"
             ],
             [
              0.5555555555555556,
              "#d8576b"
             ],
             [
              0.6666666666666666,
              "#ed7953"
             ],
             [
              0.7777777777777778,
              "#fb9f3a"
             ],
             [
              0.8888888888888888,
              "#fdca26"
             ],
             [
              1,
              "#f0f921"
             ]
            ],
            "type": "contour"
           }
          ],
          "contourcarpet": [
           {
            "colorbar": {
             "outlinewidth": 0,
             "ticks": ""
            },
            "type": "contourcarpet"
           }
          ],
          "heatmap": [
           {
            "colorbar": {
             "outlinewidth": 0,
             "ticks": ""
            },
            "colorscale": [
             [
              0,
              "#0d0887"
             ],
             [
              0.1111111111111111,
              "#46039f"
             ],
             [
              0.2222222222222222,
              "#7201a8"
             ],
             [
              0.3333333333333333,
              "#9c179e"
             ],
             [
              0.4444444444444444,
              "#bd3786"
             ],
             [
              0.5555555555555556,
              "#d8576b"
             ],
             [
              0.6666666666666666,
              "#ed7953"
             ],
             [
              0.7777777777777778,
              "#fb9f3a"
             ],
             [
              0.8888888888888888,
              "#fdca26"
             ],
             [
              1,
              "#f0f921"
             ]
            ],
            "type": "heatmap"
           }
          ],
          "heatmapgl": [
           {
            "colorbar": {
             "outlinewidth": 0,
             "ticks": ""
            },
            "colorscale": [
             [
              0,
              "#0d0887"
             ],
             [
              0.1111111111111111,
              "#46039f"
             ],
             [
              0.2222222222222222,
              "#7201a8"
             ],
             [
              0.3333333333333333,
              "#9c179e"
             ],
             [
              0.4444444444444444,
              "#bd3786"
             ],
             [
              0.5555555555555556,
              "#d8576b"
             ],
             [
              0.6666666666666666,
              "#ed7953"
             ],
             [
              0.7777777777777778,
              "#fb9f3a"
             ],
             [
              0.8888888888888888,
              "#fdca26"
             ],
             [
              1,
              "#f0f921"
             ]
            ],
            "type": "heatmapgl"
           }
          ],
          "histogram": [
           {
            "marker": {
             "pattern": {
              "fillmode": "overlay",
              "size": 10,
              "solidity": 0.2
             }
            },
            "type": "histogram"
           }
          ],
          "histogram2d": [
           {
            "colorbar": {
             "outlinewidth": 0,
             "ticks": ""
            },
            "colorscale": [
             [
              0,
              "#0d0887"
             ],
             [
              0.1111111111111111,
              "#46039f"
             ],
             [
              0.2222222222222222,
              "#7201a8"
             ],
             [
              0.3333333333333333,
              "#9c179e"
             ],
             [
              0.4444444444444444,
              "#bd3786"
             ],
             [
              0.5555555555555556,
              "#d8576b"
             ],
             [
              0.6666666666666666,
              "#ed7953"
             ],
             [
              0.7777777777777778,
              "#fb9f3a"
             ],
             [
              0.8888888888888888,
              "#fdca26"
             ],
             [
              1,
              "#f0f921"
             ]
            ],
            "type": "histogram2d"
           }
          ],
          "histogram2dcontour": [
           {
            "colorbar": {
             "outlinewidth": 0,
             "ticks": ""
            },
            "colorscale": [
             [
              0,
              "#0d0887"
             ],
             [
              0.1111111111111111,
              "#46039f"
             ],
             [
              0.2222222222222222,
              "#7201a8"
             ],
             [
              0.3333333333333333,
              "#9c179e"
             ],
             [
              0.4444444444444444,
              "#bd3786"
             ],
             [
              0.5555555555555556,
              "#d8576b"
             ],
             [
              0.6666666666666666,
              "#ed7953"
             ],
             [
              0.7777777777777778,
              "#fb9f3a"
             ],
             [
              0.8888888888888888,
              "#fdca26"
             ],
             [
              1,
              "#f0f921"
             ]
            ],
            "type": "histogram2dcontour"
           }
          ],
          "mesh3d": [
           {
            "colorbar": {
             "outlinewidth": 0,
             "ticks": ""
            },
            "type": "mesh3d"
           }
          ],
          "parcoords": [
           {
            "line": {
             "colorbar": {
              "outlinewidth": 0,
              "ticks": ""
             }
            },
            "type": "parcoords"
           }
          ],
          "pie": [
           {
            "automargin": true,
            "type": "pie"
           }
          ],
          "scatter": [
           {
            "fillpattern": {
             "fillmode": "overlay",
             "size": 10,
             "solidity": 0.2
            },
            "type": "scatter"
           }
          ],
          "scatter3d": [
           {
            "line": {
             "colorbar": {
              "outlinewidth": 0,
              "ticks": ""
             }
            },
            "marker": {
             "colorbar": {
              "outlinewidth": 0,
              "ticks": ""
             }
            },
            "type": "scatter3d"
           }
          ],
          "scattercarpet": [
           {
            "marker": {
             "colorbar": {
              "outlinewidth": 0,
              "ticks": ""
             }
            },
            "type": "scattercarpet"
           }
          ],
          "scattergeo": [
           {
            "marker": {
             "colorbar": {
              "outlinewidth": 0,
              "ticks": ""
             }
            },
            "type": "scattergeo"
           }
          ],
          "scattergl": [
           {
            "marker": {
             "colorbar": {
              "outlinewidth": 0,
              "ticks": ""
             }
            },
            "type": "scattergl"
           }
          ],
          "scattermapbox": [
           {
            "marker": {
             "colorbar": {
              "outlinewidth": 0,
              "ticks": ""
             }
            },
            "type": "scattermapbox"
           }
          ],
          "scatterpolar": [
           {
            "marker": {
             "colorbar": {
              "outlinewidth": 0,
              "ticks": ""
             }
            },
            "type": "scatterpolar"
           }
          ],
          "scatterpolargl": [
           {
            "marker": {
             "colorbar": {
              "outlinewidth": 0,
              "ticks": ""
             }
            },
            "type": "scatterpolargl"
           }
          ],
          "scatterternary": [
           {
            "marker": {
             "colorbar": {
              "outlinewidth": 0,
              "ticks": ""
             }
            },
            "type": "scatterternary"
           }
          ],
          "surface": [
           {
            "colorbar": {
             "outlinewidth": 0,
             "ticks": ""
            },
            "colorscale": [
             [
              0,
              "#0d0887"
             ],
             [
              0.1111111111111111,
              "#46039f"
             ],
             [
              0.2222222222222222,
              "#7201a8"
             ],
             [
              0.3333333333333333,
              "#9c179e"
             ],
             [
              0.4444444444444444,
              "#bd3786"
             ],
             [
              0.5555555555555556,
              "#d8576b"
             ],
             [
              0.6666666666666666,
              "#ed7953"
             ],
             [
              0.7777777777777778,
              "#fb9f3a"
             ],
             [
              0.8888888888888888,
              "#fdca26"
             ],
             [
              1,
              "#f0f921"
             ]
            ],
            "type": "surface"
           }
          ],
          "table": [
           {
            "cells": {
             "fill": {
              "color": "#EBF0F8"
             },
             "line": {
              "color": "white"
             }
            },
            "header": {
             "fill": {
              "color": "#C8D4E3"
             },
             "line": {
              "color": "white"
             }
            },
            "type": "table"
           }
          ]
         },
         "layout": {
          "annotationdefaults": {
           "arrowcolor": "#2a3f5f",
           "arrowhead": 0,
           "arrowwidth": 1
          },
          "autotypenumbers": "strict",
          "coloraxis": {
           "colorbar": {
            "outlinewidth": 0,
            "ticks": ""
           }
          },
          "colorscale": {
           "diverging": [
            [
             0,
             "#8e0152"
            ],
            [
             0.1,
             "#c51b7d"
            ],
            [
             0.2,
             "#de77ae"
            ],
            [
             0.3,
             "#f1b6da"
            ],
            [
             0.4,
             "#fde0ef"
            ],
            [
             0.5,
             "#f7f7f7"
            ],
            [
             0.6,
             "#e6f5d0"
            ],
            [
             0.7,
             "#b8e186"
            ],
            [
             0.8,
             "#7fbc41"
            ],
            [
             0.9,
             "#4d9221"
            ],
            [
             1,
             "#276419"
            ]
           ],
           "sequential": [
            [
             0,
             "#0d0887"
            ],
            [
             0.1111111111111111,
             "#46039f"
            ],
            [
             0.2222222222222222,
             "#7201a8"
            ],
            [
             0.3333333333333333,
             "#9c179e"
            ],
            [
             0.4444444444444444,
             "#bd3786"
            ],
            [
             0.5555555555555556,
             "#d8576b"
            ],
            [
             0.6666666666666666,
             "#ed7953"
            ],
            [
             0.7777777777777778,
             "#fb9f3a"
            ],
            [
             0.8888888888888888,
             "#fdca26"
            ],
            [
             1,
             "#f0f921"
            ]
           ],
           "sequentialminus": [
            [
             0,
             "#0d0887"
            ],
            [
             0.1111111111111111,
             "#46039f"
            ],
            [
             0.2222222222222222,
             "#7201a8"
            ],
            [
             0.3333333333333333,
             "#9c179e"
            ],
            [
             0.4444444444444444,
             "#bd3786"
            ],
            [
             0.5555555555555556,
             "#d8576b"
            ],
            [
             0.6666666666666666,
             "#ed7953"
            ],
            [
             0.7777777777777778,
             "#fb9f3a"
            ],
            [
             0.8888888888888888,
             "#fdca26"
            ],
            [
             1,
             "#f0f921"
            ]
           ]
          },
          "colorway": [
           "#636efa",
           "#EF553B",
           "#00cc96",
           "#ab63fa",
           "#FFA15A",
           "#19d3f3",
           "#FF6692",
           "#B6E880",
           "#FF97FF",
           "#FECB52"
          ],
          "font": {
           "color": "#2a3f5f"
          },
          "geo": {
           "bgcolor": "white",
           "lakecolor": "white",
           "landcolor": "#E5ECF6",
           "showlakes": true,
           "showland": true,
           "subunitcolor": "white"
          },
          "hoverlabel": {
           "align": "left"
          },
          "hovermode": "closest",
          "mapbox": {
           "style": "light"
          },
          "paper_bgcolor": "white",
          "plot_bgcolor": "#E5ECF6",
          "polar": {
           "angularaxis": {
            "gridcolor": "white",
            "linecolor": "white",
            "ticks": ""
           },
           "bgcolor": "#E5ECF6",
           "radialaxis": {
            "gridcolor": "white",
            "linecolor": "white",
            "ticks": ""
           }
          },
          "scene": {
           "xaxis": {
            "backgroundcolor": "#E5ECF6",
            "gridcolor": "white",
            "gridwidth": 2,
            "linecolor": "white",
            "showbackground": true,
            "ticks": "",
            "zerolinecolor": "white"
           },
           "yaxis": {
            "backgroundcolor": "#E5ECF6",
            "gridcolor": "white",
            "gridwidth": 2,
            "linecolor": "white",
            "showbackground": true,
            "ticks": "",
            "zerolinecolor": "white"
           },
           "zaxis": {
            "backgroundcolor": "#E5ECF6",
            "gridcolor": "white",
            "gridwidth": 2,
            "linecolor": "white",
            "showbackground": true,
            "ticks": "",
            "zerolinecolor": "white"
           }
          },
          "shapedefaults": {
           "line": {
            "color": "#2a3f5f"
           }
          },
          "ternary": {
           "aaxis": {
            "gridcolor": "white",
            "linecolor": "white",
            "ticks": ""
           },
           "baxis": {
            "gridcolor": "white",
            "linecolor": "white",
            "ticks": ""
           },
           "bgcolor": "#E5ECF6",
           "caxis": {
            "gridcolor": "white",
            "linecolor": "white",
            "ticks": ""
           }
          },
          "title": {
           "x": 0.05
          },
          "xaxis": {
           "automargin": true,
           "gridcolor": "white",
           "linecolor": "white",
           "ticks": "",
           "title": {
            "standoff": 15
           },
           "zerolinecolor": "white",
           "zerolinewidth": 2
          },
          "yaxis": {
           "automargin": true,
           "gridcolor": "white",
           "linecolor": "white",
           "ticks": "",
           "title": {
            "standoff": 15
           },
           "zerolinecolor": "white",
           "zerolinewidth": 2
          }
         }
        },
        "title": {
         "text": "Stock Price Analysis Upto Today"
        },
        "width": 1150,
        "xaxis": {
         "autorange": true,
         "range": [
          "2023-01-30 12:00",
          "2024-07-15 12:00"
         ],
         "rangeselector": {
          "buttons": [
           {
            "count": 1,
            "label": "1m",
            "step": "month",
            "stepmode": "backward"
           },
           {
            "count": 3,
            "label": "3m",
            "step": "month",
            "stepmode": "backward"
           },
           {
            "count": 6,
            "label": "6m",
            "step": "month",
            "stepmode": "backward"
           },
           {
            "count": 1,
            "label": "1y",
            "step": "year",
            "stepmode": "backward"
           },
           {
            "step": "all"
           }
          ]
         },
         "rangeslider": {
          "autorange": true,
          "range": [
           "2023-01-30 12:00",
           "2024-07-15 12:00"
          ],
          "visible": true,
          "yaxis": {
           "_template": null,
           "rangemode": "match"
          }
         },
         "type": "date"
        },
        "yaxis": {
         "autorange": true,
         "range": [
          135.9916746351454,
          242.55832841661243
         ]
        }
       }
      },
      "image/png": "[encoded data removed]",
      "text/html": [
       "<div>                            <div id=\"6e141f99-a1e0-4eae-a253-67f48bc4b8f6\" class=\"plotly-graph-div\" style=\"height:600px; width:1150px;\"></div>            <script type=\"text/javascript\">                require([\"plotly\"], function(Plotly) {                    window.PLOTLYENV=window.PLOTLYENV || {};                                    if (document.getElementById(\"6e141f99-a1e0-4eae-a253-67f48bc4b8f6\")) {                    Plotly.newPlot(                        \"6e141f99-a1e0-4eae-a253-67f48bc4b8f6\",                        [{\"close\":[144.2899932861328,145.42999267578125,150.82000732421875,154.5,151.72999572753906,154.64999389648438,151.9199981689453,150.8699951171875,151.00999450683594,153.85000610351562,153.1999969482422,155.3300018310547,153.7100067138672,152.5500030517578,148.47999572753906,148.91000366210938,149.39999389648438,146.7100067138672,147.9199981689453,147.41000366210938,145.30999755859375,145.91000366210938,151.02999877929688,153.8300018310547,151.60000610351562,152.8699951171875,150.58999633789062,148.5,150.47000122070312,152.58999633789062,152.99000549316406,155.85000610351562,155.0,157.39999389648438,159.27999877929688,157.8300018310547,158.92999267578125,160.25,158.27999877929688,157.64999389648438,160.77000427246094,162.36000061035156,164.89999389648438,166.1699981689453,165.6300048828125,163.75999450683594,164.66000366210938,162.02999877929688,160.8000030517578,160.10000610351562,165.55999755859375,165.2100067138672,165.22999572753906,166.47000122070312,167.6300048828125,166.64999389648438,165.02000427246094,165.3300018310547,163.77000427246094,163.75999450683594,168.41000366210938,169.67999267578125,169.58999633789062,168.5399932861328,167.4499969482422,165.7899932861328,173.57000732421875,173.5,171.77000427246094,173.55999755859375,173.75,172.57000732421875,172.07000732421875,172.07000732421875,172.69000244140625,175.0500030517578,175.16000366210938,174.1999969482422,171.55999755859375,171.83999633789062,172.99000549316406,175.42999267578125,177.3000030517578,177.25,180.08999633789062,180.9499969482422,179.5800018310547,179.2100067138672,177.82000732421875,180.57000732421875,180.9600067138672,183.7899932861328,183.30999755859375,183.9499969482422,186.00999450683594,184.9199981689453,185.00999450683594,183.9600067138672,187.0,186.67999267578125,185.27000427246094,188.05999755859375,189.25,189.58999633789062,193.97000122070312,192.4600067138672,191.3300018310547,191.80999755859375,190.67999267578125,188.61000061035156,188.0800018310547,189.77000427246094,190.5399932861328,190.69000244140625,193.99000549316406,193.72999572753906,195.10000610351562,193.1300048828125,191.94000244140625,192.75,193.6199951171875,194.5,193.22000122070312,195.8300018310547,196.4499969482422,195.61000061035156,192.5800018310547,191.1699981689453,181.99000549316406,178.85000610351562,179.8000030517578,178.19000244140625,177.97000122070312,177.7899932861328,179.4600067138672,177.4499969482422,176.57000732421875,174.0,174.49000549316406,175.83999633789062,177.22999572753906,181.1199951171875,176.3800048828125,178.61000061035156,180.19000244140625,184.1199951171875,187.64999389648438,187.8699951171875,189.4600067138672,189.6999969482422,182.91000366210938,177.55999755859375,178.17999267578125,179.36000061035156,176.3000030517578,174.2100067138672,175.74000549316406,175.00999450683594,177.97000122070312,179.07000732421875,175.49000549316406,173.92999267578125,174.7899932861328,176.0800018310547,171.9600067138672,170.42999267578125,170.69000244140625,171.2100067138672,173.75,172.39999389648438,173.66000366210938,174.91000366210938,177.49000549316406,178.99000549316406,178.38999938964844,179.8000030517578,180.7100067138672,178.85000610351562,178.72000122070312,177.14999389648438,175.83999633789062,175.4600067138672,172.8800048828125,173.0,173.44000244140625,171.10000610351562,166.88999938964844,168.22000122070312,170.2899932861328,170.77000427246094,173.97000122070312,177.57000732421875,176.64999389648438,179.22999572753906,181.82000732421875,182.88999938964844,182.41000366210938,186.39999389648438,184.8000030517578,187.44000244140625,188.00999450683594,189.7100067138672,189.69000244140625,191.4499969482422,190.63999938964844,191.30999755859375,189.97000122070312,189.7899932861328,190.39999389648438,189.3699951171875,189.9499969482422,191.24000549316406,189.42999267578125,193.4199981689453,192.32000732421875,194.27000427246094,195.7100067138672,193.17999267578125,194.7100067138672,197.9600067138672,198.11000061035156,197.57000732421875,195.88999938964844,196.94000244140625,194.8300018310547,194.67999267578125,193.60000610351562,193.0500030517578,193.14999389648438,193.5800018310547,192.52999877929688,185.63999938964844,184.25,181.91000366210938,181.17999267578125,185.55999755859375,185.13999938964844,186.19000244140625,185.58999633789062,185.9199981689453,183.6300048828125,182.67999267578125,188.6300048828125,191.55999755859375,193.88999938964844,195.17999267578125,194.5,194.1699981689453,192.4199981689453,191.72999572753906,188.0399932861328,184.39999389648438,186.86000061035156,185.85000610351562,187.67999267578125,189.3000030517578,189.41000366210938,188.32000732421875,188.85000610351562,187.14999389648438,185.0399932861328,184.14999389648438,183.86000061035156,182.30999755859375,181.55999755859375,182.32000732421875,184.3699951171875,182.52000427246094,181.16000366210938,182.6300048828125,181.4199981689453,180.75,179.66000366210938,175.10000610351562,170.1199951171875,169.1199951171875,169.0,170.72999572753906,172.75,173.22999572753906,171.1300048828125,173.0,172.6199951171875,173.72000122070312,176.0800018310547,178.6699981689453,171.3699951171875,172.27999877929688,170.85000610351562,169.7100067138672,173.30999755859375,171.47999572753906,170.02999877929688,168.83999633789062,169.64999389648438,168.82000732421875,169.5800018310547,168.4499969482422,169.6699981689453,167.77999877929688,175.0399932861328,176.5500030517578,172.69000244140625,169.3800048828125,168.0,167.0399932861328,165.0,165.83999633789062,166.89999389648438,169.02000427246094,169.88999938964844,169.3000030517578,173.5,170.3300018310547,169.3000030517578,173.02999877929688,183.3800048828125,181.7100067138672,182.39999389648438,182.74000549316406,184.57000732421875,183.0500030517578,186.27999877929688,187.42999267578125,189.72000122070312,189.83999633789062,189.8699951171875,191.0399932861328,192.35000610351562,190.89999389648438,186.8800048828125,189.97999572753906,189.99000549316406,190.2899932861328,191.2899932861328,192.25,194.02999877929688,194.35000610351562,195.8699951171875,194.47999572753906,196.88999938964844,193.1199951171875,207.14999389648438,213.07000732421875,214.24000549316406,212.49000549316406,216.6699981689453,214.2899932861328,209.67999267578125,207.49000549316406,208.13999938964844,209.07000732421875,213.25,214.10000610351562,210.6199951171875,216.75,220.27000427246094,221.5500030517578,226.33999633789062,227.82000732421875,228.67999267578125,232.97999572753906,227.57000732421875,230.5399932861328,234.39999389648438],\"decreasing\":{\"fillcolor\":\"red\",\"line\":{\"color\":\"red\"}},\"high\":[144.33999633789062,146.61000061035156,151.17999267578125,157.3800048828125,153.10000610351562,155.22999572753906,154.5800018310547,154.3300018310547,151.33999633789062,154.25999450683594,153.77000427246094,155.5,156.3300018310547,153.0,151.3000030517578,149.9499969482422,150.33999633789062,147.19000244140625,149.1699981689453,149.0800018310547,147.22999572753906,146.7100067138672,151.11000061035156,156.3000030517578,154.02999877929688,153.47000122070312,154.5399932861328,150.94000244140625,153.13999938964844,153.39999389648438,153.25,156.4600067138672,156.74000549316406,157.82000732421875,159.39999389648438,162.13999938964844,161.5500030517578,160.33999633789062,160.77000427246094,158.49000549316406,161.0500030517578,162.47000122070312,165.0,166.2899932861328,166.83999633789062,165.0500030517578,164.9600067138672,162.02999877929688,162.36000061035156,162.05999755859375,165.8000030517578,166.32000732421875,165.38999938964844,167.41000366210938,168.16000366210938,167.8699951171875,166.4499969482422,165.60000610351562,166.30999755859375,165.27999877929688,168.55999755859375,169.85000610351562,170.4499969482422,170.35000610351562,170.9199981689453,167.0399932861328,174.3000030517578,173.85000610351562,173.5399932861328,174.02999877929688,174.58999633789062,174.05999755859375,173.2100067138672,173.13999938964844,172.92999267578125,175.24000549316406,176.38999938964844,174.7100067138672,173.3800048828125,172.4199981689453,173.89999389648438,175.77000427246094,178.99000549316406,179.35000610351562,180.1199951171875,181.77999877929688,184.9499969482422,180.1199951171875,181.2100067138672,180.83999633789062,182.22999572753906,183.88999938964844,184.14999389648438,184.38999938964844,186.52000427246094,186.99000549316406,186.10000610351562,185.41000366210938,187.0500030517578,187.55999755859375,188.0500030517578,188.38999938964844,189.89999389648438,190.07000732421875,194.47999572753906,193.8800048828125,192.97999572753906,192.02000427246094,192.6699981689453,189.99000549316406,189.3000030517578,191.6999969482422,191.19000244140625,191.17999267578125,194.32000732421875,194.3300018310547,198.22999572753906,196.47000122070312,194.97000122070312,194.91000366210938,194.44000244140625,195.63999938964844,197.1999969482422,196.6300048828125,196.49000549316406,196.72999572753906,195.17999267578125,192.3699951171875,187.3800048828125,183.1300048828125,180.27000427246094,180.92999267578125,180.75,178.6199951171875,179.69000244140625,179.47999572753906,178.5399932861328,177.50999450683594,175.10000610351562,176.1300048828125,177.67999267578125,181.5500030517578,181.10000610351562,179.14999389648438,180.58999633789062,184.89999389648438,187.85000610351562,189.1199951171875,189.9199981689453,189.97999572753906,188.85000610351562,178.2100067138672,180.24000549316406,180.3000030517578,180.1300048828125,177.3000030517578,176.10000610351562,176.5,179.3800048828125,179.6300048828125,179.6999969482422,176.3000030517578,177.0800018310547,176.97000122070312,175.1999969482422,173.0399932861328,172.02999877929688,173.07000732421875,174.3000030517578,173.6300048828125,174.2100067138672,175.4499969482422,177.99000549316406,179.0500030517578,179.72000122070312,179.85000610351562,182.33999633789062,181.92999267578125,179.0800018310547,178.4199981689453,177.5800018310547,177.83999633789062,175.4199981689453,174.00999450683594,173.6699981689453,173.05999755859375,171.3800048828125,168.9600067138672,171.1699981689453,170.89999389648438,174.22999572753906,177.77999877929688,176.82000732421875,179.42999267578125,182.44000244140625,183.4499969482422,184.1199951171875,186.57000732421875,186.02999877929688,188.11000061035156,189.5,190.9600067138672,190.3800048828125,191.91000366210938,191.52000427246094,192.92999267578125,190.89999389648438,190.6699981689453,191.0800018310547,192.08999633789062,190.32000732421875,191.55999755859375,190.0500030517578,194.39999389648438,194.75999450683594,195.0,195.99000549316406,193.49000549316406,194.72000122070312,198.0,199.6199951171875,198.39999389648438,196.6300048828125,196.9499969482422,197.67999267578125,197.0800018310547,195.41000366210938,193.88999938964844,193.5,194.66000366210938,194.39999389648438,188.44000244140625,185.8800048828125,183.08999633789062,182.75999450683594,185.60000610351562,185.14999389648438,186.39999389648438,187.0500030517578,186.74000549316406,184.25999450683594,182.92999267578125,189.13999938964844,191.9499969482422,195.3300018310547,195.75,196.3800048828125,196.27000427246094,194.75999450683594,192.1999969482422,191.8000030517578,187.10000610351562,186.9499969482422,187.3300018310547,189.25,189.30999755859375,191.0500030517578,189.5399932861328,189.99000549316406,188.6699981689453,186.2100067138672,185.52999877929688,184.49000549316406,184.85000610351562,182.42999267578125,182.88999938964844,184.9600067138672,185.0399932861328,182.75999450683594,183.9199981689453,183.1199951171875,182.57000732421875,180.52999877929688,176.89999389648438,172.0399932861328,171.24000549316406,170.72999572753906,173.6999969482422,174.3800048828125,174.02999877929688,173.19000244140625,174.30999755859375,172.6199951171875,177.7100067138672,176.61000061035156,178.6699981689453,177.49000549316406,173.0500030517578,171.94000244140625,171.4199981689453,173.60000610351562,172.22999572753906,171.25,169.33999633789062,170.67999267578125,171.9199981689453,170.38999938964844,169.1999969482422,170.0800018310547,169.08999633789062,175.4600067138672,178.36000061035156,176.6300048828125,173.75999450683594,170.64999389648438,168.63999938964844,166.39999389648438,167.25999450683594,167.0500030517578,169.3000030517578,170.61000061035156,171.33999633789062,176.02999877929688,174.99000549316406,172.7100067138672,173.4199981689453,187.0,184.1999969482422,184.89999389648438,183.07000732421875,184.66000366210938,185.08999633789062,187.10000610351562,188.3000030517578,190.64999389648438,191.10000610351562,190.80999755859375,191.9199981689453,192.72999572753906,192.82000732421875,191.0,190.5800018310547,193.0,192.25,192.17999267578125,192.57000732421875,194.99000549316406,195.32000732421875,196.89999389648438,196.5,196.94000244140625,197.3000030517578,207.16000366210938,220.1999969482422,216.75,215.1699981689453,218.9499969482422,218.6300048828125,214.24000549316406,211.88999938964844,212.6999969482422,211.3800048828125,214.86000061035156,215.74000549316406,216.07000732421875,217.50999450683594,220.3800048828125,221.5500030517578,226.4499969482422,227.85000610351562,229.39999389648438,233.0800018310547,232.38999938964844,232.63999938964844,237.22999572753906],\"increasing\":{\"fillcolor\":\"green\",\"line\":{\"color\":\"green\"}},\"low\":[142.27999877929688,141.32000732421875,148.1699981689453,147.8300018310547,150.77999877929688,150.63999938964844,151.1699981689453,150.4199981689453,149.22000122070312,150.9199981689453,150.86000061035156,152.8800048828125,153.35000610351562,150.85000610351562,148.41000366210938,147.16000366210938,147.24000549316406,145.72000122070312,147.4499969482422,146.8300018310547,145.00999450683594,143.89999389648438,147.3300018310547,153.4600067138672,151.1300048828125,151.8300018310547,150.22999572753906,147.61000061035156,147.6999969482422,150.10000610351562,149.9199981689453,151.63999938964844,154.27999877929688,154.14999389648438,156.5399932861328,157.80999755859375,157.67999267578125,157.85000610351562,157.8699951171875,155.97999572753906,159.35000610351562,161.27000427246094,161.91000366210938,164.22000122070312,165.11000061035156,161.8000030517578,162.0,160.0800018310547,160.50999450683594,159.77999877929688,161.4199981689453,163.82000732421875,164.02999877929688,165.64999389648438,165.5399932861328,165.55999755859375,164.49000549316406,163.88999938964844,163.72999572753906,162.8000030517578,165.19000244140625,167.8800048828125,168.63999938964844,167.5399932861328,167.16000366210938,164.30999755859375,170.75999450683594,172.11000061035156,171.60000610351562,171.89999389648438,172.1699981689453,171.0,171.47000122070312,171.8000030517578,170.4199981689453,172.5800018310547,174.94000244140625,173.4499969482422,171.27999877929688,170.52000427246094,171.69000244140625,173.11000061035156,176.57000732421875,176.75999450683594,176.92999267578125,179.25999450683594,178.0399932861328,177.42999267578125,177.32000732421875,177.4600067138672,180.6300048828125,180.97000122070312,182.44000244140625,182.02000427246094,183.77999877929688,184.27000427246094,184.41000366210938,182.58999633789062,183.6699981689453,185.00999450683594,185.22999572753906,185.6699981689453,187.60000610351562,188.94000244140625,191.25999450683594,191.75999450683594,190.6199951171875,189.1999969482422,190.24000549316406,187.0399932861328,186.60000610351562,188.47000122070312,189.77999877929688,189.6300048828125,191.80999755859375,192.4199981689453,192.64999389648438,192.5,191.22999572753906,192.25,192.9199981689453,193.32000732421875,192.5500030517578,194.13999938964844,195.25999450683594,195.27999877929688,191.85000610351562,190.69000244140625,181.9199981689453,177.35000610351562,177.5800018310547,177.00999450683594,177.60000610351562,176.5500030517578,177.30999755859375,177.0500030517578,176.5,173.47999572753906,171.9600067138672,173.74000549316406,176.25,178.3300018310547,176.00999450683594,175.82000732421875,178.5500030517578,179.5,184.74000549316406,187.47999572753906,188.27999877929688,187.61000061035156,181.47000122070312,173.5399932861328,177.7899932861328,177.33999633789062,174.82000732421875,173.97999572753906,173.5800018310547,173.82000732421875,176.1699981689453,177.1300048828125,175.39999389648438,173.86000061035156,174.0500030517578,174.14999389648438,171.66000366210938,169.0500030517578,167.6199951171875,170.33999633789062,170.92999267578125,170.82000732421875,170.97000122070312,172.67999267578125,173.17999267578125,175.8000030517578,177.9499969482422,177.60000610351562,179.0399932861328,178.13999938964844,176.50999450683594,174.8000030517578,175.11000061035156,175.19000244140625,172.63999938964844,169.92999267578125,171.4499969482422,170.64999389648438,165.6699981689453,166.8300018310547,168.8699951171875,167.89999389648438,170.1199951171875,175.4600067138672,173.35000610351562,176.2100067138672,178.97000122070312,181.58999633789062,181.80999755859375,183.52999877929688,184.2100067138672,186.3000030517578,187.77999877929688,188.64999389648438,188.57000732421875,189.8800048828125,189.74000549316406,190.8300018310547,189.25,188.89999389648438,189.39999389648438,188.97000122070312,188.19000244140625,189.22999572753906,187.4499969482422,190.17999267578125,192.11000061035156,193.58999633789062,193.6699981689453,191.4199981689453,191.72000122070312,194.85000610351562,196.16000366210938,197.0,194.38999938964844,195.88999938964844,194.8300018310547,193.5,192.97000122070312,192.8300018310547,191.08999633789062,193.1699981689453,191.72999572753906,183.88999938964844,183.42999267578125,180.8800048828125,180.1699981689453,181.5,182.72999572753906,183.9199981689453,183.6199951171875,185.19000244140625,180.92999267578125,180.3000030517578,185.8300018310547,188.82000732421875,192.25999450683594,193.8300018310547,194.33999633789062,193.11000061035156,191.94000244140625,189.5800018310547,187.47000122070312,184.35000610351562,183.82000732421875,179.25,185.83999633789062,186.77000427246094,188.61000061035156,187.35000610351562,188.0,186.7899932861328,183.50999450683594,182.44000244140625,181.35000610351562,181.6699981689453,180.0,180.66000366210938,182.4600067138672,182.22999572753906,180.64999389648438,179.55999755859375,180.1300048828125,179.52999877929688,177.3800048828125,173.7899932861328,169.6199951171875,168.67999267578125,168.49000549316406,168.94000244140625,172.0500030517578,171.00999450683594,170.75999450683594,172.0500030517578,170.2899932861328,173.52000427246094,173.02999877929688,175.08999633789062,170.83999633789062,170.05999755859375,169.4499969482422,169.5800018310547,170.11000061035156,170.50999450683594,169.47999572753906,168.22999572753906,168.5800018310547,168.82000732421875,168.9499969482422,168.24000549316406,168.35000610351562,167.11000061035156,168.16000366210938,174.2100067138672,172.5,168.27000427246094,168.0,166.5500030517578,164.0800018310547,164.77000427246094,164.9199981689453,166.2100067138672,168.14999389648438,169.17999267578125,173.10000610351562,170.0,169.11000061035156,170.88999938964844,182.66000366210938,180.4199981689453,181.32000732421875,181.4499969482422,182.11000061035156,182.1300048828125,184.6199951171875,186.2899932861328,187.3699951171875,189.66000366210938,189.17999267578125,189.00999450683594,190.9199981689453,190.27000427246094,186.6300048828125,188.0399932861328,189.10000610351562,189.50999450683594,190.6300048828125,189.91000366210938,192.52000427246094,193.02999877929688,194.8699951171875,194.1699981689453,194.13999938964844,192.14999389648438,193.6300048828125,206.89999389648438,211.60000610351562,211.3000030517578,212.72000122070312,213.0,208.85000610351562,207.11000061035156,206.58999633789062,208.61000061035156,210.63999938964844,212.35000610351562,210.3000030517578,211.9199981689453,215.10000610351562,219.02999877929688,221.64999389648438,223.25,226.3699951171875,229.25,225.77000427246094,228.67999267578125,233.08999633789062],\"open\":[142.6999969482422,143.97000122070312,148.89999389648438,148.02999877929688,152.57000732421875,150.63999938964844,153.8800048828125,153.77999877929688,149.4600067138672,150.9499969482422,152.1199951171875,153.11000061035156,153.50999450683594,152.35000610351562,150.1999969482422,148.8699951171875,150.08999633789062,147.11000061035156,147.7100067138672,147.0500030517578,146.8300018310547,144.3800048828125,148.0399932861328,153.7899932861328,153.6999969482422,152.80999755859375,153.55999755859375,150.2100067138672,147.80999755859375,151.27999877929688,151.19000244140625,152.16000366210938,156.0800018310547,155.07000732421875,157.32000732421875,159.3000030517578,158.8300018310547,158.86000061035156,159.94000244140625,157.97000122070312,159.3699951171875,161.52999877929688,162.44000244140625,164.27000427246094,166.60000610351562,164.74000549316406,162.42999267578125,161.4199981689453,162.35000610351562,161.22000122070312,161.6300048828125,164.58999633789062,165.08999633789062,166.10000610351562,165.8000030517578,166.08999633789062,165.0500030517578,165.0,165.19000244140625,163.05999755859375,165.19000244140625,168.49000549316406,169.27999877929688,170.08999633789062,169.5,164.88999938964844,170.97999572753906,172.47999572753906,173.0500030517578,173.02000427246094,173.85000610351562,173.6199951171875,173.16000366210938,171.99000549316406,171.7100067138672,173.0,176.38999938964844,173.97999572753906,173.1300048828125,171.08999633789062,172.41000366210938,173.32000732421875,176.9600067138672,177.3300018310547,177.6999969482422,181.02999877929688,182.6300048828125,179.97000122070312,178.44000244140625,177.89999389648438,181.5,181.27000427246094,182.8000030517578,183.3699951171875,183.9600067138672,186.72999572753906,184.41000366210938,184.89999389648438,183.74000549316406,185.5500030517578,186.8300018310547,185.88999938964844,187.92999267578125,189.0800018310547,191.6300048828125,193.77999877929688,191.57000732421875,189.83999633789062,191.41000366210938,189.25999450683594,189.16000366210938,189.67999267578125,190.5,190.22999572753906,191.89999389648438,193.35000610351562,193.10000610351562,195.08999633789062,194.10000610351562,193.41000366210938,193.3300018310547,193.6699981689453,196.02000427246094,194.6699981689453,196.05999755859375,196.24000549316406,195.0399932861328,191.57000732421875,185.52000427246094,182.1300048828125,179.69000244140625,180.8699951171875,179.47999572753906,177.32000732421875,177.97000122070312,178.8800048828125,177.1300048828125,177.13999938964844,172.3000030517578,175.07000732421875,177.05999755859375,178.52000427246094,180.6699981689453,177.3800048828125,180.08999633789062,179.6999969482422,184.94000244140625,187.83999633789062,189.49000549316406,188.27999877929688,188.39999389648438,175.17999267578125,178.35000610351562,180.07000732421875,179.49000549316406,176.50999450683594,174.0,176.47999572753906,176.47999572753906,177.52000427246094,179.25999450683594,174.5500030517578,174.6699981689453,174.1999969482422,174.82000732421875,172.6199951171875,169.33999633789062,172.02000427246094,171.22000122070312,172.25999450683594,171.08999633789062,173.7899932861328,173.8000030517578,176.80999755859375,178.10000610351562,178.1999969482422,180.07000732421875,181.4199981689453,176.75,176.64999389648438,175.5800018310547,176.0399932861328,175.30999755859375,170.91000366210938,173.0500030517578,171.8800048828125,170.3699951171875,166.91000366210938,169.02000427246094,169.35000610351562,171.0,175.52000427246094,174.24000549316406,176.3800048828125,179.17999267578125,182.35000610351562,182.9600067138672,183.97000122070312,185.82000732421875,187.6999969482422,187.85000610351562,189.57000732421875,190.25,189.88999938964844,191.41000366210938,191.49000549316406,190.8699951171875,189.9199981689453,189.77999877929688,190.89999389648438,189.83999633789062,190.3300018310547,189.97999572753906,190.2100067138672,194.4499969482422,193.6300048828125,194.1999969482422,193.11000061035156,193.0800018310547,195.08999633789062,198.02000427246094,197.52999877929688,196.08999633789062,196.16000366210938,196.89999389648438,196.10000610351562,195.17999267578125,193.61000061035156,192.49000549316406,194.13999938964844,193.89999389648438,187.14999389648438,184.22000122070312,182.14999389648438,181.99000549316406,182.08999633789062,183.9199981689453,184.35000610351562,186.5399932861328,186.05999755859375,182.16000366210938,181.27000427246094,186.08999633789062,189.3300018310547,192.3000030517578,195.02000427246094,195.4199981689453,195.22000122070312,194.27000427246094,192.00999450683594,190.94000244140625,187.0399932861328,183.99000549316406,179.86000061035156,188.14999389648438,186.86000061035156,190.63999938964844,189.38999938964844,188.64999389648438,188.4199981689453,185.77000427246094,185.32000732421875,183.5500030517578,183.4199981689453,181.7899932861328,181.94000244140625,183.47999572753906,185.00999450683594,182.24000549316406,181.10000610351562,182.50999450683594,181.27000427246094,179.5500030517578,176.14999389648438,170.75999450683594,171.05999755859375,169.14999389648438,169.0,172.94000244140625,173.14999389648438,172.77000427246094,172.91000366210938,171.1699981689453,175.57000732421875,174.33999633789062,175.72000122070312,177.0500030517578,171.75999450683594,170.57000732421875,170.0,170.41000366210938,171.75,171.19000244140625,169.0800018310547,168.7899932861328,170.2899932861328,169.58999633789062,169.02999877929688,168.6999969482422,168.8000030517578,168.33999633789062,174.25999450683594,175.36000061035156,171.75,169.61000061035156,168.02999877929688,166.2100067138672,165.52000427246094,165.35000610351562,166.5399932861328,169.52999877929688,169.8800048828125,173.3699951171875,173.3300018310547,169.5800018310547,172.50999450683594,186.64999389648438,182.35000610351562,183.4499969482422,182.85000610351562,182.55999755859375,184.89999389648438,185.44000244140625,187.50999450683594,187.91000366210938,190.47000122070312,189.50999450683594,189.3300018310547,191.08999633789062,192.27000427246094,190.97999572753906,188.82000732421875,191.50999450683594,189.61000061035156,190.75999450683594,191.44000244140625,192.89999389648438,194.63999938964844,195.39999389648438,195.69000244140625,194.64999389648438,196.89999389648438,193.64999389648438,207.3699951171875,214.74000549316406,213.85000610351562,213.3699951171875,217.58999633789062,213.92999267578125,210.38999938964844,207.72000122070312,209.14999389648438,211.5,214.69000244140625,215.77000427246094,212.08999633789062,216.14999389648438,220.0,221.64999389648438,227.08999633789062,227.92999267578125,229.3000030517578,231.38999938964844,228.9199981689453,236.47999572753906],\"x\":[\"2023-01-31T00:00:00\",\"2023-02-01T00:00:00\",\"2023-02-02T00:00:00\",\"2023-02-03T00:00:00\",\"2023-02-06T00:00:00\",\"2023-02-07T00:00:00\",\"2023-02-08T00:00:00\",\"2023-02-09T00:00:00\",\"2023-02-10T00:00:00\",\"2023-02-13T00:00:00\",\"2023-02-14T00:00:00\",\"2023-02-15T00:00:00\",\"2023-02-16T00:00:00\",\"2023-02-17T00:00:00\",\"2023-02-21T00:00:00\",\"2023-02-22T00:00:00\",\"2023-02-23T00:00:00\",\"2023-02-24T00:00:00\",\"2023-02-27T00:00:00\",\"2023-02-28T00:00:00\",\"2023-03-01T00:00:00\",\"2023-03-02T00:00:00\",\"2023-03-03T00:00:00\",\"2023-03-06T00:00:00\",\"2023-03-07T00:00:00\",\"2023-03-08T00:00:00\",\"2023-03-09T00:00:00\",\"2023-03-10T00:00:00\",\"2023-03-13T00:00:00\",\"2023-03-14T00:00:00\",\"2023-03-15T00:00:00\",\"2023-03-16T00:00:00\",\"2023-03-17T00:00:00\",\"2023-03-20T00:00:00\",\"2023-03-21T00:00:00\",\"2023-03-22T00:00:00\",\"2023-03-23T00:00:00\",\"2023-03-24T00:00:00\",\"2023-03-27T00:00:00\",\"2023-03-28T00:00:00\",\"2023-03-29T00:00:00\",\"2023-03-30T00:00:00\",\"2023-03-31T00:00:00\",\"2023-04-03T00:00:00\",\"2023-04-04T00:00:00\",\"2023-04-05T00:00:00\",\"2023-04-06T00:00:00\",\"2023-04-10T00:00:00\",\"2023-04-11T00:00:00\",\"2023-04-12T00:00:00\",\"2023-04-13T00:00:00\",\"2023-04-14T00:00:00\",\"2023-04-17T00:00:00\",\"2023-04-18T00:00:00\",\"2023-04-19T00:00:00\",\"2023-04-20T00:00:00\",\"2023-04-21T00:00:00\",\"2023-04-24T00:00:00\",\"2023-04-25T00:00:00\",\"2023-04-26T00:00:00\",\"2023-04-27T00:00:00\",\"2023-04-28T00:00:00\",\"2023-05-01T00:00:00\",\"2023-05-02T00:00:00\",\"2023-05-03T00:00:00\",\"2023-05-04T00:00:00\",\"2023-05-05T00:00:00\",\"2023-05-08T00:00:00\",\"2023-05-09T00:00:00\",\"2023-05-10T00:00:00\",\"2023-05-11T00:00:00\",\"2023-05-12T00:00:00\",\"2023-05-15T00:00:00\",\"2023-05-16T00:00:00\",\"2023-05-17T00:00:00\",\"2023-05-18T00:00:00\",\"2023-05-19T00:00:00\",\"2023-05-22T00:00:00\",\"2023-05-23T00:00:00\",\"2023-05-24T00:00:00\",\"2023-05-25T00:00:00\",\"2023-05-26T00:00:00\",\"2023-05-30T00:00:00\",\"2023-05-31T00:00:00\",\"2023-06-01T00:00:00\",\"2023-06-02T00:00:00\",\"2023-06-05T00:00:00\",\"2023-06-06T00:00:00\",\"2023-06-07T00:00:00\",\"2023-06-08T00:00:00\",\"2023-06-09T00:00:00\",\"2023-06-12T00:00:00\",\"2023-06-13T00:00:00\",\"2023-06-14T00:00:00\",\"2023-06-15T00:00:00\",\"2023-06-16T00:00:00\",\"2023-06-20T00:00:00\",\"2023-06-21T00:00:00\",\"2023-06-22T00:00:00\",\"2023-06-23T00:00:00\",\"2023-06-26T00:00:00\",\"2023-06-27T00:00:00\",\"2023-06-28T00:00:00\",\"2023-06-29T00:00:00\",\"2023-06-30T00:00:00\",\"2023-07-03T00:00:00\",\"2023-07-05T00:00:00\",\"2023-07-06T00:00:00\",\"2023-07-07T00:00:00\",\"2023-07-10T00:00:00\",\"2023-07-11T00:00:00\",\"2023-07-12T00:00:00\",\"2023-07-13T00:00:00\",\"2023-07-14T00:00:00\",\"2023-07-17T00:00:00\",\"2023-07-18T00:00:00\",\"2023-07-19T00:00:00\",\"2023-07-20T00:00:00\",\"2023-07-21T00:00:00\",\"2023-07-24T00:00:00\",\"2023-07-25T00:00:00\",\"2023-07-26T00:00:00\",\"2023-07-27T00:00:00\",\"2023-07-28T00:00:00\",\"2023-07-31T00:00:00\",\"2023-08-01T00:00:00\",\"2023-08-02T00:00:00\",\"2023-08-03T00:00:00\",\"2023-08-04T00:00:00\",\"2023-08-07T00:00:00\",\"2023-08-08T00:00:00\",\"2023-08-09T00:00:00\",\"2023-08-10T00:00:00\",\"2023-08-11T00:00:00\",\"2023-08-14T00:00:00\",\"2023-08-15T00:00:00\",\"2023-08-16T00:00:00\",\"2023-08-17T00:00:00\",\"2023-08-18T00:00:00\",\"2023-08-21T00:00:00\",\"2023-08-22T00:00:00\",\"2023-08-23T00:00:00\",\"2023-08-24T00:00:00\",\"2023-08-25T00:00:00\",\"2023-08-28T00:00:00\",\"2023-08-29T00:00:00\",\"2023-08-30T00:00:00\",\"2023-08-31T00:00:00\",\"2023-09-01T00:00:00\",\"2023-09-05T00:00:00\",\"2023-09-06T00:00:00\",\"2023-09-07T00:00:00\",\"2023-09-08T00:00:00\",\"2023-09-11T00:00:00\",\"2023-09-12T00:00:00\",\"2023-09-13T00:00:00\",\"2023-09-14T00:00:00\",\"2023-09-15T00:00:00\",\"2023-09-18T00:00:00\",\"2023-09-19T00:00:00\",\"2023-09-20T00:00:00\",\"2023-09-21T00:00:00\",\"2023-09-22T00:00:00\",\"2023-09-25T00:00:00\",\"2023-09-26T00:00:00\",\"2023-09-27T00:00:00\",\"2023-09-28T00:00:00\",\"2023-09-29T00:00:00\",\"2023-10-02T00:00:00\",\"2023-10-03T00:00:00\",\"2023-10-04T00:00:00\",\"2023-10-05T00:00:00\",\"2023-10-06T00:00:00\",\"2023-10-09T00:00:00\",\"2023-10-10T00:00:00\",\"2023-10-11T00:00:00\",\"2023-10-12T00:00:00\",\"2023-10-13T00:00:00\",\"2023-10-16T00:00:00\",\"2023-10-17T00:00:00\",\"2023-10-18T00:00:00\",\"2023-10-19T00:00:00\",\"2023-10-20T00:00:00\",\"2023-10-23T00:00:00\",\"2023-10-24T00:00:00\",\"2023-10-25T00:00:00\",\"2023-10-26T00:00:00\",\"2023-10-27T00:00:00\",\"2023-10-30T00:00:00\",\"2023-10-31T00:00:00\",\"2023-11-01T00:00:00\",\"2023-11-02T00:00:00\",\"2023-11-03T00:00:00\",\"2023-11-06T00:00:00\",\"2023-11-07T00:00:00\",\"2023-11-08T00:00:00\",\"2023-11-09T00:00:00\",\"2023-11-10T00:00:00\",\"2023-11-13T00:00:00\",\"2023-11-14T00:00:00\",\"2023-11-15T00:00:00\",\"2023-11-16T00:00:00\",\"2023-11-17T00:00:00\",\"2023-11-20T00:00:00\",\"2023-11-21T00:00:00\",\"2023-11-22T00:00:00\",\"2023-11-24T00:00:00\",\"2023-11-27T00:00:00\",\"2023-11-28T00:00:00\",\"2023-11-29T00:00:00\",\"2023-11-30T00:00:00\",\"2023-12-01T00:00:00\",\"2023-12-04T00:00:00\",\"2023-12-05T00:00:00\",\"2023-12-06T00:00:00\",\"2023-12-07T00:00:00\",\"2023-12-08T00:00:00\",\"2023-12-11T00:00:00\",\"2023-12-12T00:00:00\",\"2023-12-13T00:00:00\",\"2023-12-14T00:00:00\",\"2023-12-15T00:00:00\",\"2023-12-18T00:00:00\",\"2023-12-19T00:00:00\",\"2023-12-20T00:00:00\",\"2023-12-21T00:00:00\",\"2023-12-22T00:00:00\",\"2023-12-26T00:00:00\",\"2023-12-27T00:00:00\",\"2023-12-28T00:00:00\",\"2023-12-29T00:00:00\",\"2024-01-02T00:00:00\",\"2024-01-03T00:00:00\",\"2024-01-04T00:00:00\",\"2024-01-05T00:00:00\",\"2024-01-08T00:00:00\",\"2024-01-09T00:00:00\",\"2024-01-10T00:00:00\",\"2024-01-11T00:00:00\",\"2024-01-12T00:00:00\",\"2024-01-16T00:00:00\",\"2024-01-17T00:00:00\",\"2024-01-18T00:00:00\",\"2024-01-19T00:00:00\",\"2024-01-22T00:00:00\",\"2024-01-23T00:00:00\",\"2024-01-24T00:00:00\",\"2024-01-25T00:00:00\",\"2024-01-26T00:00:00\",\"2024-01-29T00:00:00\",\"2024-01-30T00:00:00\",\"2024-01-31T00:00:00\",\"2024-02-01T00:00:00\",\"2024-02-02T00:00:00\",\"2024-02-05T00:00:00\",\"2024-02-06T00:00:00\",\"2024-02-07T00:00:00\",\"2024-02-08T00:00:00\",\"2024-02-09T00:00:00\",\"2024-02-12T00:00:00\",\"2024-02-13T00:00:00\",\"2024-02-14T00:00:00\",\"2024-02-15T00:00:00\",\"2024-02-16T00:00:00\",\"2024-02-20T00:00:00\",\"2024-02-21T00:00:00\",\"2024-02-22T00:00:00\",\"2024-02-23T00:00:00\",\"2024-02-26T00:00:00\",\"2024-02-27T00:00:00\",\"2024-02-28T00:00:00\",\"2024-02-29T00:00:00\",\"2024-03-01T00:00:00\",\"2024-03-04T00:00:00\",\"2024-03-05T00:00:00\",\"2024-03-06T00:00:00\",\"2024-03-07T00:00:00\",\"2024-03-08T00:00:00\",\"2024-03-11T00:00:00\",\"2024-03-12T00:00:00\",\"2024-03-13T00:00:00\",\"2024-03-14T00:00:00\",\"2024-03-15T00:00:00\",\"2024-03-18T00:00:00\",\"2024-03-19T00:00:00\",\"2024-03-20T00:00:00\",\"2024-03-21T00:00:00\",\"2024-03-22T00:00:00\",\"2024-03-25T00:00:00\",\"2024-03-26T00:00:00\",\"2024-03-27T00:00:00\",\"2024-03-28T00:00:00\",\"2024-04-01T00:00:00\",\"2024-04-02T00:00:00\",\"2024-04-03T00:00:00\",\"2024-04-04T00:00:00\",\"2024-04-05T00:00:00\",\"2024-04-08T00:00:00\",\"2024-04-09T00:00:00\",\"2024-04-10T00:00:00\",\"2024-04-11T00:00:00\",\"2024-04-12T00:00:00\",\"2024-04-15T00:00:00\",\"2024-04-16T00:00:00\",\"2024-04-17T00:00:00\",\"2024-04-18T00:00:00\",\"2024-04-19T00:00:00\",\"2024-04-22T00:00:00\",\"2024-04-23T00:00:00\",\"2024-04-24T00:00:00\",\"2024-04-25T00:00:00\",\"2024-04-26T00:00:00\",\"2024-04-29T00:00:00\",\"2024-04-30T00:00:00\",\"2024-05-01T00:00:00\",\"2024-05-02T00:00:00\",\"2024-05-03T00:00:00\",\"2024-05-06T00:00:00\",\"2024-05-07T00:00:00\",\"2024-05-08T00:00:00\",\"2024-05-09T00:00:00\",\"2024-05-10T00:00:00\",\"2024-05-13T00:00:00\",\"2024-05-14T00:00:00\",\"2024-05-15T00:00:00\",\"2024-05-16T00:00:00\",\"2024-05-17T00:00:00\",\"2024-05-20T00:00:00\",\"2024-05-21T00:00:00\",\"2024-05-22T00:00:00\",\"2024-05-23T00:00:00\",\"2024-05-24T00:00:00\",\"2024-05-28T00:00:00\",\"2024-05-29T00:00:00\",\"2024-05-30T00:00:00\",\"2024-05-31T00:00:00\",\"2024-06-03T00:00:00\",\"2024-06-04T00:00:00\",\"2024-06-05T00:00:00\",\"2024-06-06T00:00:00\",\"2024-06-07T00:00:00\",\"2024-06-10T00:00:00\",\"2024-06-11T00:00:00\",\"2024-06-12T00:00:00\",\"2024-06-13T00:00:00\",\"2024-06-14T00:00:00\",\"2024-06-17T00:00:00\",\"2024-06-18T00:00:00\",\"2024-06-20T00:00:00\",\"2024-06-21T00:00:00\",\"2024-06-24T00:00:00\",\"2024-06-25T00:00:00\",\"2024-06-26T00:00:00\",\"2024-06-27T00:00:00\",\"2024-06-28T00:00:00\",\"2024-07-01T00:00:00\",\"2024-07-02T00:00:00\",\"2024-07-03T00:00:00\",\"2024-07-05T00:00:00\",\"2024-07-08T00:00:00\",\"2024-07-09T00:00:00\",\"2024-07-10T00:00:00\",\"2024-07-11T00:00:00\",\"2024-07-12T00:00:00\",\"2024-07-15T00:00:00\"],\"type\":\"candlestick\"}],                        {\"template\":{\"data\":{\"histogram2dcontour\":[{\"type\":\"histogram2dcontour\",\"colorbar\":{\"outlinewidth\":0,\"ticks\":\"\"},\"colorscale\":[[0.0,\"#0d0887\"],[0.1111111111111111,\"#46039f\"],[0.2222222222222222,\"#7201a8\"],[0.3333333333333333,\"#9c179e\"],[0.4444444444444444,\"#bd3786\"],[0.5555555555555556,\"#d8576b\"],[0.6666666666666666,\"#ed7953\"],[0.7777777777777778,\"#fb9f3a\"],[0.8888888888888888,\"#fdca26\"],[1.0,\"#f0f921\"]]}],\"choropleth\":[{\"type\":\"choropleth\",\"colorbar\":{\"outlinewidth\":0,\"ticks\":\"\"}}],\"histogram2d\":[{\"type\":\"histogram2d\",\"colorbar\":{\"outlinewidth\":0,\"ticks\":\"\"},\"colorscale\":[[0.0,\"#0d0887\"],[0.1111111111111111,\"#46039f\"],[0.2222222222222222,\"#7201a8\"],[0.3333333333333333,\"#9c179e\"],[0.4444444444444444,\"#bd3786\"],[0.5555555555555556,\"#d8576b\"],[0.6666666666666666,\"#ed7953\"],[0.7777777777777778,\"#fb9f3a\"],[0.8888888888888888,\"#fdca26\"],[1.0,\"#f0f921\"]]}],\"heatmap\":[{\"type\":\"heatmap\",\"colorbar\":{\"outlinewidth\":0,\"ticks\":\"\"},\"colorscale\":[[0.0,\"#0d0887\"],[0.1111111111111111,\"#46039f\"],[0.2222222222222222,\"#7201a8\"],[0.3333333333333333,\"#9c179e\"],[0.4444444444444444,\"#bd3786\"],[0.5555555555555556,\"#d8576b\"],[0.6666666666666666,\"#ed7953\"],[0.7777777777777778,\"#fb9f3a\"],[0.8888888888888888,\"#fdca26\"],[1.0,\"#f0f921\"]]}],\"heatmapgl\":[{\"type\":\"heatmapgl\",\"colorbar\":{\"outlinewidth\":0,\"ticks\":\"\"},\"colorscale\":[[0.0,\"#0d0887\"],[0.1111111111111111,\"#46039f\"],[0.2222222222222222,\"#7201a8\"],[0.3333333333333333,\"#9c179e\"],[0.4444444444444444,\"#bd3786\"],[0.5555555555555556,\"#d8576b\"],[0.6666666666666666,\"#ed7953\"],[0.7777777777777778,\"#fb9f3a\"],[0.8888888888888888,\"#fdca26\"],[1.0,\"#f0f921\"]]}],\"contourcarpet\":[{\"type\":\"contourcarpet\",\"colorbar\":{\"outlinewidth\":0,\"ticks\":\"\"}}],\"contour\":[{\"type\":\"contour\",\"colorbar\":{\"outlinewidth\":0,\"ticks\":\"\"},\"colorscale\":[[0.0,\"#0d0887\"],[0.1111111111111111,\"#46039f\"],[0.2222222222222222,\"#7201a8\"],[0.3333333333333333,\"#9c179e\"],[0.4444444444444444,\"#bd3786\"],[0.5555555555555556,\"#d8576b\"],[0.6666666666666666,\"#ed7953\"],[0.7777777777777778,\"#fb9f3a\"],[0.8888888888888888,\"#fdca26\"],[1.0,\"#f0f921\"]]}],\"surface\":[{\"type\":\"surface\",\"colorbar\":{\"outlinewidth\":0,\"ticks\":\"\"},\"colorscale\":[[0.0,\"#0d0887\"],[0.1111111111111111,\"#46039f\"],[0.2222222222222222,\"#7201a8\"],[0.3333333333333333,\"#9c179e\"],[0.4444444444444444,\"#bd3786\"],[0.5555555555555556,\"#d8576b\"],[0.6666666666666666,\"#ed7953\"],[0.7777777777777778,\"#fb9f3a\"],[0.8888888888888888,\"#fdca26\"],[1.0,\"#f0f921\"]]}],\"mesh3d\":[{\"type\":\"mesh3d\",\"colorbar\":{\"outlinewidth\":0,\"ticks\":\"\"}}],\"scatter\":[{\"fillpattern\":{\"fillmode\":\"overlay\",\"size\":10,\"solidity\":0.2},\"type\":\"scatter\"}],\"parcoords\":[{\"type\":\"parcoords\",\"line\":{\"colorbar\":{\"outlinewidth\":0,\"ticks\":\"\"}}}],\"scatterpolargl\":[{\"type\":\"scatterpolargl\",\"marker\":{\"colorbar\":{\"outlinewidth\":0,\"ticks\":\"\"}}}],\"bar\":[{\"error_x\":{\"color\":\"#2a3f5f\"},\"error_y\":{\"color\":\"#2a3f5f\"},\"marker\":{\"line\":{\"color\":\"#E5ECF6\",\"width\":0.5},\"pattern\":{\"fillmode\":\"overlay\",\"size\":10,\"solidity\":0.2}},\"type\":\"bar\"}],\"scattergeo\":[{\"type\":\"scattergeo\",\"marker\":{\"colorbar\":{\"outlinewidth\":0,\"ticks\":\"\"}}}],\"scatterpolar\":[{\"type\":\"scatterpolar\",\"marker\":{\"colorbar\":{\"outlinewidth\":0,\"ticks\":\"\"}}}],\"histogram\":[{\"marker\":{\"pattern\":{\"fillmode\":\"overlay\",\"size\":10,\"solidity\":0.2}},\"type\":\"histogram\"}],\"scattergl\":[{\"type\":\"scattergl\",\"marker\":{\"colorbar\":{\"outlinewidth\":0,\"ticks\":\"\"}}}],\"scatter3d\":[{\"type\":\"scatter3d\",\"line\":{\"colorbar\":{\"outlinewidth\":0,\"ticks\":\"\"}},\"marker\":{\"colorbar\":{\"outlinewidth\":0,\"ticks\":\"\"}}}],\"scattermapbox\":[{\"type\":\"scattermapbox\",\"marker\":{\"colorbar\":{\"outlinewidth\":0,\"ticks\":\"\"}}}],\"scatterternary\":[{\"type\":\"scatterternary\",\"marker\":{\"colorbar\":{\"outlinewidth\":0,\"ticks\":\"\"}}}],\"scattercarpet\":[{\"type\":\"scattercarpet\",\"marker\":{\"colorbar\":{\"outlinewidth\":0,\"ticks\":\"\"}}}],\"carpet\":[{\"aaxis\":{\"endlinecolor\":\"#2a3f5f\",\"gridcolor\":\"white\",\"linecolor\":\"white\",\"minorgridcolor\":\"white\",\"startlinecolor\":\"#2a3f5f\"},\"baxis\":{\"endlinecolor\":\"#2a3f5f\",\"gridcolor\":\"white\",\"linecolor\":\"white\",\"minorgridcolor\":\"white\",\"startlinecolor\":\"#2a3f5f\"},\"type\":\"carpet\"}],\"table\":[{\"cells\":{\"fill\":{\"color\":\"#EBF0F8\"},\"line\":{\"color\":\"white\"}},\"header\":{\"fill\":{\"color\":\"#C8D4E3\"},\"line\":{\"color\":\"white\"}},\"type\":\"table\"}],\"barpolar\":[{\"marker\":{\"line\":{\"color\":\"#E5ECF6\",\"width\":0.5},\"pattern\":{\"fillmode\":\"overlay\",\"size\":10,\"solidity\":0.2}},\"type\":\"barpolar\"}],\"pie\":[{\"automargin\":true,\"type\":\"pie\"}]},\"layout\":{\"autotypenumbers\":\"strict\",\"colorway\":[\"#636efa\",\"#EF553B\",\"#00cc96\",\"#ab63fa\",\"#FFA15A\",\"#19d3f3\",\"#FF6692\",\"#B6E880\",\"#FF97FF\",\"#FECB52\"],\"font\":{\"color\":\"#2a3f5f\"},\"hovermode\":\"closest\",\"hoverlabel\":{\"align\":\"left\"},\"paper_bgcolor\":\"white\",\"plot_bgcolor\":\"#E5ECF6\",\"polar\":{\"bgcolor\":\"#E5ECF6\",\"angularaxis\":{\"gridcolor\":\"white\",\"linecolor\":\"white\",\"ticks\":\"\"},\"radialaxis\":{\"gridcolor\":\"white\",\"linecolor\":\"white\",\"ticks\":\"\"}},\"ternary\":{\"bgcolor\":\"#E5ECF6\",\"aaxis\":{\"gridcolor\":\"white\",\"linecolor\":\"white\",\"ticks\":\"\"},\"baxis\":{\"gridcolor\":\"white\",\"linecolor\":\"white\",\"ticks\":\"\"},\"caxis\":{\"gridcolor\":\"white\",\"linecolor\":\"white\",\"ticks\":\"\"}},\"coloraxis\":{\"colorbar\":{\"outlinewidth\":0,\"ticks\":\"\"}},\"colorscale\":{\"sequential\":[[0.0,\"#0d0887\"],[0.1111111111111111,\"#46039f\"],[0.2222222222222222,\"#7201a8\"],[0.3333333333333333,\"#9c179e\"],[0.4444444444444444,\"#bd3786\"],[0.5555555555555556,\"#d8576b\"],[0.6666666666666666,\"#ed7953\"],[0.7777777777777778,\"#fb9f3a\"],[0.8888888888888888,\"#fdca26\"],[1.0,\"#f0f921\"]],\"sequentialminus\":[[0.0,\"#0d0887\"],[0.1111111111111111,\"#46039f\"],[0.2222222222222222,\"#7201a8\"],[0.3333333333333333,\"#9c179e\"],[0.4444444444444444,\"#bd3786\"],[0.5555555555555556,\"#d8576b\"],[0.6666666666666666,\"#ed7953\"],[0.7777777777777778,\"#fb9f3a\"],[0.8888888888888888,\"#fdca26\"],[1.0,\"#f0f921\"]],\"diverging\":[[0,\"#8e0152\"],[0.1,\"#c51b7d\"],[0.2,\"#de77ae\"],[0.3,\"#f1b6da\"],[0.4,\"#fde0ef\"],[0.5,\"#f7f7f7\"],[0.6,\"#e6f5d0\"],[0.7,\"#b8e186\"],[0.8,\"#7fbc41\"],[0.9,\"#4d9221\"],[1,\"#276419\"]]},\"xaxis\":{\"gridcolor\":\"white\",\"linecolor\":\"white\",\"ticks\":\"\",\"title\":{\"standoff\":15},\"zerolinecolor\":\"white\",\"automargin\":true,\"zerolinewidth\":2},\"yaxis\":{\"gridcolor\":\"white\",\"linecolor\":\"white\",\"ticks\":\"\",\"title\":{\"standoff\":15},\"zerolinecolor\":\"white\",\"automargin\":true,\"zerolinewidth\":2},\"scene\":{\"xaxis\":{\"backgroundcolor\":\"#E5ECF6\",\"gridcolor\":\"white\",\"linecolor\":\"white\",\"showbackground\":true,\"ticks\":\"\",\"zerolinecolor\":\"white\",\"gridwidth\":2},\"yaxis\":{\"backgroundcolor\":\"#E5ECF6\",\"gridcolor\":\"white\",\"linecolor\":\"white\",\"showbackground\":true,\"ticks\":\"\",\"zerolinecolor\":\"white\",\"gridwidth\":2},\"zaxis\":{\"backgroundcolor\":\"#E5ECF6\",\"gridcolor\":\"white\",\"linecolor\":\"white\",\"showbackground\":true,\"ticks\":\"\",\"zerolinecolor\":\"white\",\"gridwidth\":2}},\"shapedefaults\":{\"line\":{\"color\":\"#2a3f5f\"}},\"annotationdefaults\":{\"arrowcolor\":\"#2a3f5f\",\"arrowhead\":0,\"arrowwidth\":1},\"geo\":{\"bgcolor\":\"white\",\"landcolor\":\"#E5ECF6\",\"subunitcolor\":\"white\",\"showland\":true,\"showlakes\":true,\"lakecolor\":\"white\"},\"title\":{\"x\":0.05},\"mapbox\":{\"style\":\"light\"}}},\"xaxis\":{\"rangeslider\":{\"visible\":true},\"rangeselector\":{\"buttons\":[{\"count\":1,\"label\":\"1m\",\"step\":\"month\",\"stepmode\":\"backward\"},{\"count\":3,\"label\":\"3m\",\"step\":\"month\",\"stepmode\":\"backward\"},{\"count\":6,\"label\":\"6m\",\"step\":\"month\",\"stepmode\":\"backward\"},{\"count\":1,\"label\":\"1y\",\"step\":\"year\",\"stepmode\":\"backward\"},{\"step\":\"all\"}]}},\"title\":{\"text\":\"Stock Price Analysis Upto Today\"},\"height\":600,\"width\":1150},                        {\"responsive\": true}                    ).then(function(){\n",
       "                            \n",
       "var gd = document.getElementById('6e141f99-a1e0-4eae-a253-67f48bc4b8f6');\n",
       "var x = new MutationObserver(function (mutations, observer) {{\n",
       "        var display = window.getComputedStyle(gd).display;\n",
       "        if (!display || display === 'none') {{\n",
       "            console.log([gd, 'removed!']);\n",
       "            Plotly.purge(gd);\n",
       "            observer.disconnect();\n",
       "        }}\n",
       "}});\n",
       "\n",
       "// Listen for the removal of the full notebook cells\n",
       "var notebookContainer = gd.closest('#notebook-container');\n",
       "if (notebookContainer) {{\n",
       "    x.observe(notebookContainer, {childList: true});\n",
       "}}\n",
       "\n",
       "// Listen for the clearing of the current output cell\n",
       "var outputEl = gd.closest('.output');\n",
       "if (outputEl) {{\n",
       "    x.observe(outputEl, {childList: true});\n",
       "}}\n",
       "\n",
       "                        })                };                });            </script>        </div>"
      ]
     },
     "metadata": {},
     "output_type": "display_data"
    }
   ],
   "source": [
    "\n",
    "#plotting the data in Candlesticks which is differntiates the Increase and decrease in price\n",
    "#interactive plotting using plot3d\n",
    "figure = go.Figure(data=[go.Candlestick(x=data_1y[\"Date\"],\n",
    "                                        open=data_1y[\"Open\"], \n",
    "                                        high=data_1y[\"High\"],\n",
    "                                        low=data_1y[\"Low\"], \n",
    "                                        close=data_1y[\"Close\"],\n",
    "                                        increasing_line_color='green', \n",
    "                                        decreasing_line_color='red',\n",
    "                                        increasing_fillcolor='green',\n",
    "                                        decreasing_fillcolor='red')])\n",
    "\n",
    "#slider can be used to select the range of price movements\n",
    "figure.update_layout(title = \" Stock Price Movement Upto Today\", xaxis_rangeslider_visible=False)\n",
    "\n",
    "#updating layouts with custom size of a PLot\n",
    "figure.update_layout(title = \"Stock Price Analysis Upto Today\", \n",
    "                     xaxis_rangeslider_visible=True,height=600,width=1150)\n",
    "#selecting particular time 1,3,6 and 1year using a rangeselector\n",
    "figure.update_xaxes(\n",
    "    rangeselector=dict(\n",
    "        buttons=list([\n",
    "            dict(count=1, label=\"1m\", step=\"month\", stepmode=\"backward\"),\n",
    "            dict(count=3, label=\"3m\", step=\"month\", stepmode=\"backward\"),\n",
    "            dict(count=6, label=\"6m\", step=\"month\", stepmode=\"backward\"),\n",
    "            dict(count=1, label=\"1y\", step=\"year\", stepmode=\"backward\"),\n",
    "            dict(step=\"all\")\n",
    "        ])\n",
    "    )\n",
    ")\n",
    "\n",
    "\n",
    "figure.show()"
   ]
  },
  {
   "cell_type": "code",
   "execution_count": 57,
   "id": "73613c98-0d53-4ccf-abf1-465c027b813b",
   "metadata": {},
   "outputs": [
    {
     "data": {
      "application/vnd.plotly.v1+json": {
       "config": {
        "plotlyServerURL": "https://plot.ly"
       },
       "data": [
        {
         "hovertemplate": "Date=%{x}<br>Close=%{y}<extra></extra>",
         "legendgroup": "",
         "line": {
          "color": "blue",
          "dash": "solid"
         },
         "marker": {
          "symbol": "circle"
         },
         "mode": "lines",
         "name": "",
         "orientation": "v",
         "showlegend": false,
         "type": "scatter",
         "x": [
          "2023-01-31T00:00:00",
          "2023-02-01T00:00:00",
          "2023-02-02T00:00:00",
          "2023-02-03T00:00:00",
          "2023-02-06T00:00:00",
          "2023-02-07T00:00:00",
          "2023-02-08T00:00:00",
          "2023-02-09T00:00:00",
          "2023-02-10T00:00:00",
          "2023-02-13T00:00:00",
          "2023-02-14T00:00:00",
          "2023-02-15T00:00:00",
          "2023-02-16T00:00:00",
          "2023-02-17T00:00:00",
          "2023-02-21T00:00:00",
          "2023-02-22T00:00:00",
          "2023-02-23T00:00:00",
          "2023-02-24T00:00:00",
          "2023-02-27T00:00:00",
          "2023-02-28T00:00:00",
          "2023-03-01T00:00:00",
          "2023-03-02T00:00:00",
          "2023-03-03T00:00:00",
          "2023-03-06T00:00:00",
          "2023-03-07T00:00:00",
          "2023-03-08T00:00:00",
          "2023-03-09T00:00:00",
          "2023-03-10T00:00:00",
          "2023-03-13T00:00:00",
          "2023-03-14T00:00:00",
          "2023-03-15T00:00:00",
          "2023-03-16T00:00:00",
          "2023-03-17T00:00:00",
          "2023-03-20T00:00:00",
          "2023-03-21T00:00:00",
          "2023-03-22T00:00:00",
          "2023-03-23T00:00:00",
          "2023-03-24T00:00:00",
          "2023-03-27T00:00:00",
          "2023-03-28T00:00:00",
          "2023-03-29T00:00:00",
          "2023-03-30T00:00:00",
          "2023-03-31T00:00:00",
          "2023-04-03T00:00:00",
          "2023-04-04T00:00:00",
          "2023-04-05T00:00:00",
          "2023-04-06T00:00:00",
          "2023-04-10T00:00:00",
          "2023-04-11T00:00:00",
          "2023-04-12T00:00:00",
          "2023-04-13T00:00:00",
          "2023-04-14T00:00:00",
          "2023-04-17T00:00:00",
          "2023-04-18T00:00:00",
          "2023-04-19T00:00:00",
          "2023-04-20T00:00:00",
          "2023-04-21T00:00:00",
          "2023-04-24T00:00:00",
          "2023-04-25T00:00:00",
          "2023-04-26T00:00:00",
          "2023-04-27T00:00:00",
          "2023-04-28T00:00:00",
          "2023-05-01T00:00:00",
          "2023-05-02T00:00:00",
          "2023-05-03T00:00:00",
          "2023-05-04T00:00:00",
          "2023-05-05T00:00:00",
          "2023-05-08T00:00:00",
          "2023-05-09T00:00:00",
          "2023-05-10T00:00:00",
          "2023-05-11T00:00:00",
          "2023-05-12T00:00:00",
          "2023-05-15T00:00:00",
          "2023-05-16T00:00:00",
          "2023-05-17T00:00:00",
          "2023-05-18T00:00:00",
          "2023-05-19T00:00:00",
          "2023-05-22T00:00:00",
          "2023-05-23T00:00:00",
          "2023-05-24T00:00:00",
          "2023-05-25T00:00:00",
          "2023-05-26T00:00:00",
          "2023-05-30T00:00:00",
          "2023-05-31T00:00:00",
          "2023-06-01T00:00:00",
          "2023-06-02T00:00:00",
          "2023-06-05T00:00:00",
          "2023-06-06T00:00:00",
          "2023-06-07T00:00:00",
          "2023-06-08T00:00:00",
          "2023-06-09T00:00:00",
          "2023-06-12T00:00:00",
          "2023-06-13T00:00:00",
          "2023-06-14T00:00:00",
          "2023-06-15T00:00:00",
          "2023-06-16T00:00:00",
          "2023-06-20T00:00:00",
          "2023-06-21T00:00:00",
          "2023-06-22T00:00:00",
          "2023-06-23T00:00:00",
          "2023-06-26T00:00:00",
          "2023-06-27T00:00:00",
          "2023-06-28T00:00:00",
          "2023-06-29T00:00:00",
          "2023-06-30T00:00:00",
          "2023-07-03T00:00:00",
          "2023-07-05T00:00:00",
          "2023-07-06T00:00:00",
          "2023-07-07T00:00:00",
          "2023-07-10T00:00:00",
          "2023-07-11T00:00:00",
          "2023-07-12T00:00:00",
          "2023-07-13T00:00:00",
          "2023-07-14T00:00:00",
          "2023-07-17T00:00:00",
          "2023-07-18T00:00:00",
          "2023-07-19T00:00:00",
          "2023-07-20T00:00:00",
          "2023-07-21T00:00:00",
          "2023-07-24T00:00:00",
          "2023-07-25T00:00:00",
          "2023-07-26T00:00:00",
          "2023-07-27T00:00:00",
          "2023-07-28T00:00:00",
          "2023-07-31T00:00:00",
          "2023-08-01T00:00:00",
          "2023-08-02T00:00:00",
          "2023-08-03T00:00:00",
          "2023-08-04T00:00:00",
          "2023-08-07T00:00:00",
          "2023-08-08T00:00:00",
          "2023-08-09T00:00:00",
          "2023-08-10T00:00:00",
          "2023-08-11T00:00:00",
          "2023-08-14T00:00:00",
          "2023-08-15T00:00:00",
          "2023-08-16T00:00:00",
          "2023-08-17T00:00:00",
          "2023-08-18T00:00:00",
          "2023-08-21T00:00:00",
          "2023-08-22T00:00:00",
          "2023-08-23T00:00:00",
          "2023-08-24T00:00:00",
          "2023-08-25T00:00:00",
          "2023-08-28T00:00:00",
          "2023-08-29T00:00:00",
          "2023-08-30T00:00:00",
          "2023-08-31T00:00:00",
          "2023-09-01T00:00:00",
          "2023-09-05T00:00:00",
          "2023-09-06T00:00:00",
          "2023-09-07T00:00:00",
          "2023-09-08T00:00:00",
          "2023-09-11T00:00:00",
          "2023-09-12T00:00:00",
          "2023-09-13T00:00:00",
          "2023-09-14T00:00:00",
          "2023-09-15T00:00:00",
          "2023-09-18T00:00:00",
          "2023-09-19T00:00:00",
          "2023-09-20T00:00:00",
          "2023-09-21T00:00:00",
          "2023-09-22T00:00:00",
          "2023-09-25T00:00:00",
          "2023-09-26T00:00:00",
          "2023-09-27T00:00:00",
          "2023-09-28T00:00:00",
          "2023-09-29T00:00:00",
          "2023-10-02T00:00:00",
          "2023-10-03T00:00:00",
          "2023-10-04T00:00:00",
          "2023-10-05T00:00:00",
          "2023-10-06T00:00:00",
          "2023-10-09T00:00:00",
          "2023-10-10T00:00:00",
          "2023-10-11T00:00:00",
          "2023-10-12T00:00:00",
          "2023-10-13T00:00:00",
          "2023-10-16T00:00:00",
          "2023-10-17T00:00:00",
          "2023-10-18T00:00:00",
          "2023-10-19T00:00:00",
          "2023-10-20T00:00:00",
          "2023-10-23T00:00:00",
          "2023-10-24T00:00:00",
          "2023-10-25T00:00:00",
          "2023-10-26T00:00:00",
          "2023-10-27T00:00:00",
          "2023-10-30T00:00:00",
          "2023-10-31T00:00:00",
          "2023-11-01T00:00:00",
          "2023-11-02T00:00:00",
          "2023-11-03T00:00:00",
          "2023-11-06T00:00:00",
          "2023-11-07T00:00:00",
          "2023-11-08T00:00:00",
          "2023-11-09T00:00:00",
          "2023-11-10T00:00:00",
          "2023-11-13T00:00:00",
          "2023-11-14T00:00:00",
          "2023-11-15T00:00:00",
          "2023-11-16T00:00:00",
          "2023-11-17T00:00:00",
          "2023-11-20T00:00:00",
          "2023-11-21T00:00:00",
          "2023-11-22T00:00:00",
          "2023-11-24T00:00:00",
          "2023-11-27T00:00:00",
          "2023-11-28T00:00:00",
          "2023-11-29T00:00:00",
          "2023-11-30T00:00:00",
          "2023-12-01T00:00:00",
          "2023-12-04T00:00:00",
          "2023-12-05T00:00:00",
          "2023-12-06T00:00:00",
          "2023-12-07T00:00:00",
          "2023-12-08T00:00:00",
          "2023-12-11T00:00:00",
          "2023-12-12T00:00:00",
          "2023-12-13T00:00:00",
          "2023-12-14T00:00:00",
          "2023-12-15T00:00:00",
          "2023-12-18T00:00:00",
          "2023-12-19T00:00:00",
          "2023-12-20T00:00:00",
          "2023-12-21T00:00:00",
          "2023-12-22T00:00:00",
          "2023-12-26T00:00:00",
          "2023-12-27T00:00:00",
          "2023-12-28T00:00:00",
          "2023-12-29T00:00:00",
          "2024-01-02T00:00:00",
          "2024-01-03T00:00:00",
          "2024-01-04T00:00:00",
          "2024-01-05T00:00:00",
          "2024-01-08T00:00:00",
          "2024-01-09T00:00:00",
          "2024-01-10T00:00:00",
          "2024-01-11T00:00:00",
          "2024-01-12T00:00:00",
          "2024-01-16T00:00:00",
          "2024-01-17T00:00:00",
          "2024-01-18T00:00:00",
          "2024-01-19T00:00:00",
          "2024-01-22T00:00:00",
          "2024-01-23T00:00:00",
          "2024-01-24T00:00:00",
          "2024-01-25T00:00:00",
          "2024-01-26T00:00:00",
          "2024-01-29T00:00:00",
          "2024-01-30T00:00:00",
          "2024-01-31T00:00:00",
          "2024-02-01T00:00:00",
          "2024-02-02T00:00:00",
          "2024-02-05T00:00:00",
          "2024-02-06T00:00:00",
          "2024-02-07T00:00:00",
          "2024-02-08T00:00:00",
          "2024-02-09T00:00:00",
          "2024-02-12T00:00:00",
          "2024-02-13T00:00:00",
          "2024-02-14T00:00:00",
          "2024-02-15T00:00:00",
          "2024-02-16T00:00:00",
          "2024-02-20T00:00:00",
          "2024-02-21T00:00:00",
          "2024-02-22T00:00:00",
          "2024-02-23T00:00:00",
          "2024-02-26T00:00:00",
          "2024-02-27T00:00:00",
          "2024-02-28T00:00:00",
          "2024-02-29T00:00:00",
          "2024-03-01T00:00:00",
          "2024-03-04T00:00:00",
          "2024-03-05T00:00:00",
          "2024-03-06T00:00:00",
          "2024-03-07T00:00:00",
          "2024-03-08T00:00:00",
          "2024-03-11T00:00:00",
          "2024-03-12T00:00:00",
          "2024-03-13T00:00:00",
          "2024-03-14T00:00:00",
          "2024-03-15T00:00:00",
          "2024-03-18T00:00:00",
          "2024-03-19T00:00:00",
          "2024-03-20T00:00:00",
          "2024-03-21T00:00:00",
          "2024-03-22T00:00:00",
          "2024-03-25T00:00:00",
          "2024-03-26T00:00:00",
          "2024-03-27T00:00:00",
          "2024-03-28T00:00:00",
          "2024-04-01T00:00:00",
          "2024-04-02T00:00:00",
          "2024-04-03T00:00:00",
          "2024-04-04T00:00:00",
          "2024-04-05T00:00:00",
          "2024-04-08T00:00:00",
          "2024-04-09T00:00:00",
          "2024-04-10T00:00:00",
          "2024-04-11T00:00:00",
          "2024-04-12T00:00:00",
          "2024-04-15T00:00:00",
          "2024-04-16T00:00:00",
          "2024-04-17T00:00:00",
          "2024-04-18T00:00:00",
          "2024-04-19T00:00:00",
          "2024-04-22T00:00:00",
          "2024-04-23T00:00:00",
          "2024-04-24T00:00:00",
          "2024-04-25T00:00:00",
          "2024-04-26T00:00:00",
          "2024-04-29T00:00:00",
          "2024-04-30T00:00:00",
          "2024-05-01T00:00:00",
          "2024-05-02T00:00:00",
          "2024-05-03T00:00:00",
          "2024-05-06T00:00:00",
          "2024-05-07T00:00:00",
          "2024-05-08T00:00:00",
          "2024-05-09T00:00:00",
          "2024-05-10T00:00:00",
          "2024-05-13T00:00:00",
          "2024-05-14T00:00:00",
          "2024-05-15T00:00:00",
          "2024-05-16T00:00:00",
          "2024-05-17T00:00:00",
          "2024-05-20T00:00:00",
          "2024-05-21T00:00:00",
          "2024-05-22T00:00:00",
          "2024-05-23T00:00:00",
          "2024-05-24T00:00:00",
          "2024-05-28T00:00:00",
          "2024-05-29T00:00:00",
          "2024-05-30T00:00:00",
          "2024-05-31T00:00:00",
          "2024-06-03T00:00:00",
          "2024-06-04T00:00:00",
          "2024-06-05T00:00:00",
          "2024-06-06T00:00:00",
          "2024-06-07T00:00:00",
          "2024-06-10T00:00:00",
          "2024-06-11T00:00:00",
          "2024-06-12T00:00:00",
          "2024-06-13T00:00:00",
          "2024-06-14T00:00:00",
          "2024-06-17T00:00:00",
          "2024-06-18T00:00:00",
          "2024-06-20T00:00:00",
          "2024-06-21T00:00:00",
          "2024-06-24T00:00:00",
          "2024-06-25T00:00:00",
          "2024-06-26T00:00:00",
          "2024-06-27T00:00:00",
          "2024-06-28T00:00:00",
          "2024-07-01T00:00:00",
          "2024-07-02T00:00:00",
          "2024-07-03T00:00:00",
          "2024-07-05T00:00:00",
          "2024-07-08T00:00:00",
          "2024-07-09T00:00:00",
          "2024-07-10T00:00:00",
          "2024-07-11T00:00:00",
          "2024-07-12T00:00:00",
          "2024-07-15T00:00:00"
         ],
         "xaxis": "x",
         "y": [
          144.2899932861328,
          145.42999267578125,
          150.82000732421875,
          154.5,
          151.72999572753906,
          154.64999389648438,
          151.9199981689453,
          150.8699951171875,
          151.00999450683594,
          153.85000610351562,
          153.1999969482422,
          155.3300018310547,
          153.7100067138672,
          152.5500030517578,
          148.47999572753906,
          148.91000366210938,
          149.39999389648438,
          146.7100067138672,
          147.9199981689453,
          147.41000366210938,
          145.30999755859375,
          145.91000366210938,
          151.02999877929688,
          153.8300018310547,
          151.60000610351562,
          152.8699951171875,
          150.58999633789062,
          148.5,
          150.47000122070312,
          152.58999633789062,
          152.99000549316406,
          155.85000610351562,
          155,
          157.39999389648438,
          159.27999877929688,
          157.8300018310547,
          158.92999267578125,
          160.25,
          158.27999877929688,
          157.64999389648438,
          160.77000427246094,
          162.36000061035156,
          164.89999389648438,
          166.1699981689453,
          165.6300048828125,
          163.75999450683594,
          164.66000366210938,
          162.02999877929688,
          160.8000030517578,
          160.10000610351562,
          165.55999755859375,
          165.2100067138672,
          165.22999572753906,
          166.47000122070312,
          167.6300048828125,
          166.64999389648438,
          165.02000427246094,
          165.3300018310547,
          163.77000427246094,
          163.75999450683594,
          168.41000366210938,
          169.67999267578125,
          169.58999633789062,
          168.5399932861328,
          167.4499969482422,
          165.7899932861328,
          173.57000732421875,
          173.5,
          171.77000427246094,
          173.55999755859375,
          173.75,
          172.57000732421875,
          172.07000732421875,
          172.07000732421875,
          172.69000244140625,
          175.0500030517578,
          175.16000366210938,
          174.1999969482422,
          171.55999755859375,
          171.83999633789062,
          172.99000549316406,
          175.42999267578125,
          177.3000030517578,
          177.25,
          180.08999633789062,
          180.9499969482422,
          179.5800018310547,
          179.2100067138672,
          177.82000732421875,
          180.57000732421875,
          180.9600067138672,
          183.7899932861328,
          183.30999755859375,
          183.9499969482422,
          186.00999450683594,
          184.9199981689453,
          185.00999450683594,
          183.9600067138672,
          187,
          186.67999267578125,
          185.27000427246094,
          188.05999755859375,
          189.25,
          189.58999633789062,
          193.97000122070312,
          192.4600067138672,
          191.3300018310547,
          191.80999755859375,
          190.67999267578125,
          188.61000061035156,
          188.0800018310547,
          189.77000427246094,
          190.5399932861328,
          190.69000244140625,
          193.99000549316406,
          193.72999572753906,
          195.10000610351562,
          193.1300048828125,
          191.94000244140625,
          192.75,
          193.6199951171875,
          194.5,
          193.22000122070312,
          195.8300018310547,
          196.4499969482422,
          195.61000061035156,
          192.5800018310547,
          191.1699981689453,
          181.99000549316406,
          178.85000610351562,
          179.8000030517578,
          178.19000244140625,
          177.97000122070312,
          177.7899932861328,
          179.4600067138672,
          177.4499969482422,
          176.57000732421875,
          174,
          174.49000549316406,
          175.83999633789062,
          177.22999572753906,
          181.1199951171875,
          176.3800048828125,
          178.61000061035156,
          180.19000244140625,
          184.1199951171875,
          187.64999389648438,
          187.8699951171875,
          189.4600067138672,
          189.6999969482422,
          182.91000366210938,
          177.55999755859375,
          178.17999267578125,
          179.36000061035156,
          176.3000030517578,
          174.2100067138672,
          175.74000549316406,
          175.00999450683594,
          177.97000122070312,
          179.07000732421875,
          175.49000549316406,
          173.92999267578125,
          174.7899932861328,
          176.0800018310547,
          171.9600067138672,
          170.42999267578125,
          170.69000244140625,
          171.2100067138672,
          173.75,
          172.39999389648438,
          173.66000366210938,
          174.91000366210938,
          177.49000549316406,
          178.99000549316406,
          178.38999938964844,
          179.8000030517578,
          180.7100067138672,
          178.85000610351562,
          178.72000122070312,
          177.14999389648438,
          175.83999633789062,
          175.4600067138672,
          172.8800048828125,
          173,
          173.44000244140625,
          171.10000610351562,
          166.88999938964844,
          168.22000122070312,
          170.2899932861328,
          170.77000427246094,
          173.97000122070312,
          177.57000732421875,
          176.64999389648438,
          179.22999572753906,
          181.82000732421875,
          182.88999938964844,
          182.41000366210938,
          186.39999389648438,
          184.8000030517578,
          187.44000244140625,
          188.00999450683594,
          189.7100067138672,
          189.69000244140625,
          191.4499969482422,
          190.63999938964844,
          191.30999755859375,
          189.97000122070312,
          189.7899932861328,
          190.39999389648438,
          189.3699951171875,
          189.9499969482422,
          191.24000549316406,
          189.42999267578125,
          193.4199981689453,
          192.32000732421875,
          194.27000427246094,
          195.7100067138672,
          193.17999267578125,
          194.7100067138672,
          197.9600067138672,
          198.11000061035156,
          197.57000732421875,
          195.88999938964844,
          196.94000244140625,
          194.8300018310547,
          194.67999267578125,
          193.60000610351562,
          193.0500030517578,
          193.14999389648438,
          193.5800018310547,
          192.52999877929688,
          185.63999938964844,
          184.25,
          181.91000366210938,
          181.17999267578125,
          185.55999755859375,
          185.13999938964844,
          186.19000244140625,
          185.58999633789062,
          185.9199981689453,
          183.6300048828125,
          182.67999267578125,
          188.6300048828125,
          191.55999755859375,
          193.88999938964844,
          195.17999267578125,
          194.5,
          194.1699981689453,
          192.4199981689453,
          191.72999572753906,
          188.0399932861328,
          184.39999389648438,
          186.86000061035156,
          185.85000610351562,
          187.67999267578125,
          189.3000030517578,
          189.41000366210938,
          188.32000732421875,
          188.85000610351562,
          187.14999389648438,
          185.0399932861328,
          184.14999389648438,
          183.86000061035156,
          182.30999755859375,
          181.55999755859375,
          182.32000732421875,
          184.3699951171875,
          182.52000427246094,
          181.16000366210938,
          182.6300048828125,
          181.4199981689453,
          180.75,
          179.66000366210938,
          175.10000610351562,
          170.1199951171875,
          169.1199951171875,
          169,
          170.72999572753906,
          172.75,
          173.22999572753906,
          171.1300048828125,
          173,
          172.6199951171875,
          173.72000122070312,
          176.0800018310547,
          178.6699981689453,
          171.3699951171875,
          172.27999877929688,
          170.85000610351562,
          169.7100067138672,
          173.30999755859375,
          171.47999572753906,
          170.02999877929688,
          168.83999633789062,
          169.64999389648438,
          168.82000732421875,
          169.5800018310547,
          168.4499969482422,
          169.6699981689453,
          167.77999877929688,
          175.0399932861328,
          176.5500030517578,
          172.69000244140625,
          169.3800048828125,
          168,
          167.0399932861328,
          165,
          165.83999633789062,
          166.89999389648438,
          169.02000427246094,
          169.88999938964844,
          169.3000030517578,
          173.5,
          170.3300018310547,
          169.3000030517578,
          173.02999877929688,
          183.3800048828125,
          181.7100067138672,
          182.39999389648438,
          182.74000549316406,
          184.57000732421875,
          183.0500030517578,
          186.27999877929688,
          187.42999267578125,
          189.72000122070312,
          189.83999633789062,
          189.8699951171875,
          191.0399932861328,
          192.35000610351562,
          190.89999389648438,
          186.8800048828125,
          189.97999572753906,
          189.99000549316406,
          190.2899932861328,
          191.2899932861328,
          192.25,
          194.02999877929688,
          194.35000610351562,
          195.8699951171875,
          194.47999572753906,
          196.88999938964844,
          193.1199951171875,
          207.14999389648438,
          213.07000732421875,
          214.24000549316406,
          212.49000549316406,
          216.6699981689453,
          214.2899932861328,
          209.67999267578125,
          207.49000549316406,
          208.13999938964844,
          209.07000732421875,
          213.25,
          214.10000610351562,
          210.6199951171875,
          216.75,
          220.27000427246094,
          221.5500030517578,
          226.33999633789062,
          227.82000732421875,
          228.67999267578125,
          232.97999572753906,
          227.57000732421875,
          230.5399932861328,
          234.39999389648438
         ],
         "yaxis": "y"
        },
        {
         "marker": {
          "color": "red"
         },
         "name": "Trading Volume in Lakhs",
         "type": "bar",
         "x": [
          "2023-01-31T00:00:00",
          "2023-02-01T00:00:00",
          "2023-02-02T00:00:00",
          "2023-02-03T00:00:00",
          "2023-02-06T00:00:00",
          "2023-02-07T00:00:00",
          "2023-02-08T00:00:00",
          "2023-02-09T00:00:00",
          "2023-02-10T00:00:00",
          "2023-02-13T00:00:00",
          "2023-02-14T00:00:00",
          "2023-02-15T00:00:00",
          "2023-02-16T00:00:00",
          "2023-02-17T00:00:00",
          "2023-02-21T00:00:00",
          "2023-02-22T00:00:00",
          "2023-02-23T00:00:00",
          "2023-02-24T00:00:00",
          "2023-02-27T00:00:00",
          "2023-02-28T00:00:00",
          "2023-03-01T00:00:00",
          "2023-03-02T00:00:00",
          "2023-03-03T00:00:00",
          "2023-03-06T00:00:00",
          "2023-03-07T00:00:00",
          "2023-03-08T00:00:00",
          "2023-03-09T00:00:00",
          "2023-03-10T00:00:00",
          "2023-03-13T00:00:00",
          "2023-03-14T00:00:00",
          "2023-03-15T00:00:00",
          "2023-03-16T00:00:00",
          "2023-03-17T00:00:00",
          "2023-03-20T00:00:00",
          "2023-03-21T00:00:00",
          "2023-03-22T00:00:00",
          "2023-03-23T00:00:00",
          "2023-03-24T00:00:00",
          "2023-03-27T00:00:00",
          "2023-03-28T00:00:00",
          "2023-03-29T00:00:00",
          "2023-03-30T00:00:00",
          "2023-03-31T00:00:00",
          "2023-04-03T00:00:00",
          "2023-04-04T00:00:00",
          "2023-04-05T00:00:00",
          "2023-04-06T00:00:00",
          "2023-04-10T00:00:00",
          "2023-04-11T00:00:00",
          "2023-04-12T00:00:00",
          "2023-04-13T00:00:00",
          "2023-04-14T00:00:00",
          "2023-04-17T00:00:00",
          "2023-04-18T00:00:00",
          "2023-04-19T00:00:00",
          "2023-04-20T00:00:00",
          "2023-04-21T00:00:00",
          "2023-04-24T00:00:00",
          "2023-04-25T00:00:00",
          "2023-04-26T00:00:00",
          "2023-04-27T00:00:00",
          "2023-04-28T00:00:00",
          "2023-05-01T00:00:00",
          "2023-05-02T00:00:00",
          "2023-05-03T00:00:00",
          "2023-05-04T00:00:00",
          "2023-05-05T00:00:00",
          "2023-05-08T00:00:00",
          "2023-05-09T00:00:00",
          "2023-05-10T00:00:00",
          "2023-05-11T00:00:00",
          "2023-05-12T00:00:00",
          "2023-05-15T00:00:00",
          "2023-05-16T00:00:00",
          "2023-05-17T00:00:00",
          "2023-05-18T00:00:00",
          "2023-05-19T00:00:00",
          "2023-05-22T00:00:00",
          "2023-05-23T00:00:00",
          "2023-05-24T00:00:00",
          "2023-05-25T00:00:00",
          "2023-05-26T00:00:00",
          "2023-05-30T00:00:00",
          "2023-05-31T00:00:00",
          "2023-06-01T00:00:00",
          "2023-06-02T00:00:00",
          "2023-06-05T00:00:00",
          "2023-06-06T00:00:00",
          "2023-06-07T00:00:00",
          "2023-06-08T00:00:00",
          "2023-06-09T00:00:00",
          "2023-06-12T00:00:00",
          "2023-06-13T00:00:00",
          "2023-06-14T00:00:00",
          "2023-06-15T00:00:00",
          "2023-06-16T00:00:00",
          "2023-06-20T00:00:00",
          "2023-06-21T00:00:00",
          "2023-06-22T00:00:00",
          "2023-06-23T00:00:00",
          "2023-06-26T00:00:00",
          "2023-06-27T00:00:00",
          "2023-06-28T00:00:00",
          "2023-06-29T00:00:00",
          "2023-06-30T00:00:00",
          "2023-07-03T00:00:00",
          "2023-07-05T00:00:00",
          "2023-07-06T00:00:00",
          "2023-07-07T00:00:00",
          "2023-07-10T00:00:00",
          "2023-07-11T00:00:00",
          "2023-07-12T00:00:00",
          "2023-07-13T00:00:00",
          "2023-07-14T00:00:00",
          "2023-07-17T00:00:00",
          "2023-07-18T00:00:00",
          "2023-07-19T00:00:00",
          "2023-07-20T00:00:00",
          "2023-07-21T00:00:00",
          "2023-07-24T00:00:00",
          "2023-07-25T00:00:00",
          "2023-07-26T00:00:00",
          "2023-07-27T00:00:00",
          "2023-07-28T00:00:00",
          "2023-07-31T00:00:00",
          "2023-08-01T00:00:00",
          "2023-08-02T00:00:00",
          "2023-08-03T00:00:00",
          "2023-08-04T00:00:00",
          "2023-08-07T00:00:00",
          "2023-08-08T00:00:00",
          "2023-08-09T00:00:00",
          "2023-08-10T00:00:00",
          "2023-08-11T00:00:00",
          "2023-08-14T00:00:00",
          "2023-08-15T00:00:00",
          "2023-08-16T00:00:00",
          "2023-08-17T00:00:00",
          "2023-08-18T00:00:00",
          "2023-08-21T00:00:00",
          "2023-08-22T00:00:00",
          "2023-08-23T00:00:00",
          "2023-08-24T00:00:00",
          "2023-08-25T00:00:00",
          "2023-08-28T00:00:00",
          "2023-08-29T00:00:00",
          "2023-08-30T00:00:00",
          "2023-08-31T00:00:00",
          "2023-09-01T00:00:00",
          "2023-09-05T00:00:00",
          "2023-09-06T00:00:00",
          "2023-09-07T00:00:00",
          "2023-09-08T00:00:00",
          "2023-09-11T00:00:00",
          "2023-09-12T00:00:00",
          "2023-09-13T00:00:00",
          "2023-09-14T00:00:00",
          "2023-09-15T00:00:00",
          "2023-09-18T00:00:00",
          "2023-09-19T00:00:00",
          "2023-09-20T00:00:00",
          "2023-09-21T00:00:00",
          "2023-09-22T00:00:00",
          "2023-09-25T00:00:00",
          "2023-09-26T00:00:00",
          "2023-09-27T00:00:00",
          "2023-09-28T00:00:00",
          "2023-09-29T00:00:00",
          "2023-10-02T00:00:00",
          "2023-10-03T00:00:00",
          "2023-10-04T00:00:00",
          "2023-10-05T00:00:00",
          "2023-10-06T00:00:00",
          "2023-10-09T00:00:00",
          "2023-10-10T00:00:00",
          "2023-10-11T00:00:00",
          "2023-10-12T00:00:00",
          "2023-10-13T00:00:00",
          "2023-10-16T00:00:00",
          "2023-10-17T00:00:00",
          "2023-10-18T00:00:00",
          "2023-10-19T00:00:00",
          "2023-10-20T00:00:00",
          "2023-10-23T00:00:00",
          "2023-10-24T00:00:00",
          "2023-10-25T00:00:00",
          "2023-10-26T00:00:00",
          "2023-10-27T00:00:00",
          "2023-10-30T00:00:00",
          "2023-10-31T00:00:00",
          "2023-11-01T00:00:00",
          "2023-11-02T00:00:00",
          "2023-11-03T00:00:00",
          "2023-11-06T00:00:00",
          "2023-11-07T00:00:00",
          "2023-11-08T00:00:00",
          "2023-11-09T00:00:00",
          "2023-11-10T00:00:00",
          "2023-11-13T00:00:00",
          "2023-11-14T00:00:00",
          "2023-11-15T00:00:00",
          "2023-11-16T00:00:00",
          "2023-11-17T00:00:00",
          "2023-11-20T00:00:00",
          "2023-11-21T00:00:00",
          "2023-11-22T00:00:00",
          "2023-11-24T00:00:00",
          "2023-11-27T00:00:00",
          "2023-11-28T00:00:00",
          "2023-11-29T00:00:00",
          "2023-11-30T00:00:00",
          "2023-12-01T00:00:00",
          "2023-12-04T00:00:00",
          "2023-12-05T00:00:00",
          "2023-12-06T00:00:00",
          "2023-12-07T00:00:00",
          "2023-12-08T00:00:00",
          "2023-12-11T00:00:00",
          "2023-12-12T00:00:00",
          "2023-12-13T00:00:00",
          "2023-12-14T00:00:00",
          "2023-12-15T00:00:00",
          "2023-12-18T00:00:00",
          "2023-12-19T00:00:00",
          "2023-12-20T00:00:00",
          "2023-12-21T00:00:00",
          "2023-12-22T00:00:00",
          "2023-12-26T00:00:00",
          "2023-12-27T00:00:00",
          "2023-12-28T00:00:00",
          "2023-12-29T00:00:00",
          "2024-01-02T00:00:00",
          "2024-01-03T00:00:00",
          "2024-01-04T00:00:00",
          "2024-01-05T00:00:00",
          "2024-01-08T00:00:00",
          "2024-01-09T00:00:00",
          "2024-01-10T00:00:00",
          "2024-01-11T00:00:00",
          "2024-01-12T00:00:00",
          "2024-01-16T00:00:00",
          "2024-01-17T00:00:00",
          "2024-01-18T00:00:00",
          "2024-01-19T00:00:00",
          "2024-01-22T00:00:00",
          "2024-01-23T00:00:00",
          "2024-01-24T00:00:00",
          "2024-01-25T00:00:00",
          "2024-01-26T00:00:00",
          "2024-01-29T00:00:00",
          "2024-01-30T00:00:00",
          "2024-01-31T00:00:00",
          "2024-02-01T00:00:00",
          "2024-02-02T00:00:00",
          "2024-02-05T00:00:00",
          "2024-02-06T00:00:00",
          "2024-02-07T00:00:00",
          "2024-02-08T00:00:00",
          "2024-02-09T00:00:00",
          "2024-02-12T00:00:00",
          "2024-02-13T00:00:00",
          "2024-02-14T00:00:00",
          "2024-02-15T00:00:00",
          "2024-02-16T00:00:00",
          "2024-02-20T00:00:00",
          "2024-02-21T00:00:00",
          "2024-02-22T00:00:00",
          "2024-02-23T00:00:00",
          "2024-02-26T00:00:00",
          "2024-02-27T00:00:00",
          "2024-02-28T00:00:00",
          "2024-02-29T00:00:00",
          "2024-03-01T00:00:00",
          "2024-03-04T00:00:00",
          "2024-03-05T00:00:00",
          "2024-03-06T00:00:00",
          "2024-03-07T00:00:00",
          "2024-03-08T00:00:00",
          "2024-03-11T00:00:00",
          "2024-03-12T00:00:00",
          "2024-03-13T00:00:00",
          "2024-03-14T00:00:00",
          "2024-03-15T00:00:00",
          "2024-03-18T00:00:00",
          "2024-03-19T00:00:00",
          "2024-03-20T00:00:00",
          "2024-03-21T00:00:00",
          "2024-03-22T00:00:00",
          "2024-03-25T00:00:00",
          "2024-03-26T00:00:00",
          "2024-03-27T00:00:00",
          "2024-03-28T00:00:00",
          "2024-04-01T00:00:00",
          "2024-04-02T00:00:00",
          "2024-04-03T00:00:00",
          "2024-04-04T00:00:00",
          "2024-04-05T00:00:00",
          "2024-04-08T00:00:00",
          "2024-04-09T00:00:00",
          "2024-04-10T00:00:00",
          "2024-04-11T00:00:00",
          "2024-04-12T00:00:00",
          "2024-04-15T00:00:00",
          "2024-04-16T00:00:00",
          "2024-04-17T00:00:00",
          "2024-04-18T00:00:00",
          "2024-04-19T00:00:00",
          "2024-04-22T00:00:00",
          "2024-04-23T00:00:00",
          "2024-04-24T00:00:00",
          "2024-04-25T00:00:00",
          "2024-04-26T00:00:00",
          "2024-04-29T00:00:00",
          "2024-04-30T00:00:00",
          "2024-05-01T00:00:00",
          "2024-05-02T00:00:00",
          "2024-05-03T00:00:00",
          "2024-05-06T00:00:00",
          "2024-05-07T00:00:00",
          "2024-05-08T00:00:00",
          "2024-05-09T00:00:00",
          "2024-05-10T00:00:00",
          "2024-05-13T00:00:00",
          "2024-05-14T00:00:00",
          "2024-05-15T00:00:00",
          "2024-05-16T00:00:00",
          "2024-05-17T00:00:00",
          "2024-05-20T00:00:00",
          "2024-05-21T00:00:00",
          "2024-05-22T00:00:00",
          "2024-05-23T00:00:00",
          "2024-05-24T00:00:00",
          "2024-05-28T00:00:00",
          "2024-05-29T00:00:00",
          "2024-05-30T00:00:00",
          "2024-05-31T00:00:00",
          "2024-06-03T00:00:00",
          "2024-06-04T00:00:00",
          "2024-06-05T00:00:00",
          "2024-06-06T00:00:00",
          "2024-06-07T00:00:00",
          "2024-06-10T00:00:00",
          "2024-06-11T00:00:00",
          "2024-06-12T00:00:00",
          "2024-06-13T00:00:00",
          "2024-06-14T00:00:00",
          "2024-06-17T00:00:00",
          "2024-06-18T00:00:00",
          "2024-06-20T00:00:00",
          "2024-06-21T00:00:00",
          "2024-06-24T00:00:00",
          "2024-06-25T00:00:00",
          "2024-06-26T00:00:00",
          "2024-06-27T00:00:00",
          "2024-06-28T00:00:00",
          "2024-07-01T00:00:00",
          "2024-07-02T00:00:00",
          "2024-07-03T00:00:00",
          "2024-07-05T00:00:00",
          "2024-07-08T00:00:00",
          "2024-07-09T00:00:00",
          "2024-07-10T00:00:00",
          "2024-07-11T00:00:00",
          "2024-07-12T00:00:00",
          "2024-07-15T00:00:00"
         ],
         "y": [
          65.8745,
          77.6636,
          118.339,
          154.3573,
          69.8583,
          83.3226,
          64.1201,
          56.0071,
          57.4507,
          62.199,
          61.7076,
          65.5738,
          68.1679,
          59.1441,
          58.8672,
          51.0113,
          48.3942,
          55.4696,
          44.9985,
          50.547,
          55.479,
          52.2381,
          70.7323,
          87.558,
          56.182,
          47.2048,
          53.8336,
          68.5724,
          84.4571,
          73.6959,
          77.1679,
          76.1611,
          98.9446,
          73.6414,
          73.9383,
          75.7018,
          67.6221,
          59.1965,
          52.3903,
          45.9922,
          51.3057,
          49.5017,
          68.7498,
          56.9762,
          46.2783,
          51.5117,
          45.3901,
          47.7169,
          47.6442,
          50.1331,
          68.4456,
          49.3865,
          41.5162,
          49.923,
          47.7202,
          52.4564,
          58.3373,
          41.9496,
          48.7141,
          45.4988,
          64.9023,
          55.2092,
          52.4729,
          48.4257,
          65.136,
          81.2354,
          113.3164,
          55.9628,
          45.3269,
          53.7245,
          49.5147,
          45.4978,
          37.2667,
          42.1103,
          57.9516,
          65.4967,
          55.7724,
          43.5709,
          50.7473,
          45.1435,
          56.0583,
          54.835,
          55.9644,
          99.6253,
          68.9018,
          61.9459,
          121.9465,
          64.8484,
          61.9446,
          50.2149,
          48.8707,
          54.2749,
          54.9291,
          57.4629,
          65.4332,
          101.2356,
          49.7991,
          49.5157,
          51.2453,
          53.0793,
          48.0887,
          50.7308,
          51.2168,
          46.3473,
          85.0696,
          31.4582,
          46.9203,
          45.0943,
          46.778,
          59.9222,
          46.6381,
          60.7502,
          41.3423,
          41.5739,
          50.5202,
          48.3538,
          80.5073,
          59.5812,
          71.9178,
          45.3778,
          37.2832,
          47.4719,
          47.4602,
          48.2914,
          38.8241,
          35.1751,
          50.3893,
          61.2352,
          115.7997,
          97.5761,
          67.823,
          60.3785,
          54.6869,
          51.9881,
          43.6756,
          43.6226,
          46.9649,
          66.0629,
          61.1142,
          46.3119,
          42.0842,
          52.7228,
          54.9458,
          51.4496,
          43.8207,
          53.0039,
          60.8139,
          60.7945,
          45.7326,
          45.28,
          81.7558,
          112.4888,
          65.5513,
          58.9531,
          90.3702,
          84.2679,
          60.8958,
          109.2051,
          67.2576,
          51.8269,
          58.4362,
          63.0479,
          56.7254,
          46.1727,
          64.5889,
          66.9218,
          56.2944,
          51.8142,
          52.1645,
          49.5946,
          53.0203,
          48.5279,
          57.2241,
          42.3908,
          43.698,
          47.5511,
          56.7431,
          51.4271,
          52.517,
          57.5494,
          54.7644,
          59.3029,
          64.1893,
          55.9801,
          43.8166,
          57.157,
          70.6253,
          58.4991,
          51.131,
          44.846,
          56.9349,
          77.3348,
          79.7637,
          63.8413,
          70.53,
          49.3403,
          53.7635,
          66.1334,
          43.6275,
          60.1084,
          53.7905,
          54.4129,
          50.9227,
          46.5051,
          38.1345,
          39.6177,
          24.0483,
          40.5526,
          38.4154,
          43.0142,
          48.7944,
          45.6793,
          43.3895,
          66.6284,
          41.0897,
          47.4777,
          53.3773,
          60.9437,
          52.6969,
          70.4042,
          66.8316,
          128.2567,
          55.7519,
          40.7141,
          52.2428,
          46.4825,
          37.1228,
          28.9193,
          48.0877,
          34.0499,
          42.6288,
          82.4887,
          58.4145,
          71.9836,
          62.3033,
          59.1445,
          42.8418,
          46.7929,
          49.1284,
          40.4447,
          65.603,
          47.3174,
          78.0058,
          68.741,
          60.1339,
          42.3556,
          53.6313,
          54.8221,
          44.594,
          47.1456,
          55.8594,
          55.4678,
          64.8854,
          102.518,
          69.6688,
          43.4908,
          53.439,
          40.962,
          45.1552,
          41.7819,
          56.5295,
          54.6305,
          65.4345,
          49.7014,
          53.6656,
          41.5297,
          52.2922,
          45.1197,
          40.8674,
          54.3189,
          48.9539,
          136.6826,
          73.488,
          81.5101,
          95.1324,
          68.5877,
          71.7651,
          76.1146,
          60.1395,
          59.8254,
          52.4887,
          72.9135,
          121.6647,
          75.6042,
          55.2152,
          53.4231,
          106.1813,
          71.1066,
          54.2883,
          57.3884,
          60.2733,
          65.6727,
          46.2405,
          49.3295,
          47.6917,
          53.7044,
          42.0552,
          37.4255,
          42.4512,
          49.7093,
          91.0703,
          101.5933,
          73.5318,
          73.7112,
          50.9012,
          43.1229,
          67.7721,
          48.1164,
          49.5378,
          48.2518,
          50.5583,
          44.8384,
          68.1694,
          65.9348,
          50.3831,
          94.2149,
          163.2241,
          78.5697,
          77.3058,
          45.0571,
          48.983,
          50.7595,
          72.0448,
          52.3936,
          70.4,
          52.8452,
          41.2829,
          44.3613,
          42.3094,
          34.6485,
          51.0059,
          36.2946,
          52.2801,
          53.068,
          49.9479,
          75.1583,
          50.0805,
          47.4714,
          54.1568,
          41.1818,
          53.1039,
          97.2621,
          172.3733,
          198.1343,
          97.8627,
          70.1227,
          93.7283,
          79.9433,
          86.1725,
          246.4214,
          80.727,
          56.7139,
          66.2132,
          49.7727,
          82.5427,
          60.4029,
          58.0462,
          37.3698,
          60.4124,
          59.0859,
          48.0761,
          62.6277,
          64.7106,
          53.0082,
          62.5497
         ],
         "yaxis": "y2"
        }
       ],
       "layout": {
        "bargap": 0.5,
        "bargroupgap": 0.1,
        "height": 700,
        "legend": {
         "tracegroupgap": 0
        },
        "template": {
         "data": {
          "bar": [
           {
            "error_x": {
             "color": "#2a3f5f"
            },
            "error_y": {
             "color": "#2a3f5f"
            },
            "marker": {
             "line": {
              "color": "#E5ECF6",
              "width": 0.5
             },
             "pattern": {
              "fillmode": "overlay",
              "size": 10,
              "solidity": 0.2
             }
            },
            "type": "bar"
           }
          ],
          "barpolar": [
           {
            "marker": {
             "line": {
              "color": "#E5ECF6",
              "width": 0.5
             },
             "pattern": {
              "fillmode": "overlay",
              "size": 10,
              "solidity": 0.2
             }
            },
            "type": "barpolar"
           }
          ],
          "carpet": [
           {
            "aaxis": {
             "endlinecolor": "#2a3f5f",
             "gridcolor": "white",
             "linecolor": "white",
             "minorgridcolor": "white",
             "startlinecolor": "#2a3f5f"
            },
            "baxis": {
             "endlinecolor": "#2a3f5f",
             "gridcolor": "white",
             "linecolor": "white",
             "minorgridcolor": "white",
             "startlinecolor": "#2a3f5f"
            },
            "type": "carpet"
           }
          ],
          "choropleth": [
           {
            "colorbar": {
             "outlinewidth": 0,
             "ticks": ""
            },
            "type": "choropleth"
           }
          ],
          "contour": [
           {
            "colorbar": {
             "outlinewidth": 0,
             "ticks": ""
            },
            "colorscale": [
             [
              0,
              "#0d0887"
             ],
             [
              0.1111111111111111,
              "#46039f"
             ],
             [
              0.2222222222222222,
              "#7201a8"
             ],
             [
              0.3333333333333333,
              "#9c179e"
             ],
             [
              0.4444444444444444,
              "#bd3786"
             ],
             [
              0.5555555555555556,
              "#d8576b"
             ],
             [
              0.6666666666666666,
              "#ed7953"
             ],
             [
              0.7777777777777778,
              "#fb9f3a"
             ],
             [
              0.8888888888888888,
              "#fdca26"
             ],
             [
              1,
              "#f0f921"
             ]
            ],
            "type": "contour"
           }
          ],
          "contourcarpet": [
           {
            "colorbar": {
             "outlinewidth": 0,
             "ticks": ""
            },
            "type": "contourcarpet"
           }
          ],
          "heatmap": [
           {
            "colorbar": {
             "outlinewidth": 0,
             "ticks": ""
            },
            "colorscale": [
             [
              0,
              "#0d0887"
             ],
             [
              0.1111111111111111,
              "#46039f"
             ],
             [
              0.2222222222222222,
              "#7201a8"
             ],
             [
              0.3333333333333333,
              "#9c179e"
             ],
             [
              0.4444444444444444,
              "#bd3786"
             ],
             [
              0.5555555555555556,
              "#d8576b"
             ],
             [
              0.6666666666666666,
              "#ed7953"
             ],
             [
              0.7777777777777778,
              "#fb9f3a"
             ],
             [
              0.8888888888888888,
              "#fdca26"
             ],
             [
              1,
              "#f0f921"
             ]
            ],
            "type": "heatmap"
           }
          ],
          "heatmapgl": [
           {
            "colorbar": {
             "outlinewidth": 0,
             "ticks": ""
            },
            "colorscale": [
             [
              0,
              "#0d0887"
             ],
             [
              0.1111111111111111,
              "#46039f"
             ],
             [
              0.2222222222222222,
              "#7201a8"
             ],
             [
              0.3333333333333333,
              "#9c179e"
             ],
             [
              0.4444444444444444,
              "#bd3786"
             ],
             [
              0.5555555555555556,
              "#d8576b"
             ],
             [
              0.6666666666666666,
              "#ed7953"
             ],
             [
              0.7777777777777778,
              "#fb9f3a"
             ],
             [
              0.8888888888888888,
              "#fdca26"
             ],
             [
              1,
              "#f0f921"
             ]
            ],
            "type": "heatmapgl"
           }
          ],
          "histogram": [
           {
            "marker": {
             "pattern": {
              "fillmode": "overlay",
              "size": 10,
              "solidity": 0.2
             }
            },
            "type": "histogram"
           }
          ],
          "histogram2d": [
           {
            "colorbar": {
             "outlinewidth": 0,
             "ticks": ""
            },
            "colorscale": [
             [
              0,
              "#0d0887"
             ],
             [
              0.1111111111111111,
              "#46039f"
             ],
             [
              0.2222222222222222,
              "#7201a8"
             ],
             [
              0.3333333333333333,
              "#9c179e"
             ],
             [
              0.4444444444444444,
              "#bd3786"
             ],
             [
              0.5555555555555556,
              "#d8576b"
             ],
             [
              0.6666666666666666,
              "#ed7953"
             ],
             [
              0.7777777777777778,
              "#fb9f3a"
             ],
             [
              0.8888888888888888,
              "#fdca26"
             ],
             [
              1,
              "#f0f921"
             ]
            ],
            "type": "histogram2d"
           }
          ],
          "histogram2dcontour": [
           {
            "colorbar": {
             "outlinewidth": 0,
             "ticks": ""
            },
            "colorscale": [
             [
              0,
              "#0d0887"
             ],
             [
              0.1111111111111111,
              "#46039f"
             ],
             [
              0.2222222222222222,
              "#7201a8"
             ],
             [
              0.3333333333333333,
              "#9c179e"
             ],
             [
              0.4444444444444444,
              "#bd3786"
             ],
             [
              0.5555555555555556,
              "#d8576b"
             ],
             [
              0.6666666666666666,
              "#ed7953"
             ],
             [
              0.7777777777777778,
              "#fb9f3a"
             ],
             [
              0.8888888888888888,
              "#fdca26"
             ],
             [
              1,
              "#f0f921"
             ]
            ],
            "type": "histogram2dcontour"
           }
          ],
          "mesh3d": [
           {
            "colorbar": {
             "outlinewidth": 0,
             "ticks": ""
            },
            "type": "mesh3d"
           }
          ],
          "parcoords": [
           {
            "line": {
             "colorbar": {
              "outlinewidth": 0,
              "ticks": ""
             }
            },
            "type": "parcoords"
           }
          ],
          "pie": [
           {
            "automargin": true,
            "type": "pie"
           }
          ],
          "scatter": [
           {
            "fillpattern": {
             "fillmode": "overlay",
             "size": 10,
             "solidity": 0.2
            },
            "type": "scatter"
           }
          ],
          "scatter3d": [
           {
            "line": {
             "colorbar": {
              "outlinewidth": 0,
              "ticks": ""
             }
            },
            "marker": {
             "colorbar": {
              "outlinewidth": 0,
              "ticks": ""
             }
            },
            "type": "scatter3d"
           }
          ],
          "scattercarpet": [
           {
            "marker": {
             "colorbar": {
              "outlinewidth": 0,
              "ticks": ""
             }
            },
            "type": "scattercarpet"
           }
          ],
          "scattergeo": [
           {
            "marker": {
             "colorbar": {
              "outlinewidth": 0,
              "ticks": ""
             }
            },
            "type": "scattergeo"
           }
          ],
          "scattergl": [
           {
            "marker": {
             "colorbar": {
              "outlinewidth": 0,
              "ticks": ""
             }
            },
            "type": "scattergl"
           }
          ],
          "scattermapbox": [
           {
            "marker": {
             "colorbar": {
              "outlinewidth": 0,
              "ticks": ""
             }
            },
            "type": "scattermapbox"
           }
          ],
          "scatterpolar": [
           {
            "marker": {
             "colorbar": {
              "outlinewidth": 0,
              "ticks": ""
             }
            },
            "type": "scatterpolar"
           }
          ],
          "scatterpolargl": [
           {
            "marker": {
             "colorbar": {
              "outlinewidth": 0,
              "ticks": ""
             }
            },
            "type": "scatterpolargl"
           }
          ],
          "scatterternary": [
           {
            "marker": {
             "colorbar": {
              "outlinewidth": 0,
              "ticks": ""
             }
            },
            "type": "scatterternary"
           }
          ],
          "surface": [
           {
            "colorbar": {
             "outlinewidth": 0,
             "ticks": ""
            },
            "colorscale": [
             [
              0,
              "#0d0887"
             ],
             [
              0.1111111111111111,
              "#46039f"
             ],
             [
              0.2222222222222222,
              "#7201a8"
             ],
             [
              0.3333333333333333,
              "#9c179e"
             ],
             [
              0.4444444444444444,
              "#bd3786"
             ],
             [
              0.5555555555555556,
              "#d8576b"
             ],
             [
              0.6666666666666666,
              "#ed7953"
             ],
             [
              0.7777777777777778,
              "#fb9f3a"
             ],
             [
              0.8888888888888888,
              "#fdca26"
             ],
             [
              1,
              "#f0f921"
             ]
            ],
            "type": "surface"
           }
          ],
          "table": [
           {
            "cells": {
             "fill": {
              "color": "#EBF0F8"
             },
             "line": {
              "color": "white"
             }
            },
            "header": {
             "fill": {
              "color": "#C8D4E3"
             },
             "line": {
              "color": "white"
             }
            },
            "type": "table"
           }
          ]
         },
         "layout": {
          "annotationdefaults": {
           "arrowcolor": "#2a3f5f",
           "arrowhead": 0,
           "arrowwidth": 1
          },
          "autotypenumbers": "strict",
          "coloraxis": {
           "colorbar": {
            "outlinewidth": 0,
            "ticks": ""
           }
          },
          "colorscale": {
           "diverging": [
            [
             0,
             "#8e0152"
            ],
            [
             0.1,
             "#c51b7d"
            ],
            [
             0.2,
             "#de77ae"
            ],
            [
             0.3,
             "#f1b6da"
            ],
            [
             0.4,
             "#fde0ef"
            ],
            [
             0.5,
             "#f7f7f7"
            ],
            [
             0.6,
             "#e6f5d0"
            ],
            [
             0.7,
             "#b8e186"
            ],
            [
             0.8,
             "#7fbc41"
            ],
            [
             0.9,
             "#4d9221"
            ],
            [
             1,
             "#276419"
            ]
           ],
           "sequential": [
            [
             0,
             "#0d0887"
            ],
            [
             0.1111111111111111,
             "#46039f"
            ],
            [
             0.2222222222222222,
             "#7201a8"
            ],
            [
             0.3333333333333333,
             "#9c179e"
            ],
            [
             0.4444444444444444,
             "#bd3786"
            ],
            [
             0.5555555555555556,
             "#d8576b"
            ],
            [
             0.6666666666666666,
             "#ed7953"
            ],
            [
             0.7777777777777778,
             "#fb9f3a"
            ],
            [
             0.8888888888888888,
             "#fdca26"
            ],
            [
             1,
             "#f0f921"
            ]
           ],
           "sequentialminus": [
            [
             0,
             "#0d0887"
            ],
            [
             0.1111111111111111,
             "#46039f"
            ],
            [
             0.2222222222222222,
             "#7201a8"
            ],
            [
             0.3333333333333333,
             "#9c179e"
            ],
            [
             0.4444444444444444,
             "#bd3786"
            ],
            [
             0.5555555555555556,
             "#d8576b"
            ],
            [
             0.6666666666666666,
             "#ed7953"
            ],
            [
             0.7777777777777778,
             "#fb9f3a"
            ],
            [
             0.8888888888888888,
             "#fdca26"
            ],
            [
             1,
             "#f0f921"
            ]
           ]
          },
          "colorway": [
           "#636efa",
           "#EF553B",
           "#00cc96",
           "#ab63fa",
           "#FFA15A",
           "#19d3f3",
           "#FF6692",
           "#B6E880",
           "#FF97FF",
           "#FECB52"
          ],
          "font": {
           "color": "#2a3f5f"
          },
          "geo": {
           "bgcolor": "white",
           "lakecolor": "white",
           "landcolor": "#E5ECF6",
           "showlakes": true,
           "showland": true,
           "subunitcolor": "white"
          },
          "hoverlabel": {
           "align": "left"
          },
          "hovermode": "closest",
          "mapbox": {
           "style": "light"
          },
          "paper_bgcolor": "white",
          "plot_bgcolor": "#E5ECF6",
          "polar": {
           "angularaxis": {
            "gridcolor": "white",
            "linecolor": "white",
            "ticks": ""
           },
           "bgcolor": "#E5ECF6",
           "radialaxis": {
            "gridcolor": "white",
            "linecolor": "white",
            "ticks": ""
           }
          },
          "scene": {
           "xaxis": {
            "backgroundcolor": "#E5ECF6",
            "gridcolor": "white",
            "gridwidth": 2,
            "linecolor": "white",
            "showbackground": true,
            "ticks": "",
            "zerolinecolor": "white"
           },
           "yaxis": {
            "backgroundcolor": "#E5ECF6",
            "gridcolor": "white",
            "gridwidth": 2,
            "linecolor": "white",
            "showbackground": true,
            "ticks": "",
            "zerolinecolor": "white"
           },
           "zaxis": {
            "backgroundcolor": "#E5ECF6",
            "gridcolor": "white",
            "gridwidth": 2,
            "linecolor": "white",
            "showbackground": true,
            "ticks": "",
            "zerolinecolor": "white"
           }
          },
          "shapedefaults": {
           "line": {
            "color": "#2a3f5f"
           }
          },
          "ternary": {
           "aaxis": {
            "gridcolor": "white",
            "linecolor": "white",
            "ticks": ""
           },
           "baxis": {
            "gridcolor": "white",
            "linecolor": "white",
            "ticks": ""
           },
           "bgcolor": "#E5ECF6",
           "caxis": {
            "gridcolor": "white",
            "linecolor": "white",
            "ticks": ""
           }
          },
          "title": {
           "x": 0.05
          },
          "xaxis": {
           "automargin": true,
           "gridcolor": "white",
           "linecolor": "white",
           "ticks": "",
           "title": {
            "standoff": 15
           },
           "zerolinecolor": "white",
           "zerolinewidth": 2
          },
          "yaxis": {
           "automargin": true,
           "gridcolor": "white",
           "linecolor": "white",
           "ticks": "",
           "title": {
            "standoff": 15
           },
           "zerolinecolor": "white",
           "zerolinewidth": 2
          }
         }
        },
        "title": {
         "text": "Stock Market Analysis with Time Period Selectors"
        },
        "width": 1100,
        "xaxis": {
         "anchor": "y",
         "autorange": true,
         "domain": [
          0,
          1
         ],
         "range": [
          "2023-01-30 12:00",
          "2024-07-15 12:00"
         ],
         "rangeselector": {
          "buttons": [
           {
            "count": 1,
            "label": "1m",
            "step": "month",
            "stepmode": "backward"
           },
           {
            "count": 6,
            "label": "6m",
            "step": "month",
            "stepmode": "backward"
           },
           {
            "count": 3,
            "label": "3m",
            "step": "month",
            "stepmode": "backward"
           },
           {
            "count": 1,
            "label": "1y",
            "step": "year",
            "stepmode": "backward"
           },
           {
            "step": "all"
           }
          ]
         },
         "title": {
          "text": "Date"
         },
         "type": "date"
        },
        "yaxis": {
         "anchor": "x",
         "autorange": true,
         "domain": [
          0,
          1
         ],
         "range": [
          139.28388214111328,
          239.4061050415039
         ],
         "title": {
          "text": "Price"
         },
         "type": "linear"
        },
        "yaxis2": {
         "autorange": true,
         "overlaying": "y",
         "range": [
          0,
          259.39094736842105
         ],
         "side": "right",
         "title": {
          "text": "Volume (Lakhs)"
         },
         "type": "linear"
        }
       }
      },
      "image/png": "[encoded data removed]",
      "text/html": [
       "<div>                            <div id=\"67638bb7-18a7-497a-b1e9-c068bfd7b118\" class=\"plotly-graph-div\" style=\"height:700px; width:1100px;\"></div>            <script type=\"text/javascript\">                require([\"plotly\"], function(Plotly) {                    window.PLOTLYENV=window.PLOTLYENV || {};                                    if (document.getElementById(\"67638bb7-18a7-497a-b1e9-c068bfd7b118\")) {                    Plotly.newPlot(                        \"67638bb7-18a7-497a-b1e9-c068bfd7b118\",                        [{\"hovertemplate\":\"Date=%{x}<br>Close=%{y}<extra></extra>\",\"legendgroup\":\"\",\"line\":{\"color\":\"blue\",\"dash\":\"solid\"},\"marker\":{\"symbol\":\"circle\"},\"mode\":\"lines\",\"name\":\"\",\"orientation\":\"v\",\"showlegend\":false,\"x\":[\"2023-01-31T00:00:00\",\"2023-02-01T00:00:00\",\"2023-02-02T00:00:00\",\"2023-02-03T00:00:00\",\"2023-02-06T00:00:00\",\"2023-02-07T00:00:00\",\"2023-02-08T00:00:00\",\"2023-02-09T00:00:00\",\"2023-02-10T00:00:00\",\"2023-02-13T00:00:00\",\"2023-02-14T00:00:00\",\"2023-02-15T00:00:00\",\"2023-02-16T00:00:00\",\"2023-02-17T00:00:00\",\"2023-02-21T00:00:00\",\"2023-02-22T00:00:00\",\"2023-02-23T00:00:00\",\"2023-02-24T00:00:00\",\"2023-02-27T00:00:00\",\"2023-02-28T00:00:00\",\"2023-03-01T00:00:00\",\"2023-03-02T00:00:00\",\"2023-03-03T00:00:00\",\"2023-03-06T00:00:00\",\"2023-03-07T00:00:00\",\"2023-03-08T00:00:00\",\"2023-03-09T00:00:00\",\"2023-03-10T00:00:00\",\"2023-03-13T00:00:00\",\"2023-03-14T00:00:00\",\"2023-03-15T00:00:00\",\"2023-03-16T00:00:00\",\"2023-03-17T00:00:00\",\"2023-03-20T00:00:00\",\"2023-03-21T00:00:00\",\"2023-03-22T00:00:00\",\"2023-03-23T00:00:00\",\"2023-03-24T00:00:00\",\"2023-03-27T00:00:00\",\"2023-03-28T00:00:00\",\"2023-03-29T00:00:00\",\"2023-03-30T00:00:00\",\"2023-03-31T00:00:00\",\"2023-04-03T00:00:00\",\"2023-04-04T00:00:00\",\"2023-04-05T00:00:00\",\"2023-04-06T00:00:00\",\"2023-04-10T00:00:00\",\"2023-04-11T00:00:00\",\"2023-04-12T00:00:00\",\"2023-04-13T00:00:00\",\"2023-04-14T00:00:00\",\"2023-04-17T00:00:00\",\"2023-04-18T00:00:00\",\"2023-04-19T00:00:00\",\"2023-04-20T00:00:00\",\"2023-04-21T00:00:00\",\"2023-04-24T00:00:00\",\"2023-04-25T00:00:00\",\"2023-04-26T00:00:00\",\"2023-04-27T00:00:00\",\"2023-04-28T00:00:00\",\"2023-05-01T00:00:00\",\"2023-05-02T00:00:00\",\"2023-05-03T00:00:00\",\"2023-05-04T00:00:00\",\"2023-05-05T00:00:00\",\"2023-05-08T00:00:00\",\"2023-05-09T00:00:00\",\"2023-05-10T00:00:00\",\"2023-05-11T00:00:00\",\"2023-05-12T00:00:00\",\"2023-05-15T00:00:00\",\"2023-05-16T00:00:00\",\"2023-05-17T00:00:00\",\"2023-05-18T00:00:00\",\"2023-05-19T00:00:00\",\"2023-05-22T00:00:00\",\"2023-05-23T00:00:00\",\"2023-05-24T00:00:00\",\"2023-05-25T00:00:00\",\"2023-05-26T00:00:00\",\"2023-05-30T00:00:00\",\"2023-05-31T00:00:00\",\"2023-06-01T00:00:00\",\"2023-06-02T00:00:00\",\"2023-06-05T00:00:00\",\"2023-06-06T00:00:00\",\"2023-06-07T00:00:00\",\"2023-06-08T00:00:00\",\"2023-06-09T00:00:00\",\"2023-06-12T00:00:00\",\"2023-06-13T00:00:00\",\"2023-06-14T00:00:00\",\"2023-06-15T00:00:00\",\"2023-06-16T00:00:00\",\"2023-06-20T00:00:00\",\"2023-06-21T00:00:00\",\"2023-06-22T00:00:00\",\"2023-06-23T00:00:00\",\"2023-06-26T00:00:00\",\"2023-06-27T00:00:00\",\"2023-06-28T00:00:00\",\"2023-06-29T00:00:00\",\"2023-06-30T00:00:00\",\"2023-07-03T00:00:00\",\"2023-07-05T00:00:00\",\"2023-07-06T00:00:00\",\"2023-07-07T00:00:00\",\"2023-07-10T00:00:00\",\"2023-07-11T00:00:00\",\"2023-07-12T00:00:00\",\"2023-07-13T00:00:00\",\"2023-07-14T00:00:00\",\"2023-07-17T00:00:00\",\"2023-07-18T00:00:00\",\"2023-07-19T00:00:00\",\"2023-07-20T00:00:00\",\"2023-07-21T00:00:00\",\"2023-07-24T00:00:00\",\"2023-07-25T00:00:00\",\"2023-07-26T00:00:00\",\"2023-07-27T00:00:00\",\"2023-07-28T00:00:00\",\"2023-07-31T00:00:00\",\"2023-08-01T00:00:00\",\"2023-08-02T00:00:00\",\"2023-08-03T00:00:00\",\"2023-08-04T00:00:00\",\"2023-08-07T00:00:00\",\"2023-08-08T00:00:00\",\"2023-08-09T00:00:00\",\"2023-08-10T00:00:00\",\"2023-08-11T00:00:00\",\"2023-08-14T00:00:00\",\"2023-08-15T00:00:00\",\"2023-08-16T00:00:00\",\"2023-08-17T00:00:00\",\"2023-08-18T00:00:00\",\"2023-08-21T00:00:00\",\"2023-08-22T00:00:00\",\"2023-08-23T00:00:00\",\"2023-08-24T00:00:00\",\"2023-08-25T00:00:00\",\"2023-08-28T00:00:00\",\"2023-08-29T00:00:00\",\"2023-08-30T00:00:00\",\"2023-08-31T00:00:00\",\"2023-09-01T00:00:00\",\"2023-09-05T00:00:00\",\"2023-09-06T00:00:00\",\"2023-09-07T00:00:00\",\"2023-09-08T00:00:00\",\"2023-09-11T00:00:00\",\"2023-09-12T00:00:00\",\"2023-09-13T00:00:00\",\"2023-09-14T00:00:00\",\"2023-09-15T00:00:00\",\"2023-09-18T00:00:00\",\"2023-09-19T00:00:00\",\"2023-09-20T00:00:00\",\"2023-09-21T00:00:00\",\"2023-09-22T00:00:00\",\"2023-09-25T00:00:00\",\"2023-09-26T00:00:00\",\"2023-09-27T00:00:00\",\"2023-09-28T00:00:00\",\"2023-09-29T00:00:00\",\"2023-10-02T00:00:00\",\"2023-10-03T00:00:00\",\"2023-10-04T00:00:00\",\"2023-10-05T00:00:00\",\"2023-10-06T00:00:00\",\"2023-10-09T00:00:00\",\"2023-10-10T00:00:00\",\"2023-10-11T00:00:00\",\"2023-10-12T00:00:00\",\"2023-10-13T00:00:00\",\"2023-10-16T00:00:00\",\"2023-10-17T00:00:00\",\"2023-10-18T00:00:00\",\"2023-10-19T00:00:00\",\"2023-10-20T00:00:00\",\"2023-10-23T00:00:00\",\"2023-10-24T00:00:00\",\"2023-10-25T00:00:00\",\"2023-10-26T00:00:00\",\"2023-10-27T00:00:00\",\"2023-10-30T00:00:00\",\"2023-10-31T00:00:00\",\"2023-11-01T00:00:00\",\"2023-11-02T00:00:00\",\"2023-11-03T00:00:00\",\"2023-11-06T00:00:00\",\"2023-11-07T00:00:00\",\"2023-11-08T00:00:00\",\"2023-11-09T00:00:00\",\"2023-11-10T00:00:00\",\"2023-11-13T00:00:00\",\"2023-11-14T00:00:00\",\"2023-11-15T00:00:00\",\"2023-11-16T00:00:00\",\"2023-11-17T00:00:00\",\"2023-11-20T00:00:00\",\"2023-11-21T00:00:00\",\"2023-11-22T00:00:00\",\"2023-11-24T00:00:00\",\"2023-11-27T00:00:00\",\"2023-11-28T00:00:00\",\"2023-11-29T00:00:00\",\"2023-11-30T00:00:00\",\"2023-12-01T00:00:00\",\"2023-12-04T00:00:00\",\"2023-12-05T00:00:00\",\"2023-12-06T00:00:00\",\"2023-12-07T00:00:00\",\"2023-12-08T00:00:00\",\"2023-12-11T00:00:00\",\"2023-12-12T00:00:00\",\"2023-12-13T00:00:00\",\"2023-12-14T00:00:00\",\"2023-12-15T00:00:00\",\"2023-12-18T00:00:00\",\"2023-12-19T00:00:00\",\"2023-12-20T00:00:00\",\"2023-12-21T00:00:00\",\"2023-12-22T00:00:00\",\"2023-12-26T00:00:00\",\"2023-12-27T00:00:00\",\"2023-12-28T00:00:00\",\"2023-12-29T00:00:00\",\"2024-01-02T00:00:00\",\"2024-01-03T00:00:00\",\"2024-01-04T00:00:00\",\"2024-01-05T00:00:00\",\"2024-01-08T00:00:00\",\"2024-01-09T00:00:00\",\"2024-01-10T00:00:00\",\"2024-01-11T00:00:00\",\"2024-01-12T00:00:00\",\"2024-01-16T00:00:00\",\"2024-01-17T00:00:00\",\"2024-01-18T00:00:00\",\"2024-01-19T00:00:00\",\"2024-01-22T00:00:00\",\"2024-01-23T00:00:00\",\"2024-01-24T00:00:00\",\"2024-01-25T00:00:00\",\"2024-01-26T00:00:00\",\"2024-01-29T00:00:00\",\"2024-01-30T00:00:00\",\"2024-01-31T00:00:00\",\"2024-02-01T00:00:00\",\"2024-02-02T00:00:00\",\"2024-02-05T00:00:00\",\"2024-02-06T00:00:00\",\"2024-02-07T00:00:00\",\"2024-02-08T00:00:00\",\"2024-02-09T00:00:00\",\"2024-02-12T00:00:00\",\"2024-02-13T00:00:00\",\"2024-02-14T00:00:00\",\"2024-02-15T00:00:00\",\"2024-02-16T00:00:00\",\"2024-02-20T00:00:00\",\"2024-02-21T00:00:00\",\"2024-02-22T00:00:00\",\"2024-02-23T00:00:00\",\"2024-02-26T00:00:00\",\"2024-02-27T00:00:00\",\"2024-02-28T00:00:00\",\"2024-02-29T00:00:00\",\"2024-03-01T00:00:00\",\"2024-03-04T00:00:00\",\"2024-03-05T00:00:00\",\"2024-03-06T00:00:00\",\"2024-03-07T00:00:00\",\"2024-03-08T00:00:00\",\"2024-03-11T00:00:00\",\"2024-03-12T00:00:00\",\"2024-03-13T00:00:00\",\"2024-03-14T00:00:00\",\"2024-03-15T00:00:00\",\"2024-03-18T00:00:00\",\"2024-03-19T00:00:00\",\"2024-03-20T00:00:00\",\"2024-03-21T00:00:00\",\"2024-03-22T00:00:00\",\"2024-03-25T00:00:00\",\"2024-03-26T00:00:00\",\"2024-03-27T00:00:00\",\"2024-03-28T00:00:00\",\"2024-04-01T00:00:00\",\"2024-04-02T00:00:00\",\"2024-04-03T00:00:00\",\"2024-04-04T00:00:00\",\"2024-04-05T00:00:00\",\"2024-04-08T00:00:00\",\"2024-04-09T00:00:00\",\"2024-04-10T00:00:00\",\"2024-04-11T00:00:00\",\"2024-04-12T00:00:00\",\"2024-04-15T00:00:00\",\"2024-04-16T00:00:00\",\"2024-04-17T00:00:00\",\"2024-04-18T00:00:00\",\"2024-04-19T00:00:00\",\"2024-04-22T00:00:00\",\"2024-04-23T00:00:00\",\"2024-04-24T00:00:00\",\"2024-04-25T00:00:00\",\"2024-04-26T00:00:00\",\"2024-04-29T00:00:00\",\"2024-04-30T00:00:00\",\"2024-05-01T00:00:00\",\"2024-05-02T00:00:00\",\"2024-05-03T00:00:00\",\"2024-05-06T00:00:00\",\"2024-05-07T00:00:00\",\"2024-05-08T00:00:00\",\"2024-05-09T00:00:00\",\"2024-05-10T00:00:00\",\"2024-05-13T00:00:00\",\"2024-05-14T00:00:00\",\"2024-05-15T00:00:00\",\"2024-05-16T00:00:00\",\"2024-05-17T00:00:00\",\"2024-05-20T00:00:00\",\"2024-05-21T00:00:00\",\"2024-05-22T00:00:00\",\"2024-05-23T00:00:00\",\"2024-05-24T00:00:00\",\"2024-05-28T00:00:00\",\"2024-05-29T00:00:00\",\"2024-05-30T00:00:00\",\"2024-05-31T00:00:00\",\"2024-06-03T00:00:00\",\"2024-06-04T00:00:00\",\"2024-06-05T00:00:00\",\"2024-06-06T00:00:00\",\"2024-06-07T00:00:00\",\"2024-06-10T00:00:00\",\"2024-06-11T00:00:00\",\"2024-06-12T00:00:00\",\"2024-06-13T00:00:00\",\"2024-06-14T00:00:00\",\"2024-06-17T00:00:00\",\"2024-06-18T00:00:00\",\"2024-06-20T00:00:00\",\"2024-06-21T00:00:00\",\"2024-06-24T00:00:00\",\"2024-06-25T00:00:00\",\"2024-06-26T00:00:00\",\"2024-06-27T00:00:00\",\"2024-06-28T00:00:00\",\"2024-07-01T00:00:00\",\"2024-07-02T00:00:00\",\"2024-07-03T00:00:00\",\"2024-07-05T00:00:00\",\"2024-07-08T00:00:00\",\"2024-07-09T00:00:00\",\"2024-07-10T00:00:00\",\"2024-07-11T00:00:00\",\"2024-07-12T00:00:00\",\"2024-07-15T00:00:00\"],\"xaxis\":\"x\",\"y\":[144.2899932861328,145.42999267578125,150.82000732421875,154.5,151.72999572753906,154.64999389648438,151.9199981689453,150.8699951171875,151.00999450683594,153.85000610351562,153.1999969482422,155.3300018310547,153.7100067138672,152.5500030517578,148.47999572753906,148.91000366210938,149.39999389648438,146.7100067138672,147.9199981689453,147.41000366210938,145.30999755859375,145.91000366210938,151.02999877929688,153.8300018310547,151.60000610351562,152.8699951171875,150.58999633789062,148.5,150.47000122070312,152.58999633789062,152.99000549316406,155.85000610351562,155.0,157.39999389648438,159.27999877929688,157.8300018310547,158.92999267578125,160.25,158.27999877929688,157.64999389648438,160.77000427246094,162.36000061035156,164.89999389648438,166.1699981689453,165.6300048828125,163.75999450683594,164.66000366210938,162.02999877929688,160.8000030517578,160.10000610351562,165.55999755859375,165.2100067138672,165.22999572753906,166.47000122070312,167.6300048828125,166.64999389648438,165.02000427246094,165.3300018310547,163.77000427246094,163.75999450683594,168.41000366210938,169.67999267578125,169.58999633789062,168.5399932861328,167.4499969482422,165.7899932861328,173.57000732421875,173.5,171.77000427246094,173.55999755859375,173.75,172.57000732421875,172.07000732421875,172.07000732421875,172.69000244140625,175.0500030517578,175.16000366210938,174.1999969482422,171.55999755859375,171.83999633789062,172.99000549316406,175.42999267578125,177.3000030517578,177.25,180.08999633789062,180.9499969482422,179.5800018310547,179.2100067138672,177.82000732421875,180.57000732421875,180.9600067138672,183.7899932861328,183.30999755859375,183.9499969482422,186.00999450683594,184.9199981689453,185.00999450683594,183.9600067138672,187.0,186.67999267578125,185.27000427246094,188.05999755859375,189.25,189.58999633789062,193.97000122070312,192.4600067138672,191.3300018310547,191.80999755859375,190.67999267578125,188.61000061035156,188.0800018310547,189.77000427246094,190.5399932861328,190.69000244140625,193.99000549316406,193.72999572753906,195.10000610351562,193.1300048828125,191.94000244140625,192.75,193.6199951171875,194.5,193.22000122070312,195.8300018310547,196.4499969482422,195.61000061035156,192.5800018310547,191.1699981689453,181.99000549316406,178.85000610351562,179.8000030517578,178.19000244140625,177.97000122070312,177.7899932861328,179.4600067138672,177.4499969482422,176.57000732421875,174.0,174.49000549316406,175.83999633789062,177.22999572753906,181.1199951171875,176.3800048828125,178.61000061035156,180.19000244140625,184.1199951171875,187.64999389648438,187.8699951171875,189.4600067138672,189.6999969482422,182.91000366210938,177.55999755859375,178.17999267578125,179.36000061035156,176.3000030517578,174.2100067138672,175.74000549316406,175.00999450683594,177.97000122070312,179.07000732421875,175.49000549316406,173.92999267578125,174.7899932861328,176.0800018310547,171.9600067138672,170.42999267578125,170.69000244140625,171.2100067138672,173.75,172.39999389648438,173.66000366210938,174.91000366210938,177.49000549316406,178.99000549316406,178.38999938964844,179.8000030517578,180.7100067138672,178.85000610351562,178.72000122070312,177.14999389648438,175.83999633789062,175.4600067138672,172.8800048828125,173.0,173.44000244140625,171.10000610351562,166.88999938964844,168.22000122070312,170.2899932861328,170.77000427246094,173.97000122070312,177.57000732421875,176.64999389648438,179.22999572753906,181.82000732421875,182.88999938964844,182.41000366210938,186.39999389648438,184.8000030517578,187.44000244140625,188.00999450683594,189.7100067138672,189.69000244140625,191.4499969482422,190.63999938964844,191.30999755859375,189.97000122070312,189.7899932861328,190.39999389648438,189.3699951171875,189.9499969482422,191.24000549316406,189.42999267578125,193.4199981689453,192.32000732421875,194.27000427246094,195.7100067138672,193.17999267578125,194.7100067138672,197.9600067138672,198.11000061035156,197.57000732421875,195.88999938964844,196.94000244140625,194.8300018310547,194.67999267578125,193.60000610351562,193.0500030517578,193.14999389648438,193.5800018310547,192.52999877929688,185.63999938964844,184.25,181.91000366210938,181.17999267578125,185.55999755859375,185.13999938964844,186.19000244140625,185.58999633789062,185.9199981689453,183.6300048828125,182.67999267578125,188.6300048828125,191.55999755859375,193.88999938964844,195.17999267578125,194.5,194.1699981689453,192.4199981689453,191.72999572753906,188.0399932861328,184.39999389648438,186.86000061035156,185.85000610351562,187.67999267578125,189.3000030517578,189.41000366210938,188.32000732421875,188.85000610351562,187.14999389648438,185.0399932861328,184.14999389648438,183.86000061035156,182.30999755859375,181.55999755859375,182.32000732421875,184.3699951171875,182.52000427246094,181.16000366210938,182.6300048828125,181.4199981689453,180.75,179.66000366210938,175.10000610351562,170.1199951171875,169.1199951171875,169.0,170.72999572753906,172.75,173.22999572753906,171.1300048828125,173.0,172.6199951171875,173.72000122070312,176.0800018310547,178.6699981689453,171.3699951171875,172.27999877929688,170.85000610351562,169.7100067138672,173.30999755859375,171.47999572753906,170.02999877929688,168.83999633789062,169.64999389648438,168.82000732421875,169.5800018310547,168.4499969482422,169.6699981689453,167.77999877929688,175.0399932861328,176.5500030517578,172.69000244140625,169.3800048828125,168.0,167.0399932861328,165.0,165.83999633789062,166.89999389648438,169.02000427246094,169.88999938964844,169.3000030517578,173.5,170.3300018310547,169.3000030517578,173.02999877929688,183.3800048828125,181.7100067138672,182.39999389648438,182.74000549316406,184.57000732421875,183.0500030517578,186.27999877929688,187.42999267578125,189.72000122070312,189.83999633789062,189.8699951171875,191.0399932861328,192.35000610351562,190.89999389648438,186.8800048828125,189.97999572753906,189.99000549316406,190.2899932861328,191.2899932861328,192.25,194.02999877929688,194.35000610351562,195.8699951171875,194.47999572753906,196.88999938964844,193.1199951171875,207.14999389648438,213.07000732421875,214.24000549316406,212.49000549316406,216.6699981689453,214.2899932861328,209.67999267578125,207.49000549316406,208.13999938964844,209.07000732421875,213.25,214.10000610351562,210.6199951171875,216.75,220.27000427246094,221.5500030517578,226.33999633789062,227.82000732421875,228.67999267578125,232.97999572753906,227.57000732421875,230.5399932861328,234.39999389648438],\"yaxis\":\"y\",\"type\":\"scatter\"},{\"marker\":{\"color\":\"red\"},\"name\":\"Trading Volume in Lakhs\",\"x\":[\"2023-01-31T00:00:00\",\"2023-02-01T00:00:00\",\"2023-02-02T00:00:00\",\"2023-02-03T00:00:00\",\"2023-02-06T00:00:00\",\"2023-02-07T00:00:00\",\"2023-02-08T00:00:00\",\"2023-02-09T00:00:00\",\"2023-02-10T00:00:00\",\"2023-02-13T00:00:00\",\"2023-02-14T00:00:00\",\"2023-02-15T00:00:00\",\"2023-02-16T00:00:00\",\"2023-02-17T00:00:00\",\"2023-02-21T00:00:00\",\"2023-02-22T00:00:00\",\"2023-02-23T00:00:00\",\"2023-02-24T00:00:00\",\"2023-02-27T00:00:00\",\"2023-02-28T00:00:00\",\"2023-03-01T00:00:00\",\"2023-03-02T00:00:00\",\"2023-03-03T00:00:00\",\"2023-03-06T00:00:00\",\"2023-03-07T00:00:00\",\"2023-03-08T00:00:00\",\"2023-03-09T00:00:00\",\"2023-03-10T00:00:00\",\"2023-03-13T00:00:00\",\"2023-03-14T00:00:00\",\"2023-03-15T00:00:00\",\"2023-03-16T00:00:00\",\"2023-03-17T00:00:00\",\"2023-03-20T00:00:00\",\"2023-03-21T00:00:00\",\"2023-03-22T00:00:00\",\"2023-03-23T00:00:00\",\"2023-03-24T00:00:00\",\"2023-03-27T00:00:00\",\"2023-03-28T00:00:00\",\"2023-03-29T00:00:00\",\"2023-03-30T00:00:00\",\"2023-03-31T00:00:00\",\"2023-04-03T00:00:00\",\"2023-04-04T00:00:00\",\"2023-04-05T00:00:00\",\"2023-04-06T00:00:00\",\"2023-04-10T00:00:00\",\"2023-04-11T00:00:00\",\"2023-04-12T00:00:00\",\"2023-04-13T00:00:00\",\"2023-04-14T00:00:00\",\"2023-04-17T00:00:00\",\"2023-04-18T00:00:00\",\"2023-04-19T00:00:00\",\"2023-04-20T00:00:00\",\"2023-04-21T00:00:00\",\"2023-04-24T00:00:00\",\"2023-04-25T00:00:00\",\"2023-04-26T00:00:00\",\"2023-04-27T00:00:00\",\"2023-04-28T00:00:00\",\"2023-05-01T00:00:00\",\"2023-05-02T00:00:00\",\"2023-05-03T00:00:00\",\"2023-05-04T00:00:00\",\"2023-05-05T00:00:00\",\"2023-05-08T00:00:00\",\"2023-05-09T00:00:00\",\"2023-05-10T00:00:00\",\"2023-05-11T00:00:00\",\"2023-05-12T00:00:00\",\"2023-05-15T00:00:00\",\"2023-05-16T00:00:00\",\"2023-05-17T00:00:00\",\"2023-05-18T00:00:00\",\"2023-05-19T00:00:00\",\"2023-05-22T00:00:00\",\"2023-05-23T00:00:00\",\"2023-05-24T00:00:00\",\"2023-05-25T00:00:00\",\"2023-05-26T00:00:00\",\"2023-05-30T00:00:00\",\"2023-05-31T00:00:00\",\"2023-06-01T00:00:00\",\"2023-06-02T00:00:00\",\"2023-06-05T00:00:00\",\"2023-06-06T00:00:00\",\"2023-06-07T00:00:00\",\"2023-06-08T00:00:00\",\"2023-06-09T00:00:00\",\"2023-06-12T00:00:00\",\"2023-06-13T00:00:00\",\"2023-06-14T00:00:00\",\"2023-06-15T00:00:00\",\"2023-06-16T00:00:00\",\"2023-06-20T00:00:00\",\"2023-06-21T00:00:00\",\"2023-06-22T00:00:00\",\"2023-06-23T00:00:00\",\"2023-06-26T00:00:00\",\"2023-06-27T00:00:00\",\"2023-06-28T00:00:00\",\"2023-06-29T00:00:00\",\"2023-06-30T00:00:00\",\"2023-07-03T00:00:00\",\"2023-07-05T00:00:00\",\"2023-07-06T00:00:00\",\"2023-07-07T00:00:00\",\"2023-07-10T00:00:00\",\"2023-07-11T00:00:00\",\"2023-07-12T00:00:00\",\"2023-07-13T00:00:00\",\"2023-07-14T00:00:00\",\"2023-07-17T00:00:00\",\"2023-07-18T00:00:00\",\"2023-07-19T00:00:00\",\"2023-07-20T00:00:00\",\"2023-07-21T00:00:00\",\"2023-07-24T00:00:00\",\"2023-07-25T00:00:00\",\"2023-07-26T00:00:00\",\"2023-07-27T00:00:00\",\"2023-07-28T00:00:00\",\"2023-07-31T00:00:00\",\"2023-08-01T00:00:00\",\"2023-08-02T00:00:00\",\"2023-08-03T00:00:00\",\"2023-08-04T00:00:00\",\"2023-08-07T00:00:00\",\"2023-08-08T00:00:00\",\"2023-08-09T00:00:00\",\"2023-08-10T00:00:00\",\"2023-08-11T00:00:00\",\"2023-08-14T00:00:00\",\"2023-08-15T00:00:00\",\"2023-08-16T00:00:00\",\"2023-08-17T00:00:00\",\"2023-08-18T00:00:00\",\"2023-08-21T00:00:00\",\"2023-08-22T00:00:00\",\"2023-08-23T00:00:00\",\"2023-08-24T00:00:00\",\"2023-08-25T00:00:00\",\"2023-08-28T00:00:00\",\"2023-08-29T00:00:00\",\"2023-08-30T00:00:00\",\"2023-08-31T00:00:00\",\"2023-09-01T00:00:00\",\"2023-09-05T00:00:00\",\"2023-09-06T00:00:00\",\"2023-09-07T00:00:00\",\"2023-09-08T00:00:00\",\"2023-09-11T00:00:00\",\"2023-09-12T00:00:00\",\"2023-09-13T00:00:00\",\"2023-09-14T00:00:00\",\"2023-09-15T00:00:00\",\"2023-09-18T00:00:00\",\"2023-09-19T00:00:00\",\"2023-09-20T00:00:00\",\"2023-09-21T00:00:00\",\"2023-09-22T00:00:00\",\"2023-09-25T00:00:00\",\"2023-09-26T00:00:00\",\"2023-09-27T00:00:00\",\"2023-09-28T00:00:00\",\"2023-09-29T00:00:00\",\"2023-10-02T00:00:00\",\"2023-10-03T00:00:00\",\"2023-10-04T00:00:00\",\"2023-10-05T00:00:00\",\"2023-10-06T00:00:00\",\"2023-10-09T00:00:00\",\"2023-10-10T00:00:00\",\"2023-10-11T00:00:00\",\"2023-10-12T00:00:00\",\"2023-10-13T00:00:00\",\"2023-10-16T00:00:00\",\"2023-10-17T00:00:00\",\"2023-10-18T00:00:00\",\"2023-10-19T00:00:00\",\"2023-10-20T00:00:00\",\"2023-10-23T00:00:00\",\"2023-10-24T00:00:00\",\"2023-10-25T00:00:00\",\"2023-10-26T00:00:00\",\"2023-10-27T00:00:00\",\"2023-10-30T00:00:00\",\"2023-10-31T00:00:00\",\"2023-11-01T00:00:00\",\"2023-11-02T00:00:00\",\"2023-11-03T00:00:00\",\"2023-11-06T00:00:00\",\"2023-11-07T00:00:00\",\"2023-11-08T00:00:00\",\"2023-11-09T00:00:00\",\"2023-11-10T00:00:00\",\"2023-11-13T00:00:00\",\"2023-11-14T00:00:00\",\"2023-11-15T00:00:00\",\"2023-11-16T00:00:00\",\"2023-11-17T00:00:00\",\"2023-11-20T00:00:00\",\"2023-11-21T00:00:00\",\"2023-11-22T00:00:00\",\"2023-11-24T00:00:00\",\"2023-11-27T00:00:00\",\"2023-11-28T00:00:00\",\"2023-11-29T00:00:00\",\"2023-11-30T00:00:00\",\"2023-12-01T00:00:00\",\"2023-12-04T00:00:00\",\"2023-12-05T00:00:00\",\"2023-12-06T00:00:00\",\"2023-12-07T00:00:00\",\"2023-12-08T00:00:00\",\"2023-12-11T00:00:00\",\"2023-12-12T00:00:00\",\"2023-12-13T00:00:00\",\"2023-12-14T00:00:00\",\"2023-12-15T00:00:00\",\"2023-12-18T00:00:00\",\"2023-12-19T00:00:00\",\"2023-12-20T00:00:00\",\"2023-12-21T00:00:00\",\"2023-12-22T00:00:00\",\"2023-12-26T00:00:00\",\"2023-12-27T00:00:00\",\"2023-12-28T00:00:00\",\"2023-12-29T00:00:00\",\"2024-01-02T00:00:00\",\"2024-01-03T00:00:00\",\"2024-01-04T00:00:00\",\"2024-01-05T00:00:00\",\"2024-01-08T00:00:00\",\"2024-01-09T00:00:00\",\"2024-01-10T00:00:00\",\"2024-01-11T00:00:00\",\"2024-01-12T00:00:00\",\"2024-01-16T00:00:00\",\"2024-01-17T00:00:00\",\"2024-01-18T00:00:00\",\"2024-01-19T00:00:00\",\"2024-01-22T00:00:00\",\"2024-01-23T00:00:00\",\"2024-01-24T00:00:00\",\"2024-01-25T00:00:00\",\"2024-01-26T00:00:00\",\"2024-01-29T00:00:00\",\"2024-01-30T00:00:00\",\"2024-01-31T00:00:00\",\"2024-02-01T00:00:00\",\"2024-02-02T00:00:00\",\"2024-02-05T00:00:00\",\"2024-02-06T00:00:00\",\"2024-02-07T00:00:00\",\"2024-02-08T00:00:00\",\"2024-02-09T00:00:00\",\"2024-02-12T00:00:00\",\"2024-02-13T00:00:00\",\"2024-02-14T00:00:00\",\"2024-02-15T00:00:00\",\"2024-02-16T00:00:00\",\"2024-02-20T00:00:00\",\"2024-02-21T00:00:00\",\"2024-02-22T00:00:00\",\"2024-02-23T00:00:00\",\"2024-02-26T00:00:00\",\"2024-02-27T00:00:00\",\"2024-02-28T00:00:00\",\"2024-02-29T00:00:00\",\"2024-03-01T00:00:00\",\"2024-03-04T00:00:00\",\"2024-03-05T00:00:00\",\"2024-03-06T00:00:00\",\"2024-03-07T00:00:00\",\"2024-03-08T00:00:00\",\"2024-03-11T00:00:00\",\"2024-03-12T00:00:00\",\"2024-03-13T00:00:00\",\"2024-03-14T00:00:00\",\"2024-03-15T00:00:00\",\"2024-03-18T00:00:00\",\"2024-03-19T00:00:00\",\"2024-03-20T00:00:00\",\"2024-03-21T00:00:00\",\"2024-03-22T00:00:00\",\"2024-03-25T00:00:00\",\"2024-03-26T00:00:00\",\"2024-03-27T00:00:00\",\"2024-03-28T00:00:00\",\"2024-04-01T00:00:00\",\"2024-04-02T00:00:00\",\"2024-04-03T00:00:00\",\"2024-04-04T00:00:00\",\"2024-04-05T00:00:00\",\"2024-04-08T00:00:00\",\"2024-04-09T00:00:00\",\"2024-04-10T00:00:00\",\"2024-04-11T00:00:00\",\"2024-04-12T00:00:00\",\"2024-04-15T00:00:00\",\"2024-04-16T00:00:00\",\"2024-04-17T00:00:00\",\"2024-04-18T00:00:00\",\"2024-04-19T00:00:00\",\"2024-04-22T00:00:00\",\"2024-04-23T00:00:00\",\"2024-04-24T00:00:00\",\"2024-04-25T00:00:00\",\"2024-04-26T00:00:00\",\"2024-04-29T00:00:00\",\"2024-04-30T00:00:00\",\"2024-05-01T00:00:00\",\"2024-05-02T00:00:00\",\"2024-05-03T00:00:00\",\"2024-05-06T00:00:00\",\"2024-05-07T00:00:00\",\"2024-05-08T00:00:00\",\"2024-05-09T00:00:00\",\"2024-05-10T00:00:00\",\"2024-05-13T00:00:00\",\"2024-05-14T00:00:00\",\"2024-05-15T00:00:00\",\"2024-05-16T00:00:00\",\"2024-05-17T00:00:00\",\"2024-05-20T00:00:00\",\"2024-05-21T00:00:00\",\"2024-05-22T00:00:00\",\"2024-05-23T00:00:00\",\"2024-05-24T00:00:00\",\"2024-05-28T00:00:00\",\"2024-05-29T00:00:00\",\"2024-05-30T00:00:00\",\"2024-05-31T00:00:00\",\"2024-06-03T00:00:00\",\"2024-06-04T00:00:00\",\"2024-06-05T00:00:00\",\"2024-06-06T00:00:00\",\"2024-06-07T00:00:00\",\"2024-06-10T00:00:00\",\"2024-06-11T00:00:00\",\"2024-06-12T00:00:00\",\"2024-06-13T00:00:00\",\"2024-06-14T00:00:00\",\"2024-06-17T00:00:00\",\"2024-06-18T00:00:00\",\"2024-06-20T00:00:00\",\"2024-06-21T00:00:00\",\"2024-06-24T00:00:00\",\"2024-06-25T00:00:00\",\"2024-06-26T00:00:00\",\"2024-06-27T00:00:00\",\"2024-06-28T00:00:00\",\"2024-07-01T00:00:00\",\"2024-07-02T00:00:00\",\"2024-07-03T00:00:00\",\"2024-07-05T00:00:00\",\"2024-07-08T00:00:00\",\"2024-07-09T00:00:00\",\"2024-07-10T00:00:00\",\"2024-07-11T00:00:00\",\"2024-07-12T00:00:00\",\"2024-07-15T00:00:00\"],\"y\":[65.8745,77.6636,118.339,154.3573,69.8583,83.3226,64.1201,56.0071,57.4507,62.199,61.7076,65.5738,68.1679,59.1441,58.8672,51.0113,48.3942,55.4696,44.9985,50.547,55.479,52.2381,70.7323,87.558,56.182,47.2048,53.8336,68.5724,84.4571,73.6959,77.1679,76.1611,98.9446,73.6414,73.9383,75.7018,67.6221,59.1965,52.3903,45.9922,51.3057,49.5017,68.7498,56.9762,46.2783,51.5117,45.3901,47.7169,47.6442,50.1331,68.4456,49.3865,41.5162,49.923,47.7202,52.4564,58.3373,41.9496,48.7141,45.4988,64.9023,55.2092,52.4729,48.4257,65.136,81.2354,113.3164,55.9628,45.3269,53.7245,49.5147,45.4978,37.2667,42.1103,57.9516,65.4967,55.7724,43.5709,50.7473,45.1435,56.0583,54.835,55.9644,99.6253,68.9018,61.9459,121.9465,64.8484,61.9446,50.2149,48.8707,54.2749,54.9291,57.4629,65.4332,101.2356,49.7991,49.5157,51.2453,53.0793,48.0887,50.7308,51.2168,46.3473,85.0696,31.4582,46.9203,45.0943,46.778,59.9222,46.6381,60.7502,41.3423,41.5739,50.5202,48.3538,80.5073,59.5812,71.9178,45.3778,37.2832,47.4719,47.4602,48.2914,38.8241,35.1751,50.3893,61.2352,115.7997,97.5761,67.823,60.3785,54.6869,51.9881,43.6756,43.6226,46.9649,66.0629,61.1142,46.3119,42.0842,52.7228,54.9458,51.4496,43.8207,53.0039,60.8139,60.7945,45.7326,45.28,81.7558,112.4888,65.5513,58.9531,90.3702,84.2679,60.8958,109.2051,67.2576,51.8269,58.4362,63.0479,56.7254,46.1727,64.5889,66.9218,56.2944,51.8142,52.1645,49.5946,53.0203,48.5279,57.2241,42.3908,43.698,47.5511,56.7431,51.4271,52.517,57.5494,54.7644,59.3029,64.1893,55.9801,43.8166,57.157,70.6253,58.4991,51.131,44.846,56.9349,77.3348,79.7637,63.8413,70.53,49.3403,53.7635,66.1334,43.6275,60.1084,53.7905,54.4129,50.9227,46.5051,38.1345,39.6177,24.0483,40.5526,38.4154,43.0142,48.7944,45.6793,43.3895,66.6284,41.0897,47.4777,53.3773,60.9437,52.6969,70.4042,66.8316,128.2567,55.7519,40.7141,52.2428,46.4825,37.1228,28.9193,48.0877,34.0499,42.6288,82.4887,58.4145,71.9836,62.3033,59.1445,42.8418,46.7929,49.1284,40.4447,65.603,47.3174,78.0058,68.741,60.1339,42.3556,53.6313,54.8221,44.594,47.1456,55.8594,55.4678,64.8854,102.518,69.6688,43.4908,53.439,40.962,45.1552,41.7819,56.5295,54.6305,65.4345,49.7014,53.6656,41.5297,52.2922,45.1197,40.8674,54.3189,48.9539,136.6826,73.488,81.5101,95.1324,68.5877,71.7651,76.1146,60.1395,59.8254,52.4887,72.9135,121.6647,75.6042,55.2152,53.4231,106.1813,71.1066,54.2883,57.3884,60.2733,65.6727,46.2405,49.3295,47.6917,53.7044,42.0552,37.4255,42.4512,49.7093,91.0703,101.5933,73.5318,73.7112,50.9012,43.1229,67.7721,48.1164,49.5378,48.2518,50.5583,44.8384,68.1694,65.9348,50.3831,94.2149,163.2241,78.5697,77.3058,45.0571,48.983,50.7595,72.0448,52.3936,70.4,52.8452,41.2829,44.3613,42.3094,34.6485,51.0059,36.2946,52.2801,53.068,49.9479,75.1583,50.0805,47.4714,54.1568,41.1818,53.1039,97.2621,172.3733,198.1343,97.8627,70.1227,93.7283,79.9433,86.1725,246.4214,80.727,56.7139,66.2132,49.7727,82.5427,60.4029,58.0462,37.3698,60.4124,59.0859,48.0761,62.6277,64.7106,53.0082,62.5497],\"yaxis\":\"y2\",\"type\":\"bar\"}],                        {\"template\":{\"data\":{\"histogram2dcontour\":[{\"type\":\"histogram2dcontour\",\"colorbar\":{\"outlinewidth\":0,\"ticks\":\"\"},\"colorscale\":[[0.0,\"#0d0887\"],[0.1111111111111111,\"#46039f\"],[0.2222222222222222,\"#7201a8\"],[0.3333333333333333,\"#9c179e\"],[0.4444444444444444,\"#bd3786\"],[0.5555555555555556,\"#d8576b\"],[0.6666666666666666,\"#ed7953\"],[0.7777777777777778,\"#fb9f3a\"],[0.8888888888888888,\"#fdca26\"],[1.0,\"#f0f921\"]]}],\"choropleth\":[{\"type\":\"choropleth\",\"colorbar\":{\"outlinewidth\":0,\"ticks\":\"\"}}],\"histogram2d\":[{\"type\":\"histogram2d\",\"colorbar\":{\"outlinewidth\":0,\"ticks\":\"\"},\"colorscale\":[[0.0,\"#0d0887\"],[0.1111111111111111,\"#46039f\"],[0.2222222222222222,\"#7201a8\"],[0.3333333333333333,\"#9c179e\"],[0.4444444444444444,\"#bd3786\"],[0.5555555555555556,\"#d8576b\"],[0.6666666666666666,\"#ed7953\"],[0.7777777777777778,\"#fb9f3a\"],[0.8888888888888888,\"#fdca26\"],[1.0,\"#f0f921\"]]}],\"heatmap\":[{\"type\":\"heatmap\",\"colorbar\":{\"outlinewidth\":0,\"ticks\":\"\"},\"colorscale\":[[0.0,\"#0d0887\"],[0.1111111111111111,\"#46039f\"],[0.2222222222222222,\"#7201a8\"],[0.3333333333333333,\"#9c179e\"],[0.4444444444444444,\"#bd3786\"],[0.5555555555555556,\"#d8576b\"],[0.6666666666666666,\"#ed7953\"],[0.7777777777777778,\"#fb9f3a\"],[0.8888888888888888,\"#fdca26\"],[1.0,\"#f0f921\"]]}],\"heatmapgl\":[{\"type\":\"heatmapgl\",\"colorbar\":{\"outlinewidth\":0,\"ticks\":\"\"},\"colorscale\":[[0.0,\"#0d0887\"],[0.1111111111111111,\"#46039f\"],[0.2222222222222222,\"#7201a8\"],[0.3333333333333333,\"#9c179e\"],[0.4444444444444444,\"#bd3786\"],[0.5555555555555556,\"#d8576b\"],[0.6666666666666666,\"#ed7953\"],[0.7777777777777778,\"#fb9f3a\"],[0.8888888888888888,\"#fdca26\"],[1.0,\"#f0f921\"]]}],\"contourcarpet\":[{\"type\":\"contourcarpet\",\"colorbar\":{\"outlinewidth\":0,\"ticks\":\"\"}}],\"contour\":[{\"type\":\"contour\",\"colorbar\":{\"outlinewidth\":0,\"ticks\":\"\"},\"colorscale\":[[0.0,\"#0d0887\"],[0.1111111111111111,\"#46039f\"],[0.2222222222222222,\"#7201a8\"],[0.3333333333333333,\"#9c179e\"],[0.4444444444444444,\"#bd3786\"],[0.5555555555555556,\"#d8576b\"],[0.6666666666666666,\"#ed7953\"],[0.7777777777777778,\"#fb9f3a\"],[0.8888888888888888,\"#fdca26\"],[1.0,\"#f0f921\"]]}],\"surface\":[{\"type\":\"surface\",\"colorbar\":{\"outlinewidth\":0,\"ticks\":\"\"},\"colorscale\":[[0.0,\"#0d0887\"],[0.1111111111111111,\"#46039f\"],[0.2222222222222222,\"#7201a8\"],[0.3333333333333333,\"#9c179e\"],[0.4444444444444444,\"#bd3786\"],[0.5555555555555556,\"#d8576b\"],[0.6666666666666666,\"#ed7953\"],[0.7777777777777778,\"#fb9f3a\"],[0.8888888888888888,\"#fdca26\"],[1.0,\"#f0f921\"]]}],\"mesh3d\":[{\"type\":\"mesh3d\",\"colorbar\":{\"outlinewidth\":0,\"ticks\":\"\"}}],\"scatter\":[{\"fillpattern\":{\"fillmode\":\"overlay\",\"size\":10,\"solidity\":0.2},\"type\":\"scatter\"}],\"parcoords\":[{\"type\":\"parcoords\",\"line\":{\"colorbar\":{\"outlinewidth\":0,\"ticks\":\"\"}}}],\"scatterpolargl\":[{\"type\":\"scatterpolargl\",\"marker\":{\"colorbar\":{\"outlinewidth\":0,\"ticks\":\"\"}}}],\"bar\":[{\"error_x\":{\"color\":\"#2a3f5f\"},\"error_y\":{\"color\":\"#2a3f5f\"},\"marker\":{\"line\":{\"color\":\"#E5ECF6\",\"width\":0.5},\"pattern\":{\"fillmode\":\"overlay\",\"size\":10,\"solidity\":0.2}},\"type\":\"bar\"}],\"scattergeo\":[{\"type\":\"scattergeo\",\"marker\":{\"colorbar\":{\"outlinewidth\":0,\"ticks\":\"\"}}}],\"scatterpolar\":[{\"type\":\"scatterpolar\",\"marker\":{\"colorbar\":{\"outlinewidth\":0,\"ticks\":\"\"}}}],\"histogram\":[{\"marker\":{\"pattern\":{\"fillmode\":\"overlay\",\"size\":10,\"solidity\":0.2}},\"type\":\"histogram\"}],\"scattergl\":[{\"type\":\"scattergl\",\"marker\":{\"colorbar\":{\"outlinewidth\":0,\"ticks\":\"\"}}}],\"scatter3d\":[{\"type\":\"scatter3d\",\"line\":{\"colorbar\":{\"outlinewidth\":0,\"ticks\":\"\"}},\"marker\":{\"colorbar\":{\"outlinewidth\":0,\"ticks\":\"\"}}}],\"scattermapbox\":[{\"type\":\"scattermapbox\",\"marker\":{\"colorbar\":{\"outlinewidth\":0,\"ticks\":\"\"}}}],\"scatterternary\":[{\"type\":\"scatterternary\",\"marker\":{\"colorbar\":{\"outlinewidth\":0,\"ticks\":\"\"}}}],\"scattercarpet\":[{\"type\":\"scattercarpet\",\"marker\":{\"colorbar\":{\"outlinewidth\":0,\"ticks\":\"\"}}}],\"carpet\":[{\"aaxis\":{\"endlinecolor\":\"#2a3f5f\",\"gridcolor\":\"white\",\"linecolor\":\"white\",\"minorgridcolor\":\"white\",\"startlinecolor\":\"#2a3f5f\"},\"baxis\":{\"endlinecolor\":\"#2a3f5f\",\"gridcolor\":\"white\",\"linecolor\":\"white\",\"minorgridcolor\":\"white\",\"startlinecolor\":\"#2a3f5f\"},\"type\":\"carpet\"}],\"table\":[{\"cells\":{\"fill\":{\"color\":\"#EBF0F8\"},\"line\":{\"color\":\"white\"}},\"header\":{\"fill\":{\"color\":\"#C8D4E3\"},\"line\":{\"color\":\"white\"}},\"type\":\"table\"}],\"barpolar\":[{\"marker\":{\"line\":{\"color\":\"#E5ECF6\",\"width\":0.5},\"pattern\":{\"fillmode\":\"overlay\",\"size\":10,\"solidity\":0.2}},\"type\":\"barpolar\"}],\"pie\":[{\"automargin\":true,\"type\":\"pie\"}]},\"layout\":{\"autotypenumbers\":\"strict\",\"colorway\":[\"#636efa\",\"#EF553B\",\"#00cc96\",\"#ab63fa\",\"#FFA15A\",\"#19d3f3\",\"#FF6692\",\"#B6E880\",\"#FF97FF\",\"#FECB52\"],\"font\":{\"color\":\"#2a3f5f\"},\"hovermode\":\"closest\",\"hoverlabel\":{\"align\":\"left\"},\"paper_bgcolor\":\"white\",\"plot_bgcolor\":\"#E5ECF6\",\"polar\":{\"bgcolor\":\"#E5ECF6\",\"angularaxis\":{\"gridcolor\":\"white\",\"linecolor\":\"white\",\"ticks\":\"\"},\"radialaxis\":{\"gridcolor\":\"white\",\"linecolor\":\"white\",\"ticks\":\"\"}},\"ternary\":{\"bgcolor\":\"#E5ECF6\",\"aaxis\":{\"gridcolor\":\"white\",\"linecolor\":\"white\",\"ticks\":\"\"},\"baxis\":{\"gridcolor\":\"white\",\"linecolor\":\"white\",\"ticks\":\"\"},\"caxis\":{\"gridcolor\":\"white\",\"linecolor\":\"white\",\"ticks\":\"\"}},\"coloraxis\":{\"colorbar\":{\"outlinewidth\":0,\"ticks\":\"\"}},\"colorscale\":{\"sequential\":[[0.0,\"#0d0887\"],[0.1111111111111111,\"#46039f\"],[0.2222222222222222,\"#7201a8\"],[0.3333333333333333,\"#9c179e\"],[0.4444444444444444,\"#bd3786\"],[0.5555555555555556,\"#d8576b\"],[0.6666666666666666,\"#ed7953\"],[0.7777777777777778,\"#fb9f3a\"],[0.8888888888888888,\"#fdca26\"],[1.0,\"#f0f921\"]],\"sequentialminus\":[[0.0,\"#0d0887\"],[0.1111111111111111,\"#46039f\"],[0.2222222222222222,\"#7201a8\"],[0.3333333333333333,\"#9c179e\"],[0.4444444444444444,\"#bd3786\"],[0.5555555555555556,\"#d8576b\"],[0.6666666666666666,\"#ed7953\"],[0.7777777777777778,\"#fb9f3a\"],[0.8888888888888888,\"#fdca26\"],[1.0,\"#f0f921\"]],\"diverging\":[[0,\"#8e0152\"],[0.1,\"#c51b7d\"],[0.2,\"#de77ae\"],[0.3,\"#f1b6da\"],[0.4,\"#fde0ef\"],[0.5,\"#f7f7f7\"],[0.6,\"#e6f5d0\"],[0.7,\"#b8e186\"],[0.8,\"#7fbc41\"],[0.9,\"#4d9221\"],[1,\"#276419\"]]},\"xaxis\":{\"gridcolor\":\"white\",\"linecolor\":\"white\",\"ticks\":\"\",\"title\":{\"standoff\":15},\"zerolinecolor\":\"white\",\"automargin\":true,\"zerolinewidth\":2},\"yaxis\":{\"gridcolor\":\"white\",\"linecolor\":\"white\",\"ticks\":\"\",\"title\":{\"standoff\":15},\"zerolinecolor\":\"white\",\"automargin\":true,\"zerolinewidth\":2},\"scene\":{\"xaxis\":{\"backgroundcolor\":\"#E5ECF6\",\"gridcolor\":\"white\",\"linecolor\":\"white\",\"showbackground\":true,\"ticks\":\"\",\"zerolinecolor\":\"white\",\"gridwidth\":2},\"yaxis\":{\"backgroundcolor\":\"#E5ECF6\",\"gridcolor\":\"white\",\"linecolor\":\"white\",\"showbackground\":true,\"ticks\":\"\",\"zerolinecolor\":\"white\",\"gridwidth\":2},\"zaxis\":{\"backgroundcolor\":\"#E5ECF6\",\"gridcolor\":\"white\",\"linecolor\":\"white\",\"showbackground\":true,\"ticks\":\"\",\"zerolinecolor\":\"white\",\"gridwidth\":2}},\"shapedefaults\":{\"line\":{\"color\":\"#2a3f5f\"}},\"annotationdefaults\":{\"arrowcolor\":\"#2a3f5f\",\"arrowhead\":0,\"arrowwidth\":1},\"geo\":{\"bgcolor\":\"white\",\"landcolor\":\"#E5ECF6\",\"subunitcolor\":\"white\",\"showland\":true,\"showlakes\":true,\"lakecolor\":\"white\"},\"title\":{\"x\":0.05},\"mapbox\":{\"style\":\"light\"}}},\"xaxis\":{\"anchor\":\"y\",\"domain\":[0.0,1.0],\"title\":{\"text\":\"Date\"},\"rangeselector\":{\"buttons\":[{\"count\":1,\"label\":\"1m\",\"step\":\"month\",\"stepmode\":\"backward\"},{\"count\":6,\"label\":\"6m\",\"step\":\"month\",\"stepmode\":\"backward\"},{\"count\":3,\"label\":\"3m\",\"step\":\"month\",\"stepmode\":\"backward\"},{\"count\":1,\"label\":\"1y\",\"step\":\"year\",\"stepmode\":\"backward\"},{\"step\":\"all\"}]}},\"yaxis\":{\"anchor\":\"x\",\"domain\":[0.0,1.0],\"title\":{\"text\":\"Price\"}},\"legend\":{\"tracegroupgap\":0},\"title\":{\"text\":\"Stock Market Analysis with Time Period Selectors\"},\"yaxis2\":{\"title\":{\"text\":\"Volume (Lakhs)\"},\"overlaying\":\"y\",\"side\":\"right\"},\"height\":700,\"width\":1100,\"bargap\":0.5,\"bargroupgap\":0.1},                        {\"responsive\": true}                    ).then(function(){\n",
       "                            \n",
       "var gd = document.getElementById('67638bb7-18a7-497a-b1e9-c068bfd7b118');\n",
       "var x = new MutationObserver(function (mutations, observer) {{\n",
       "        var display = window.getComputedStyle(gd).display;\n",
       "        if (!display || display === 'none') {{\n",
       "            console.log([gd, 'removed!']);\n",
       "            Plotly.purge(gd);\n",
       "            observer.disconnect();\n",
       "        }}\n",
       "}});\n",
       "\n",
       "// Listen for the removal of the full notebook cells\n",
       "var notebookContainer = gd.closest('#notebook-container');\n",
       "if (notebookContainer) {{\n",
       "    x.observe(notebookContainer, {childList: true});\n",
       "}}\n",
       "\n",
       "// Listen for the clearing of the current output cell\n",
       "var outputEl = gd.closest('.output');\n",
       "if (outputEl) {{\n",
       "    x.observe(outputEl, {childList: true});\n",
       "}}\n",
       "\n",
       "                        })                };                });            </script>        </div>"
      ]
     },
     "metadata": {},
     "output_type": "display_data"
    }
   ],
   "source": [
    "#line chart of date and close\n",
    "figure = px.line(data_1y, x='Date', y='Close',title='Stock Market Analysis with Time Period Selectors')\n",
    "\n",
    "figure.update_xaxes(\n",
    "    rangeselector=dict(\n",
    "        buttons=list([\n",
    "            dict(count=1, label=\"1m\", step=\"month\", stepmode=\"backward\"),\n",
    "            dict(count=6, label=\"6m\", step=\"month\", stepmode=\"backward\"),\n",
    "            dict(count=3, label=\"3m\", step=\"month\", stepmode=\"backward\"),\n",
    "            dict(count=1, label=\"1y\", step=\"year\", stepmode=\"backward\"),\n",
    "            dict(step=\"all\")\n",
    "        ])\n",
    "    )\n",
    ")\n",
    "\n",
    "# Update trace to change line color\n",
    "figure.update_traces(line=dict(color='blue'))\n",
    "\n",
    "#plotting both \n",
    "figure.update_layout(yaxis2=dict(title=\"Price\",overlaying='y',side=\"right\"),height=700,width=1100)\n",
    "\n",
    "#changing the volume in minimum amount for representtion\n",
    "for i in range(1,data_1y.size):\n",
    "    volume =data_1y[\"Volume\"]/1000000\n",
    "\n",
    "figure.add_trace(\n",
    "    go.Bar(x=data_1y[\"Date\"],  # X-axis data (dates)\n",
    "    y=data_1y[\"Volume\"] / 1000000,  # Y-axis data (volume in Lakhs)\n",
    "    name=\"Trading Volume in Lakhs\",  # Legend label\n",
    "    marker=dict(color='red'),  # Specify the bar color here\n",
    "    yaxis='y2'  # Use secondary y-axis for volume\n",
    "))\n",
    "\n",
    "figure.update_layout(\n",
    "    yaxis=dict(title=\"Price\"),  # Primary y-axis title\n",
    "    yaxis2=dict(title=\"Volume (Lakhs)\", overlaying='y', side=\"right\"),  # Secondary y-axis title and position\n",
    "    height=700,\n",
    "    width=1100, #increasing the size of plotting\n",
    "    bargap=0.5,  # Gap between bars\n",
    "    bargroupgap=0.1,  # Gap between groups of bars\n",
    ")\n",
    "\n",
    "figure.show()\n"
   ]
  },
  {
   "cell_type": "markdown",
   "id": "b99932b0-a2b7-4cd7-8936-0e8286d2e30d",
   "metadata": {},
   "source": [
    "\n"
   ]
  },
  {
   "cell_type": "code",
   "execution_count": null,
   "id": "f5ebb472-dbb8-47f3-bba5-ac27a083ebfa",
   "metadata": {},
   "outputs": [],
   "source": []
  },
  {
   "cell_type": "code",
   "execution_count": null,
   "id": "760c306c-4258-4502-be9e-88223311d37f",
   "metadata": {},
   "outputs": [],
   "source": []
  }
 ],
 "metadata": {
  "kernelspec": {
   "display_name": "Python 3 (ipykernel)",
   "language": "python",
   "name": "python3"
  },
  "language_info": {
   "codemirror_mode": {
    "name": "ipython",
    "version": 3
   },
   "file_extension": ".py",
   "mimetype": "text/x-python",
   "name": "python",
   "nbconvert_exporter": "python",
   "pygments_lexer": "ipython3",
   "version": "3.11.7"
  }
 },
 "nbformat": 4,
 "nbformat_minor": 5
}
