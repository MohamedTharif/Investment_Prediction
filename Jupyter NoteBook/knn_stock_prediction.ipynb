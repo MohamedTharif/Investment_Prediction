{
 "cells": [
  {
   "cell_type": "markdown",
   "id": "77e86401-a32b-41a4-b93d-a12b3a978910",
   "metadata": {},
   "source": [
    "# Implementation Of KNN Classifier"
   ]
  },
  {
   "cell_type": "code",
   "execution_count": 2,
   "id": "5ae28c1d-2780-4733-b7ae-ce92f0dbc401",
   "metadata": {},
   "outputs": [],
   "source": [
    "from sklearn import neighbors\n",
    "from sklearn.neighbors import KNeighborsClassifier\n",
    "from sklearn.model_selection import GridSearchCV,train_test_split\n",
    "from sklearn.metrics import accuracy_score\n",
    "\n",
    "import pandas as pd"
   ]
  },
  {
   "cell_type": "code",
   "execution_count": 3,
   "id": "dc475d03-890b-4eab-b478-c98544500dc3",
   "metadata": {},
   "outputs": [],
   "source": [
    "data=pd.read_csv(\"D:\\Projects\\ML_Project\\Scraped_Data\\AAPL.csv\")\n",
    "#print(data)\n",
    "\n",
    "x=data[['Open-Close','High-Low']]\n",
    "#print(x)\n",
    "y=data['target']"
   ]
  },
  {
   "cell_type": "code",
   "execution_count": 4,
   "id": "7b04b563-655d-455f-9ec0-9c1f75a3b3e9",
   "metadata": {},
   "outputs": [],
   "source": [
    "x_train, x_test, y_train, y_test=train_test_split(x,y,test_size=0.25)\n"
   ]
  },
  {
   "cell_type": "code",
   "execution_count": 5,
   "id": "acfc01b1-13d3-4a5d-9428-dad93bc8fa19",
   "metadata": {},
   "outputs": [],
   "source": [
    "\n",
    "#using gridsearch to find the best parameter\n",
    "params = { 'n_neighbors' : [2,3,4,5,6,7,8,9,10,11,12,13,14,15]}\n",
    "knn=neighbors.KNeighborsClassifier()\n",
    "model = GridSearchCV(knn, params, cv=5)\n"
   ]
  },
  {
   "cell_type": "code",
   "execution_count": 6,
   "id": "920bd4c7-6156-49c5-aa31-f6fd94e67de6",
   "metadata": {},
   "outputs": [
    {
     "name": "stdout",
     "output_type": "stream",
     "text": [
      "Train_data Accuracy: 0.60\n",
      "Test_data Accuracy: 0.51\n"
     ]
    }
   ],
   "source": [
    "\n",
    "# fit the model\n",
    "model.fit(x_train, y_train)\n",
    "\n",
    "#predicted_values=model.predict(x_test)\n",
    "# Accuracy Score\n",
    "accuracy_train = accuracy_score(y_train,model.predict(x_train))\n",
    "accuracy_test =accuracy_score(y_test,model.predict(x_test))\n",
    "print('Train_data Accuracy: %.2f' %accuracy_train)\n",
    "print( 'Test_data Accuracy: %.2f' %accuracy_test)"
   ]
  },
  {
   "cell_type": "code",
   "execution_count": 7,
   "id": "21731c29-97e1-464c-80fa-50e15d7af626",
   "metadata": {},
   "outputs": [
    {
     "data": {
      "text/html": [
       "<div>\n",
       "<style scoped>\n",
       "    .dataframe tbody tr th:only-of-type {\n",
       "        vertical-align: middle;\n",
       "    }\n",
       "\n",
       "    .dataframe tbody tr th {\n",
       "        vertical-align: top;\n",
       "    }\n",
       "\n",
       "    .dataframe thead th {\n",
       "        text-align: right;\n",
       "    }\n",
       "</style>\n",
       "<table border=\"1\" class=\"dataframe\">\n",
       "  <thead>\n",
       "    <tr style=\"text-align: right;\">\n",
       "      <th></th>\n",
       "      <th>Actual Value</th>\n",
       "      <th>Predicted value</th>\n",
       "    </tr>\n",
       "  </thead>\n",
       "  <tbody>\n",
       "    <tr>\n",
       "      <th>1100</th>\n",
       "      <td>-1</td>\n",
       "      <td>-1</td>\n",
       "    </tr>\n",
       "    <tr>\n",
       "      <th>6084</th>\n",
       "      <td>1</td>\n",
       "      <td>-1</td>\n",
       "    </tr>\n",
       "    <tr>\n",
       "      <th>2635</th>\n",
       "      <td>-1</td>\n",
       "      <td>1</td>\n",
       "    </tr>\n",
       "    <tr>\n",
       "      <th>3183</th>\n",
       "      <td>-1</td>\n",
       "      <td>1</td>\n",
       "    </tr>\n",
       "    <tr>\n",
       "      <th>34</th>\n",
       "      <td>1</td>\n",
       "      <td>1</td>\n",
       "    </tr>\n",
       "    <tr>\n",
       "      <th>140</th>\n",
       "      <td>1</td>\n",
       "      <td>-1</td>\n",
       "    </tr>\n",
       "    <tr>\n",
       "      <th>3663</th>\n",
       "      <td>1</td>\n",
       "      <td>-1</td>\n",
       "    </tr>\n",
       "    <tr>\n",
       "      <th>1153</th>\n",
       "      <td>-1</td>\n",
       "      <td>1</td>\n",
       "    </tr>\n",
       "    <tr>\n",
       "      <th>9059</th>\n",
       "      <td>-1</td>\n",
       "      <td>-1</td>\n",
       "    </tr>\n",
       "    <tr>\n",
       "      <th>824</th>\n",
       "      <td>-1</td>\n",
       "      <td>-1</td>\n",
       "    </tr>\n",
       "  </tbody>\n",
       "</table>\n",
       "</div>"
      ],
      "text/plain": [
       "      Actual Value  Predicted value\n",
       "1100            -1               -1\n",
       "6084             1               -1\n",
       "2635            -1                1\n",
       "3183            -1                1\n",
       "34               1                1\n",
       "140              1               -1\n",
       "3663             1               -1\n",
       "1153            -1                1\n",
       "9059            -1               -1\n",
       "824             -1               -1"
      ]
     },
     "execution_count": 7,
     "metadata": {},
     "output_type": "execute_result"
    }
   ],
   "source": [
    "predicted_value=model.predict(x_test)\n",
    "actual_predicted_data=pd.DataFrame({'Actual Value':y_test,'Predicted value':predicted_value})\n",
    "actual_predicted_data.head(10)"
   ]
  },
  {
   "cell_type": "markdown",
   "id": "de0b68cd-b3bd-477d-b5f6-3d979ab70332",
   "metadata": {},
   "source": [
    "# Implementation of KNN Regressor"
   ]
  },
  {
   "cell_type": "code",
   "execution_count": 8,
   "id": "78c9d453-37f4-4a2d-a297-35ddb14b966c",
   "metadata": {},
   "outputs": [],
   "source": [
    "from sklearn import neighbors\n",
    "from sklearn.neighbors import KNeighborsRegressor"
   ]
  },
  {
   "cell_type": "code",
   "execution_count": 19,
   "id": "78dce395-79aa-494b-8a47-4d55e08e51c9",
   "metadata": {},
   "outputs": [],
   "source": [
    "Y=data['Close']"
   ]
  },
  {
   "cell_type": "code",
   "execution_count": 23,
   "id": "57400c2c-f9db-4730-b9c5-dd7aa38296bd",
   "metadata": {},
   "outputs": [],
   "source": [
    "x_train_reg, x_test_reg, y_train_reg, y_test_reg=train_test_split(x,Y,test_size=0.25,random_state=44)\n"
   ]
  },
  {
   "cell_type": "code",
   "execution_count": 24,
   "id": "c6493961-b217-4bfc-a403-d2532bcf6a04",
   "metadata": {},
   "outputs": [],
   "source": [
    "\n",
    "#using gridsearch to find the best parameter\n",
    "params = { 'n_neighbors' : [2,3,4,5,6,7,8,9,10,11,12,13,14,15]}\n",
    "knn_reg=neighbors.KNeighborsRegressor()\n",
    "model_reg = GridSearchCV(knn_reg, params, cv=5)\n"
   ]
  },
  {
   "cell_type": "code",
   "execution_count": 36,
   "id": "9b5d7cc2-7c2b-49e8-b685-7ed48a806e52",
   "metadata": {},
   "outputs": [
    {
     "name": "stdout",
     "output_type": "stream",
     "text": [
      "[ 0.3315998  16.12835697  0.43390347 ... 18.83919055  0.05684547\n",
      "  9.60192839]\n"
     ]
    }
   ],
   "source": [
    "\n",
    "# fit the model\n",
    "model_reg.fit(x_train_reg, y_train_reg)\n",
    "\n",
    "\n",
    "predicted_value_reg=model_reg.predict(x_test_reg)\n",
    "# Accuracy Score\n",
    "# accuracy_train_reg = accuracy_score(y_train_reg,model.predict(x_train_reg))\n",
    "#accuracy_test_reg =accuracy_score(y_test_reg,model.predict(x_test_reg))\n",
    "#print('Train_data Accuracy: %.2f' %accuracy_train_reg)\n",
    "#print( 'Test_data Accuracy: %.2f' %accuracy_test_reg)\n",
    "\n",
    "print(predicted_value_reg)"
   ]
  },
  {
   "cell_type": "code",
   "execution_count": 31,
   "id": "6284031f-80f5-45ff-b733-a5701990899d",
   "metadata": {},
   "outputs": [
    {
     "name": "stdout",
     "output_type": "stream",
     "text": [
      "50.93250154298542\n"
     ]
    }
   ],
   "source": [
    "import numpy as np\n",
    "rms=np.sqrt(np.mean(np.power(np.array(y_test_reg-np.array(predicted_value_reg)),2)))\n",
    "print(rms)"
   ]
  },
  {
   "cell_type": "code",
   "execution_count": 37,
   "id": "061658e9-9c52-47db-b0eb-2ce9c294fb39",
   "metadata": {},
   "outputs": [
    {
     "name": "stdout",
     "output_type": "stream",
     "text": [
      "       Actual Value  Predicted value\n",
      "5271       0.333393         0.331600\n",
      "8341      19.409286        16.128357\n",
      "4494       0.342076         0.433903\n",
      "7443       9.274643         5.809690\n",
      "841        0.110491         0.131176\n",
      "...             ...              ...\n",
      "4420       0.252232         0.233516\n",
      "1109       0.085938         0.174554\n",
      "10115    143.160004       155.319498\n",
      "7492       8.568929         7.431309\n",
      "1578       0.291295         0.369080\n",
      "\n",
      "[100 rows x 2 columns]\n"
     ]
    }
   ],
   "source": [
    "\n",
    "actual_predicted_data_reg=pd.DataFrame({'Actual Value':y_test_reg,'Predicted value':predicted_value_reg})\n",
    "print(actual_predicted_data_reg.head(100))"
   ]
  }
 ],
 "metadata": {
  "kernelspec": {
   "display_name": "Python 3 (ipykernel)",
   "language": "python",
   "name": "python3"
  },
  "language_info": {
   "codemirror_mode": {
    "name": "ipython",
    "version": 3
   },
   "file_extension": ".py",
   "mimetype": "text/x-python",
   "name": "python",
   "nbconvert_exporter": "python",
   "pygments_lexer": "ipython3",
   "version": "3.11.7"
  }
 },
 "nbformat": 4,
 "nbformat_minor": 5
}
